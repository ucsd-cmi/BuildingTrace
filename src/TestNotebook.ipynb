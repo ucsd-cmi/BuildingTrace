{
 "cells": [
  {
   "cell_type": "code",
   "execution_count": 7,
   "id": "2b2ce4a1",
   "metadata": {},
   "outputs": [
    {
     "name": "stdout",
     "output_type": "stream",
     "text": [
      "Collecting arcgis\n",
      "  Downloading arcgis-1.9.1.tar.gz (3.5 MB)\n",
      "\u001b[K     |████████████████████████████████| 3.5 MB 3.5 MB/s eta 0:00:01\n",
      "\u001b[?25hRequirement already satisfied: cachetools in /Users/yijianzong/opt/anaconda3/lib/python3.9/site-packages (from arcgis) (4.2.4)\n",
      "Requirement already satisfied: six in /Users/yijianzong/opt/anaconda3/lib/python3.9/site-packages (from arcgis) (1.16.0)\n",
      "Requirement already satisfied: ipywidgets>=7 in /Users/yijianzong/opt/anaconda3/lib/python3.9/site-packages (from arcgis) (7.6.5)\n",
      "Requirement already satisfied: widgetsnbextension>=3 in /Users/yijianzong/opt/anaconda3/lib/python3.9/site-packages (from arcgis) (3.5.1)\n",
      "Requirement already satisfied: pandas>=1 in /Users/yijianzong/opt/anaconda3/lib/python3.9/site-packages (from arcgis) (1.3.4)\n",
      "Requirement already satisfied: numpy>=1.16.2 in /Users/yijianzong/opt/anaconda3/lib/python3.9/site-packages (from arcgis) (1.20.3)\n",
      "Requirement already satisfied: matplotlib in /Users/yijianzong/opt/anaconda3/lib/python3.9/site-packages (from arcgis) (3.4.3)\n",
      "Collecting keyring<=21.8.*,>=19\n",
      "  Using cached keyring-21.7.0-py3-none-any.whl (32 kB)\n",
      "Collecting lerc\n",
      "  Using cached lerc-0.1.0-py3-none-any.whl\n",
      "Requirement already satisfied: ujson>=3 in /Users/yijianzong/opt/anaconda3/lib/python3.9/site-packages (from arcgis) (4.0.2)\n",
      "Requirement already satisfied: jupyterlab in /Users/yijianzong/opt/anaconda3/lib/python3.9/site-packages (from arcgis) (3.2.1)\n",
      "Collecting python-certifi-win32\n",
      "  Using cached python_certifi_win32-1.6-py2.py3-none-any.whl (7.2 kB)\n",
      "Collecting pyshp>=2\n",
      "  Using cached pyshp-2.1.3-py3-none-any.whl\n",
      "Collecting geomet\n",
      "  Using cached geomet-0.3.0-py3-none-any.whl (28 kB)\n",
      "Requirement already satisfied: requests in /Users/yijianzong/opt/anaconda3/lib/python3.9/site-packages (from arcgis) (2.26.0)\n",
      "Requirement already satisfied: requests-oauthlib in /Users/yijianzong/opt/anaconda3/lib/python3.9/site-packages (from arcgis) (1.3.0)\n",
      "Collecting requests_toolbelt\n",
      "  Using cached requests_toolbelt-0.9.1-py2.py3-none-any.whl (54 kB)\n",
      "Collecting requests_ntlm\n",
      "  Using cached requests_ntlm-1.1.0-py2.py3-none-any.whl (5.7 kB)\n",
      "Requirement already satisfied: jupyterlab-widgets>=1.0.0 in /Users/yijianzong/opt/anaconda3/lib/python3.9/site-packages (from ipywidgets>=7->arcgis) (1.0.0)\n",
      "Requirement already satisfied: ipykernel>=4.5.1 in /Users/yijianzong/opt/anaconda3/lib/python3.9/site-packages (from ipywidgets>=7->arcgis) (6.4.1)\n",
      "Requirement already satisfied: traitlets>=4.3.1 in /Users/yijianzong/opt/anaconda3/lib/python3.9/site-packages (from ipywidgets>=7->arcgis) (5.1.0)\n",
      "Requirement already satisfied: ipython>=4.0.0 in /Users/yijianzong/opt/anaconda3/lib/python3.9/site-packages (from ipywidgets>=7->arcgis) (7.29.0)\n",
      "Requirement already satisfied: ipython-genutils~=0.2.0 in /Users/yijianzong/opt/anaconda3/lib/python3.9/site-packages (from ipywidgets>=7->arcgis) (0.2.0)\n",
      "Requirement already satisfied: nbformat>=4.2.0 in /Users/yijianzong/opt/anaconda3/lib/python3.9/site-packages (from ipywidgets>=7->arcgis) (5.1.3)\n",
      "Requirement already satisfied: appnope in /Users/yijianzong/opt/anaconda3/lib/python3.9/site-packages (from ipykernel>=4.5.1->ipywidgets>=7->arcgis) (0.1.2)\n",
      "Requirement already satisfied: tornado<7.0,>=4.2 in /Users/yijianzong/opt/anaconda3/lib/python3.9/site-packages (from ipykernel>=4.5.1->ipywidgets>=7->arcgis) (6.1)\n",
      "Requirement already satisfied: debugpy<2.0,>=1.0.0 in /Users/yijianzong/opt/anaconda3/lib/python3.9/site-packages (from ipykernel>=4.5.1->ipywidgets>=7->arcgis) (1.4.1)\n",
      "Requirement already satisfied: matplotlib-inline<0.2.0,>=0.1.0 in /Users/yijianzong/opt/anaconda3/lib/python3.9/site-packages (from ipykernel>=4.5.1->ipywidgets>=7->arcgis) (0.1.2)\n",
      "Requirement already satisfied: jupyter-client<8.0 in /Users/yijianzong/opt/anaconda3/lib/python3.9/site-packages (from ipykernel>=4.5.1->ipywidgets>=7->arcgis) (6.1.12)\n",
      "Requirement already satisfied: pickleshare in /Users/yijianzong/opt/anaconda3/lib/python3.9/site-packages (from ipython>=4.0.0->ipywidgets>=7->arcgis) (0.7.5)\n",
      "Requirement already satisfied: setuptools>=18.5 in /Users/yijianzong/opt/anaconda3/lib/python3.9/site-packages (from ipython>=4.0.0->ipywidgets>=7->arcgis) (58.0.4)\n",
      "Requirement already satisfied: prompt-toolkit!=3.0.0,!=3.0.1,<3.1.0,>=2.0.0 in /Users/yijianzong/opt/anaconda3/lib/python3.9/site-packages (from ipython>=4.0.0->ipywidgets>=7->arcgis) (3.0.20)\n",
      "Requirement already satisfied: jedi>=0.16 in /Users/yijianzong/opt/anaconda3/lib/python3.9/site-packages (from ipython>=4.0.0->ipywidgets>=7->arcgis) (0.18.0)\n",
      "Requirement already satisfied: pygments in /Users/yijianzong/opt/anaconda3/lib/python3.9/site-packages (from ipython>=4.0.0->ipywidgets>=7->arcgis) (2.10.0)\n",
      "Requirement already satisfied: pexpect>4.3 in /Users/yijianzong/opt/anaconda3/lib/python3.9/site-packages (from ipython>=4.0.0->ipywidgets>=7->arcgis) (4.8.0)\n",
      "Requirement already satisfied: backcall in /Users/yijianzong/opt/anaconda3/lib/python3.9/site-packages (from ipython>=4.0.0->ipywidgets>=7->arcgis) (0.2.0)\n",
      "Requirement already satisfied: decorator in /Users/yijianzong/opt/anaconda3/lib/python3.9/site-packages (from ipython>=4.0.0->ipywidgets>=7->arcgis) (5.1.0)\n",
      "Requirement already satisfied: parso<0.9.0,>=0.8.0 in /Users/yijianzong/opt/anaconda3/lib/python3.9/site-packages (from jedi>=0.16->ipython>=4.0.0->ipywidgets>=7->arcgis) (0.8.2)\n",
      "Requirement already satisfied: python-dateutil>=2.1 in /Users/yijianzong/opt/anaconda3/lib/python3.9/site-packages (from jupyter-client<8.0->ipykernel>=4.5.1->ipywidgets>=7->arcgis) (2.8.2)\n",
      "Requirement already satisfied: pyzmq>=13 in /Users/yijianzong/opt/anaconda3/lib/python3.9/site-packages (from jupyter-client<8.0->ipykernel>=4.5.1->ipywidgets>=7->arcgis) (22.2.1)\n",
      "Requirement already satisfied: jupyter-core>=4.6.0 in /Users/yijianzong/opt/anaconda3/lib/python3.9/site-packages (from jupyter-client<8.0->ipykernel>=4.5.1->ipywidgets>=7->arcgis) (4.8.1)\n",
      "Requirement already satisfied: jsonschema!=2.5.0,>=2.4 in /Users/yijianzong/opt/anaconda3/lib/python3.9/site-packages (from nbformat>=4.2.0->ipywidgets>=7->arcgis) (3.2.0)\n",
      "Requirement already satisfied: attrs>=17.4.0 in /Users/yijianzong/opt/anaconda3/lib/python3.9/site-packages (from jsonschema!=2.5.0,>=2.4->nbformat>=4.2.0->ipywidgets>=7->arcgis) (21.2.0)\n",
      "Requirement already satisfied: pyrsistent>=0.14.0 in /Users/yijianzong/opt/anaconda3/lib/python3.9/site-packages (from jsonschema!=2.5.0,>=2.4->nbformat>=4.2.0->ipywidgets>=7->arcgis) (0.18.0)\n",
      "Requirement already satisfied: pytz>=2017.3 in /Users/yijianzong/opt/anaconda3/lib/python3.9/site-packages (from pandas>=1->arcgis) (2021.3)\n",
      "Requirement already satisfied: ptyprocess>=0.5 in /Users/yijianzong/opt/anaconda3/lib/python3.9/site-packages (from pexpect>4.3->ipython>=4.0.0->ipywidgets>=7->arcgis) (0.7.0)\n",
      "Requirement already satisfied: wcwidth in /Users/yijianzong/opt/anaconda3/lib/python3.9/site-packages (from prompt-toolkit!=3.0.0,!=3.0.1,<3.1.0,>=2.0.0->ipython>=4.0.0->ipywidgets>=7->arcgis) (0.2.5)\n",
      "Requirement already satisfied: notebook>=4.4.1 in /Users/yijianzong/opt/anaconda3/lib/python3.9/site-packages (from widgetsnbextension>=3->arcgis) (6.4.5)\n",
      "Requirement already satisfied: argon2-cffi in /Users/yijianzong/opt/anaconda3/lib/python3.9/site-packages (from notebook>=4.4.1->widgetsnbextension>=3->arcgis) (20.1.0)\n",
      "Requirement already satisfied: Send2Trash>=1.5.0 in /Users/yijianzong/opt/anaconda3/lib/python3.9/site-packages (from notebook>=4.4.1->widgetsnbextension>=3->arcgis) (1.8.0)\n",
      "Requirement already satisfied: terminado>=0.8.3 in /Users/yijianzong/opt/anaconda3/lib/python3.9/site-packages (from notebook>=4.4.1->widgetsnbextension>=3->arcgis) (0.9.4)\n",
      "Requirement already satisfied: prometheus-client in /Users/yijianzong/opt/anaconda3/lib/python3.9/site-packages (from notebook>=4.4.1->widgetsnbextension>=3->arcgis) (0.11.0)\n",
      "Requirement already satisfied: jinja2 in /Users/yijianzong/opt/anaconda3/lib/python3.9/site-packages (from notebook>=4.4.1->widgetsnbextension>=3->arcgis) (2.11.3)\n",
      "Requirement already satisfied: nbconvert in /Users/yijianzong/opt/anaconda3/lib/python3.9/site-packages (from notebook>=4.4.1->widgetsnbextension>=3->arcgis) (6.1.0)\n",
      "Requirement already satisfied: cffi>=1.0.0 in /Users/yijianzong/opt/anaconda3/lib/python3.9/site-packages (from argon2-cffi->notebook>=4.4.1->widgetsnbextension>=3->arcgis) (1.14.6)\n",
      "Requirement already satisfied: pycparser in /Users/yijianzong/opt/anaconda3/lib/python3.9/site-packages (from cffi>=1.0.0->argon2-cffi->notebook>=4.4.1->widgetsnbextension>=3->arcgis) (2.20)\n",
      "Requirement already satisfied: click in /Users/yijianzong/opt/anaconda3/lib/python3.9/site-packages (from geomet->arcgis) (8.0.3)\n",
      "Requirement already satisfied: MarkupSafe>=0.23 in /Users/yijianzong/opt/anaconda3/lib/python3.9/site-packages (from jinja2->notebook>=4.4.1->widgetsnbextension>=3->arcgis) (1.1.1)\n",
      "Requirement already satisfied: packaging in /Users/yijianzong/opt/anaconda3/lib/python3.9/site-packages (from jupyterlab->arcgis) (21.0)\n",
      "Requirement already satisfied: jupyterlab-server~=2.3 in /Users/yijianzong/opt/anaconda3/lib/python3.9/site-packages (from jupyterlab->arcgis) (2.8.2)\n",
      "Requirement already satisfied: jupyter-server~=1.4 in /Users/yijianzong/opt/anaconda3/lib/python3.9/site-packages (from jupyterlab->arcgis) (1.4.1)\n",
      "Requirement already satisfied: nbclassic~=0.2 in /Users/yijianzong/opt/anaconda3/lib/python3.9/site-packages (from jupyterlab->arcgis) (0.2.6)\n"
     ]
    },
    {
     "name": "stdout",
     "output_type": "stream",
     "text": [
      "Requirement already satisfied: anyio>=2.0.2 in /Users/yijianzong/opt/anaconda3/lib/python3.9/site-packages (from jupyter-server~=1.4->jupyterlab->arcgis) (2.2.0)\n",
      "Requirement already satisfied: idna>=2.8 in /Users/yijianzong/opt/anaconda3/lib/python3.9/site-packages (from anyio>=2.0.2->jupyter-server~=1.4->jupyterlab->arcgis) (3.2)\n",
      "Requirement already satisfied: sniffio>=1.1 in /Users/yijianzong/opt/anaconda3/lib/python3.9/site-packages (from anyio>=2.0.2->jupyter-server~=1.4->jupyterlab->arcgis) (1.2.0)\n",
      "Requirement already satisfied: entrypoints>=0.2.2 in /Users/yijianzong/opt/anaconda3/lib/python3.9/site-packages (from jupyterlab-server~=2.3->jupyterlab->arcgis) (0.3)\n",
      "Requirement already satisfied: babel in /Users/yijianzong/opt/anaconda3/lib/python3.9/site-packages (from jupyterlab-server~=2.3->jupyterlab->arcgis) (2.9.1)\n",
      "Requirement already satisfied: json5 in /Users/yijianzong/opt/anaconda3/lib/python3.9/site-packages (from jupyterlab-server~=2.3->jupyterlab->arcgis) (0.9.6)\n",
      "Requirement already satisfied: pyparsing>=2.2.1 in /Users/yijianzong/opt/anaconda3/lib/python3.9/site-packages (from matplotlib->arcgis) (3.0.4)\n",
      "Requirement already satisfied: pillow>=6.2.0 in /Users/yijianzong/opt/anaconda3/lib/python3.9/site-packages (from matplotlib->arcgis) (8.4.0)\n",
      "Requirement already satisfied: cycler>=0.10 in /Users/yijianzong/opt/anaconda3/lib/python3.9/site-packages (from matplotlib->arcgis) (0.10.0)\n",
      "Requirement already satisfied: kiwisolver>=1.0.1 in /Users/yijianzong/opt/anaconda3/lib/python3.9/site-packages (from matplotlib->arcgis) (1.3.1)\n",
      "Requirement already satisfied: defusedxml in /Users/yijianzong/opt/anaconda3/lib/python3.9/site-packages (from nbconvert->notebook>=4.4.1->widgetsnbextension>=3->arcgis) (0.7.1)\n",
      "Requirement already satisfied: bleach in /Users/yijianzong/opt/anaconda3/lib/python3.9/site-packages (from nbconvert->notebook>=4.4.1->widgetsnbextension>=3->arcgis) (4.0.0)\n",
      "Requirement already satisfied: jupyterlab-pygments in /Users/yijianzong/opt/anaconda3/lib/python3.9/site-packages (from nbconvert->notebook>=4.4.1->widgetsnbextension>=3->arcgis) (0.1.2)\n",
      "Requirement already satisfied: testpath in /Users/yijianzong/opt/anaconda3/lib/python3.9/site-packages (from nbconvert->notebook>=4.4.1->widgetsnbextension>=3->arcgis) (0.5.0)\n",
      "Requirement already satisfied: mistune<2,>=0.8.1 in /Users/yijianzong/opt/anaconda3/lib/python3.9/site-packages (from nbconvert->notebook>=4.4.1->widgetsnbextension>=3->arcgis) (0.8.4)\n",
      "Requirement already satisfied: nbclient<0.6.0,>=0.5.0 in /Users/yijianzong/opt/anaconda3/lib/python3.9/site-packages (from nbconvert->notebook>=4.4.1->widgetsnbextension>=3->arcgis) (0.5.3)\n",
      "Requirement already satisfied: pandocfilters>=1.4.1 in /Users/yijianzong/opt/anaconda3/lib/python3.9/site-packages (from nbconvert->notebook>=4.4.1->widgetsnbextension>=3->arcgis) (1.4.3)\n",
      "Requirement already satisfied: nest-asyncio in /Users/yijianzong/opt/anaconda3/lib/python3.9/site-packages (from nbclient<0.6.0,>=0.5.0->nbconvert->notebook>=4.4.1->widgetsnbextension>=3->arcgis) (1.5.1)\n",
      "Requirement already satisfied: async-generator in /Users/yijianzong/opt/anaconda3/lib/python3.9/site-packages (from nbclient<0.6.0,>=0.5.0->nbconvert->notebook>=4.4.1->widgetsnbextension>=3->arcgis) (1.10)\n",
      "Requirement already satisfied: webencodings in /Users/yijianzong/opt/anaconda3/lib/python3.9/site-packages (from bleach->nbconvert->notebook>=4.4.1->widgetsnbextension>=3->arcgis) (0.5.1)\n",
      "Collecting setuptools-scm\n",
      "  Using cached setuptools_scm-6.3.2-py3-none-any.whl (33 kB)\n",
      "Requirement already satisfied: certifi in /Users/yijianzong/opt/anaconda3/lib/python3.9/site-packages (from python-certifi-win32->arcgis) (2021.10.8)\n",
      "Requirement already satisfied: wrapt>=1.10.4 in /Users/yijianzong/opt/anaconda3/lib/python3.9/site-packages (from python-certifi-win32->arcgis) (1.12.1)\n",
      "Requirement already satisfied: urllib3<1.27,>=1.21.1 in /Users/yijianzong/opt/anaconda3/lib/python3.9/site-packages (from requests->arcgis) (1.26.7)\n",
      "Requirement already satisfied: charset-normalizer~=2.0.0 in /Users/yijianzong/opt/anaconda3/lib/python3.9/site-packages (from requests->arcgis) (2.0.4)\n",
      "Requirement already satisfied: cryptography>=1.3 in /Users/yijianzong/opt/anaconda3/lib/python3.9/site-packages (from requests_ntlm->arcgis) (3.4.8)\n",
      "Collecting ntlm-auth>=1.0.2\n",
      "  Using cached ntlm_auth-1.5.0-py2.py3-none-any.whl (29 kB)\n",
      "Requirement already satisfied: oauthlib>=3.0.0 in /Users/yijianzong/opt/anaconda3/lib/python3.9/site-packages (from requests-oauthlib->arcgis) (3.1.1)\n",
      "Collecting tomli>=1.0.0\n",
      "  Using cached tomli-2.0.0-py3-none-any.whl (12 kB)\n",
      "Building wheels for collected packages: arcgis\n",
      "  Building wheel for arcgis (setup.py) ... \u001b[?25ldone\n",
      "\u001b[?25h  Created wheel for arcgis: filename=arcgis-1.9.1-py2.py3-none-any.whl size=3748927 sha256=024cb2528183c41a602272058e8d0b7fef197f3f5df3d1ee1ddbf9a46c0bbf87\n",
      "  Stored in directory: /Users/yijianzong/Library/Caches/pip/wheels/d8/cb/d8/b1d656450840c5c1c7eb60ba647f15a9991e87af4d05c92907\n",
      "Successfully built arcgis\n",
      "Installing collected packages: tomli, setuptools-scm, ntlm-auth, requests-toolbelt, requests-ntlm, python-certifi-win32, pyshp, lerc, keyring, geomet, arcgis\n",
      "  Attempting uninstall: keyring\n",
      "    Found existing installation: keyring 23.1.0\n",
      "    Uninstalling keyring-23.1.0:\n",
      "      Successfully uninstalled keyring-23.1.0\n",
      "\u001b[31mERROR: pip's dependency resolver does not currently take into account all the packages that are installed. This behaviour is the source of the following dependency conflicts.\n",
      "spyder 5.1.5 requires pyqt5<5.13, which is not installed.\n",
      "spyder 5.1.5 requires pyqtwebengine<5.13, which is not installed.\u001b[0m\n",
      "Successfully installed arcgis-1.9.1 geomet-0.3.0 keyring-21.7.0 lerc-0.1.0 ntlm-auth-1.5.0 pyshp-2.1.3 python-certifi-win32-1.6 requests-ntlm-1.1.0 requests-toolbelt-0.9.1 setuptools-scm-6.3.2 tomli-2.0.0\n"
     ]
    }
   ],
   "source": [
    "!pip3 install arcgis"
   ]
  },
  {
   "cell_type": "code",
   "execution_count": 42,
   "id": "instant-victory",
   "metadata": {
    "scrolled": true
   },
   "outputs": [],
   "source": [
    "from layer_update import updateBuilding, ArcgisOperation"
   ]
  },
  {
   "cell_type": "code",
   "execution_count": 43,
   "id": "thirty-weather",
   "metadata": {
    "scrolled": true
   },
   "outputs": [
    {
     "name": "stdout",
     "output_type": "stream",
     "text": [
      "login success\n"
     ]
    }
   ],
   "source": [
    "arcgis = ArcgisOperation()"
   ]
  },
  {
   "cell_type": "code",
   "execution_count": 11,
   "id": "metric-newsletter",
   "metadata": {
    "scrolled": true
   },
   "outputs": [
    {
     "ename": "KeyboardInterrupt",
     "evalue": "",
     "output_type": "error",
     "traceback": [
      "\u001b[0;31m---------------------------------------------------------------------------\u001b[0m",
      "\u001b[0;31mKeyboardInterrupt\u001b[0m                         Traceback (most recent call last)",
      "\u001b[0;32m~/opt/anaconda3/lib/python3.9/site-packages/arcgis/_impl/common/_clone.py\u001b[0m in \u001b[0;36mclone\u001b[0;34m(self)\u001b[0m\n\u001b[1;32m   1157\u001b[0m             \u001b[0;32mwith\u001b[0m \u001b[0mconcurrent\u001b[0m\u001b[0;34m.\u001b[0m\u001b[0mfutures\u001b[0m\u001b[0;34m.\u001b[0m\u001b[0mThreadPoolExecutor\u001b[0m\u001b[0;34m(\u001b[0m\u001b[0mmax_workers\u001b[0m\u001b[0;34m=\u001b[0m\u001b[0;36m20\u001b[0m\u001b[0;34m)\u001b[0m \u001b[0;32mas\u001b[0m \u001b[0mexecutor\u001b[0m\u001b[0;34m:\u001b[0m\u001b[0;34m\u001b[0m\u001b[0;34m\u001b[0m\u001b[0m\n\u001b[0;32m-> 1158\u001b[0;31m                 \u001b[0mresults\u001b[0m \u001b[0;34m=\u001b[0m \u001b[0mexecutor\u001b[0m\u001b[0;34m.\u001b[0m\u001b[0msubmit\u001b[0m\u001b[0;34m(\u001b[0m\u001b[0mself\u001b[0m\u001b[0;34m.\u001b[0m\u001b[0m_clone\u001b[0m\u001b[0;34m,\u001b[0m \u001b[0mexecutor\u001b[0m\u001b[0;34m)\u001b[0m\u001b[0;34m.\u001b[0m\u001b[0mresult\u001b[0m\u001b[0;34m(\u001b[0m\u001b[0;34m)\u001b[0m\u001b[0;34m\u001b[0m\u001b[0;34m\u001b[0m\u001b[0m\n\u001b[0m\u001b[1;32m   1159\u001b[0m                 \u001b[0;32mreturn\u001b[0m \u001b[0mresults\u001b[0m\u001b[0;34m\u001b[0m\u001b[0;34m\u001b[0m\u001b[0m\n",
      "\u001b[0;32m~/opt/anaconda3/lib/python3.9/concurrent/futures/_base.py\u001b[0m in \u001b[0;36mresult\u001b[0;34m(self, timeout)\u001b[0m\n\u001b[1;32m    439\u001b[0m \u001b[0;34m\u001b[0m\u001b[0m\n\u001b[0;32m--> 440\u001b[0;31m                 \u001b[0mself\u001b[0m\u001b[0;34m.\u001b[0m\u001b[0m_condition\u001b[0m\u001b[0;34m.\u001b[0m\u001b[0mwait\u001b[0m\u001b[0;34m(\u001b[0m\u001b[0mtimeout\u001b[0m\u001b[0;34m)\u001b[0m\u001b[0;34m\u001b[0m\u001b[0;34m\u001b[0m\u001b[0m\n\u001b[0m\u001b[1;32m    441\u001b[0m \u001b[0;34m\u001b[0m\u001b[0m\n",
      "\u001b[0;32m~/opt/anaconda3/lib/python3.9/threading.py\u001b[0m in \u001b[0;36mwait\u001b[0;34m(self, timeout)\u001b[0m\n\u001b[1;32m    311\u001b[0m             \u001b[0;32mif\u001b[0m \u001b[0mtimeout\u001b[0m \u001b[0;32mis\u001b[0m \u001b[0;32mNone\u001b[0m\u001b[0;34m:\u001b[0m\u001b[0;34m\u001b[0m\u001b[0;34m\u001b[0m\u001b[0m\n\u001b[0;32m--> 312\u001b[0;31m                 \u001b[0mwaiter\u001b[0m\u001b[0;34m.\u001b[0m\u001b[0macquire\u001b[0m\u001b[0;34m(\u001b[0m\u001b[0;34m)\u001b[0m\u001b[0;34m\u001b[0m\u001b[0;34m\u001b[0m\u001b[0m\n\u001b[0m\u001b[1;32m    313\u001b[0m                 \u001b[0mgotit\u001b[0m \u001b[0;34m=\u001b[0m \u001b[0;32mTrue\u001b[0m\u001b[0;34m\u001b[0m\u001b[0;34m\u001b[0m\u001b[0m\n",
      "\u001b[0;31mKeyboardInterrupt\u001b[0m: ",
      "\nDuring handling of the above exception, another exception occurred:\n",
      "\u001b[0;31mKeyboardInterrupt\u001b[0m                         Traceback (most recent call last)",
      "\u001b[0;32m/var/folders/4l/nky0ggfx167ctfyh4534jv840000gn/T/ipykernel_5354/2621027854.py\u001b[0m in \u001b[0;36m<module>\u001b[0;34m\u001b[0m\n\u001b[1;32m      1\u001b[0m \u001b[0mgis_item\u001b[0m \u001b[0;34m=\u001b[0m \u001b[0marcgis\u001b[0m\u001b[0;34m.\u001b[0m\u001b[0mgetItemById\u001b[0m\u001b[0;34m(\u001b[0m\u001b[0;34m'406b12a24ef64bfa9d8d8d2d9cab6987'\u001b[0m\u001b[0;34m)\u001b[0m\u001b[0;34m\u001b[0m\u001b[0;34m\u001b[0m\u001b[0m\n\u001b[0;32m----> 2\u001b[0;31m \u001b[0marcgis\u001b[0m\u001b[0;34m.\u001b[0m\u001b[0mcloneItem\u001b[0m\u001b[0;34m(\u001b[0m\u001b[0mgis_item\u001b[0m\u001b[0;34m)\u001b[0m\u001b[0;34m\u001b[0m\u001b[0;34m\u001b[0m\u001b[0m\n\u001b[0m",
      "\u001b[0;32m~/Documents/GitHub/BuildingTrace/src/layer_update.py\u001b[0m in \u001b[0;36mcloneItem\u001b[0;34m(self, gis_item)\u001b[0m\n\u001b[1;32m     30\u001b[0m         \u001b[0;32mreturn\u001b[0m \u001b[0mgis_item\u001b[0m\u001b[0;34m\u001b[0m\u001b[0;34m\u001b[0m\u001b[0m\n\u001b[1;32m     31\u001b[0m     \u001b[0;32mdef\u001b[0m \u001b[0mcloneItem\u001b[0m\u001b[0;34m(\u001b[0m\u001b[0mself\u001b[0m\u001b[0;34m,\u001b[0m \u001b[0mgis_item\u001b[0m\u001b[0;34m)\u001b[0m\u001b[0;34m:\u001b[0m\u001b[0;34m\u001b[0m\u001b[0;34m\u001b[0m\u001b[0m\n\u001b[0;32m---> 32\u001b[0;31m         results = self.gis.content.clone_items(items=[gis_item],\n\u001b[0m\u001b[1;32m     33\u001b[0m                                         owner=self.arc_username)\n\u001b[1;32m     34\u001b[0m         \u001b[0;32mreturn\u001b[0m \u001b[0mresults\u001b[0m\u001b[0;34m\u001b[0m\u001b[0;34m\u001b[0m\u001b[0m\n",
      "\u001b[0;32m~/opt/anaconda3/lib/python3.9/site-packages/arcgis/gis/__init__.py\u001b[0m in \u001b[0;36mclone_items\u001b[0;34m(self, items, folder, item_extent, use_org_basemap, copy_data, copy_global_ids, search_existing_items, item_mapping, group_mapping, owner, preserve_item_id)\u001b[0m\n\u001b[1;32m   6730\u001b[0m             \u001b[0mpreserve_item_id\u001b[0m\u001b[0;34m=\u001b[0m\u001b[0mpreserve_item_id\u001b[0m\u001b[0;34m,\u001b[0m\u001b[0;34m\u001b[0m\u001b[0;34m\u001b[0m\u001b[0m\n\u001b[1;32m   6731\u001b[0m         )\n\u001b[0;32m-> 6732\u001b[0;31m         \u001b[0;32mreturn\u001b[0m \u001b[0mdeep_cloner\u001b[0m\u001b[0;34m.\u001b[0m\u001b[0mclone\u001b[0m\u001b[0;34m(\u001b[0m\u001b[0;34m)\u001b[0m\u001b[0;34m\u001b[0m\u001b[0;34m\u001b[0m\u001b[0m\n\u001b[0m\u001b[1;32m   6733\u001b[0m \u001b[0;34m\u001b[0m\u001b[0m\n\u001b[1;32m   6734\u001b[0m     \u001b[0;32mdef\u001b[0m \u001b[0mbulk_update\u001b[0m\u001b[0;34m(\u001b[0m\u001b[0mself\u001b[0m\u001b[0;34m,\u001b[0m \u001b[0mitemids\u001b[0m\u001b[0;34m,\u001b[0m \u001b[0mproperties\u001b[0m\u001b[0;34m)\u001b[0m\u001b[0;34m:\u001b[0m\u001b[0;34m\u001b[0m\u001b[0;34m\u001b[0m\u001b[0m\n",
      "\u001b[0;32m~/opt/anaconda3/lib/python3.9/site-packages/arcgis/_impl/common/_clone.py\u001b[0m in \u001b[0;36mclone\u001b[0;34m(self)\u001b[0m\n\u001b[1;32m   1157\u001b[0m             \u001b[0;32mwith\u001b[0m \u001b[0mconcurrent\u001b[0m\u001b[0;34m.\u001b[0m\u001b[0mfutures\u001b[0m\u001b[0;34m.\u001b[0m\u001b[0mThreadPoolExecutor\u001b[0m\u001b[0;34m(\u001b[0m\u001b[0mmax_workers\u001b[0m\u001b[0;34m=\u001b[0m\u001b[0;36m20\u001b[0m\u001b[0;34m)\u001b[0m \u001b[0;32mas\u001b[0m \u001b[0mexecutor\u001b[0m\u001b[0;34m:\u001b[0m\u001b[0;34m\u001b[0m\u001b[0;34m\u001b[0m\u001b[0m\n\u001b[1;32m   1158\u001b[0m                 \u001b[0mresults\u001b[0m \u001b[0;34m=\u001b[0m \u001b[0mexecutor\u001b[0m\u001b[0;34m.\u001b[0m\u001b[0msubmit\u001b[0m\u001b[0;34m(\u001b[0m\u001b[0mself\u001b[0m\u001b[0;34m.\u001b[0m\u001b[0m_clone\u001b[0m\u001b[0;34m,\u001b[0m \u001b[0mexecutor\u001b[0m\u001b[0;34m)\u001b[0m\u001b[0;34m.\u001b[0m\u001b[0mresult\u001b[0m\u001b[0;34m(\u001b[0m\u001b[0;34m)\u001b[0m\u001b[0;34m\u001b[0m\u001b[0;34m\u001b[0m\u001b[0m\n\u001b[0;32m-> 1159\u001b[0;31m                 \u001b[0;32mreturn\u001b[0m \u001b[0mresults\u001b[0m\u001b[0;34m\u001b[0m\u001b[0;34m\u001b[0m\u001b[0m\n\u001b[0m\u001b[1;32m   1160\u001b[0m \u001b[0;34m\u001b[0m\u001b[0m\n\u001b[1;32m   1161\u001b[0m     \u001b[0;32mdef\u001b[0m \u001b[0m_get_group_definition\u001b[0m\u001b[0;34m(\u001b[0m\u001b[0mself\u001b[0m\u001b[0;34m,\u001b[0m \u001b[0mgroup\u001b[0m\u001b[0;34m)\u001b[0m\u001b[0;34m:\u001b[0m\u001b[0;34m\u001b[0m\u001b[0;34m\u001b[0m\u001b[0m\n",
      "\u001b[0;32m~/opt/anaconda3/lib/python3.9/concurrent/futures/_base.py\u001b[0m in \u001b[0;36m__exit__\u001b[0;34m(self, exc_type, exc_val, exc_tb)\u001b[0m\n\u001b[1;32m    634\u001b[0m \u001b[0;34m\u001b[0m\u001b[0m\n\u001b[1;32m    635\u001b[0m     \u001b[0;32mdef\u001b[0m \u001b[0m__exit__\u001b[0m\u001b[0;34m(\u001b[0m\u001b[0mself\u001b[0m\u001b[0;34m,\u001b[0m \u001b[0mexc_type\u001b[0m\u001b[0;34m,\u001b[0m \u001b[0mexc_val\u001b[0m\u001b[0;34m,\u001b[0m \u001b[0mexc_tb\u001b[0m\u001b[0;34m)\u001b[0m\u001b[0;34m:\u001b[0m\u001b[0;34m\u001b[0m\u001b[0;34m\u001b[0m\u001b[0m\n\u001b[0;32m--> 636\u001b[0;31m         \u001b[0mself\u001b[0m\u001b[0;34m.\u001b[0m\u001b[0mshutdown\u001b[0m\u001b[0;34m(\u001b[0m\u001b[0mwait\u001b[0m\u001b[0;34m=\u001b[0m\u001b[0;32mTrue\u001b[0m\u001b[0;34m)\u001b[0m\u001b[0;34m\u001b[0m\u001b[0;34m\u001b[0m\u001b[0m\n\u001b[0m\u001b[1;32m    637\u001b[0m         \u001b[0;32mreturn\u001b[0m \u001b[0;32mFalse\u001b[0m\u001b[0;34m\u001b[0m\u001b[0;34m\u001b[0m\u001b[0m\n\u001b[1;32m    638\u001b[0m \u001b[0;34m\u001b[0m\u001b[0m\n",
      "\u001b[0;32m~/opt/anaconda3/lib/python3.9/concurrent/futures/thread.py\u001b[0m in \u001b[0;36mshutdown\u001b[0;34m(self, wait, cancel_futures)\u001b[0m\n\u001b[1;32m    227\u001b[0m         \u001b[0;32mif\u001b[0m \u001b[0mwait\u001b[0m\u001b[0;34m:\u001b[0m\u001b[0;34m\u001b[0m\u001b[0;34m\u001b[0m\u001b[0m\n\u001b[1;32m    228\u001b[0m             \u001b[0;32mfor\u001b[0m \u001b[0mt\u001b[0m \u001b[0;32min\u001b[0m \u001b[0mself\u001b[0m\u001b[0;34m.\u001b[0m\u001b[0m_threads\u001b[0m\u001b[0;34m:\u001b[0m\u001b[0;34m\u001b[0m\u001b[0;34m\u001b[0m\u001b[0m\n\u001b[0;32m--> 229\u001b[0;31m                 \u001b[0mt\u001b[0m\u001b[0;34m.\u001b[0m\u001b[0mjoin\u001b[0m\u001b[0;34m(\u001b[0m\u001b[0;34m)\u001b[0m\u001b[0;34m\u001b[0m\u001b[0;34m\u001b[0m\u001b[0m\n\u001b[0m\u001b[1;32m    230\u001b[0m     \u001b[0mshutdown\u001b[0m\u001b[0;34m.\u001b[0m\u001b[0m__doc__\u001b[0m \u001b[0;34m=\u001b[0m \u001b[0m_base\u001b[0m\u001b[0;34m.\u001b[0m\u001b[0mExecutor\u001b[0m\u001b[0;34m.\u001b[0m\u001b[0mshutdown\u001b[0m\u001b[0;34m.\u001b[0m\u001b[0m__doc__\u001b[0m\u001b[0;34m\u001b[0m\u001b[0;34m\u001b[0m\u001b[0m\n",
      "\u001b[0;32m~/opt/anaconda3/lib/python3.9/threading.py\u001b[0m in \u001b[0;36mjoin\u001b[0;34m(self, timeout)\u001b[0m\n\u001b[1;32m   1051\u001b[0m \u001b[0;34m\u001b[0m\u001b[0m\n\u001b[1;32m   1052\u001b[0m         \u001b[0;32mif\u001b[0m \u001b[0mtimeout\u001b[0m \u001b[0;32mis\u001b[0m \u001b[0;32mNone\u001b[0m\u001b[0;34m:\u001b[0m\u001b[0;34m\u001b[0m\u001b[0;34m\u001b[0m\u001b[0m\n\u001b[0;32m-> 1053\u001b[0;31m             \u001b[0mself\u001b[0m\u001b[0;34m.\u001b[0m\u001b[0m_wait_for_tstate_lock\u001b[0m\u001b[0;34m(\u001b[0m\u001b[0;34m)\u001b[0m\u001b[0;34m\u001b[0m\u001b[0;34m\u001b[0m\u001b[0m\n\u001b[0m\u001b[1;32m   1054\u001b[0m         \u001b[0;32melse\u001b[0m\u001b[0;34m:\u001b[0m\u001b[0;34m\u001b[0m\u001b[0;34m\u001b[0m\u001b[0m\n\u001b[1;32m   1055\u001b[0m             \u001b[0;31m# the behavior of a negative timeout isn't documented, but\u001b[0m\u001b[0;34m\u001b[0m\u001b[0;34m\u001b[0m\u001b[0m\n",
      "\u001b[0;32m~/opt/anaconda3/lib/python3.9/threading.py\u001b[0m in \u001b[0;36m_wait_for_tstate_lock\u001b[0;34m(self, block, timeout)\u001b[0m\n\u001b[1;32m   1067\u001b[0m         \u001b[0;32mif\u001b[0m \u001b[0mlock\u001b[0m \u001b[0;32mis\u001b[0m \u001b[0;32mNone\u001b[0m\u001b[0;34m:\u001b[0m  \u001b[0;31m# already determined that the C code is done\u001b[0m\u001b[0;34m\u001b[0m\u001b[0;34m\u001b[0m\u001b[0m\n\u001b[1;32m   1068\u001b[0m             \u001b[0;32massert\u001b[0m \u001b[0mself\u001b[0m\u001b[0;34m.\u001b[0m\u001b[0m_is_stopped\u001b[0m\u001b[0;34m\u001b[0m\u001b[0;34m\u001b[0m\u001b[0m\n\u001b[0;32m-> 1069\u001b[0;31m         \u001b[0;32melif\u001b[0m \u001b[0mlock\u001b[0m\u001b[0;34m.\u001b[0m\u001b[0macquire\u001b[0m\u001b[0;34m(\u001b[0m\u001b[0mblock\u001b[0m\u001b[0;34m,\u001b[0m \u001b[0mtimeout\u001b[0m\u001b[0;34m)\u001b[0m\u001b[0;34m:\u001b[0m\u001b[0;34m\u001b[0m\u001b[0;34m\u001b[0m\u001b[0m\n\u001b[0m\u001b[1;32m   1070\u001b[0m             \u001b[0mlock\u001b[0m\u001b[0;34m.\u001b[0m\u001b[0mrelease\u001b[0m\u001b[0;34m(\u001b[0m\u001b[0;34m)\u001b[0m\u001b[0;34m\u001b[0m\u001b[0;34m\u001b[0m\u001b[0m\n\u001b[1;32m   1071\u001b[0m             \u001b[0mself\u001b[0m\u001b[0;34m.\u001b[0m\u001b[0m_stop\u001b[0m\u001b[0;34m(\u001b[0m\u001b[0;34m)\u001b[0m\u001b[0;34m\u001b[0m\u001b[0;34m\u001b[0m\u001b[0m\n",
      "\u001b[0;31mKeyboardInterrupt\u001b[0m: "
     ]
    }
   ],
   "source": [
    "gis_item = arcgis.getItemById('406b12a24ef64bfa9d8d8d2d9cab6987')\n",
    "arcgis.cloneItem(gis_item)"
   ]
  },
  {
   "cell_type": "code",
   "execution_count": 52,
   "id": "revised-thailand",
   "metadata": {
    "scrolled": true
   },
   "outputs": [
    {
     "data": {
      "text/html": [
       "<div class=\"item_container\" style=\"height: auto; overflow: hidden; border: 1px solid #cfcfcf; border-radius: 2px; background: #f6fafa; line-height: 1.21429em; padding: 10px;\">\n",
       "                    <div class=\"item_left\" style=\"width: 210px; float: left;\">\n",
       "                       <a href='https://UCSDOnline.maps.arcgis.com/home/item.html?id=2035a1d90d5242a19501f1d0e8c8e4a7' target='_blank'>\n",
       "                        <img src='data:image/png;base64,iVBORw0KGgoAAAANSUhEUgAAAMgAAACFCAYAAAAenrcsAAA+UklEQVR4Xu29B3fbWJYt7F//vW/mzVRNV7ddzsqBokQxiEHMOYIBBEgwJ+VgOZQrdvfsd8+BKVEUJUuyXFZR3Gth2WIEgbvvyec8wpghnEwMP3QpmrU2CvYK8nMNyJ4Kdnd38b//+7/417/+BbfHPfzyCR4gHg0/8BDRbfaQWSmhuNBBo9IcfnqCB4yxI8jbt2/x888/o16v8/9L2Qq0XBW//fYbfv/9d37sl19+wYcPH/ixPuixbKiAXEIe+LQJHjrGiiD//ve/4Z+LI7NZgN8SgjLfxc76L+iZPqAY0aAUVDz+z2cwPrXC8oMbdrMDSrqMcrqK/b3908852D7CTndv4JMneKgYO4LEHRnUiy22JVK+LGKGLOJTMvJeFblIEZGpLNRwFZFAFMnVAqqxNqLmDHLpwunnFLMqyqGJqjXBmBGEjOv4RgbVrL64//nPfyLpzMFhcKPd6PLfdBBIBcssl6C528isqVCl8unndLs95PzK6d8TPFyMHUH8cwko4Qr/TVIkPidj9ZkFFamB9+8/IBvPIxlJo6rWkM8LVcznh8ftYQ9WH+12G6k1mW2WQXS7XZycnODXX39lO+fo6OjCa/6qIOm7seJEMpzi/0+gY+wIEnJHoMol/psWcXKqBKvRzgQpqSUklmRIwhjXAi020uekGOyHPaSqZxJka2sLcrCMZrOJP/744/SzAy/SUBe3kFutQForo244hJrRTt/3VwZtJnOvF2BesY4N6e8CY0UQusm5dU3YFR3+e39/H/FXCjIJCY1SC9vbO3AvB2FZsCPsjPGi98k5RNt12ONRJBpVvHnz5vTzOp0Oysma+LwWqlGhis1VcGT717mjmhkfW8Vt8yLtywlJ+374qQeLsSIIqQblTBW9+jY+fvyI2R+WkZ6pIGCJnnsdPbf+1H7usbggh/fnN6g3Gvw3SZeMpXiBEMNHwaGrc391xK0SUuYCPEsh/Pf/+Z43lwnGjCAkQdYebyDlyfH/o/4YnE9CiMcT2BHSg2yHRCKBSCQC87KVX5POpPmxJccGDFpeEKTOalVwJo3u2vsLhBg+SkGdUH91VCtVqKrK/1YqFbFBTNQswlgRhFSD5f9ZRzqQ5b9pofufp+Ewu1BLtIXx3UF4RkJyI3dqg6xWiwj+6ye8Dnng+/UEuXyePV2+qRgKcy1kpiuoLO/xQTZHZ/Ud/3/H/AsTRPbePxuEiD/B3WCsCEJR8nxAFSrWzuljgddpzE8vohJv4vj4GMv/MKGYUZF1F1kly1Y1yN0WlGoFeUGObq/L7yPykCpGUoc8V3QcHBxASuTYe6WmKihHGthqnH3Xt4YuNeMwP3NCU+8fcf+KGCuCsN0wr6ESbfJipkPZrMOx4GGjnJ5/9v9NYebFHAIrsXPvbW/1MBf0whAN8kJLygXE6hrWXA64knHY03F+HRn25O69T7v0Tm8XW+1tlnzB+RS8jgAiKxI7JSb4MowVQX7++RdUiw1IqSzmvzPC8HczNq1uaPkqL2w65v/LiMPDQ7img6fva+1sYzkVRTiVxKLVjJ9++gmZShl5rcSuYl86iYVECFq7ibVyHi/9m5y7dR9ARDXMGuGa8/PftAlQ2kwl3ObfeVOQWpqIptButhGNRtkmecgYK4IQNmeDSM+UIc+3oSx2UVraQn6uCTmrsEo19d08VpaNeP7/T7G/X+u0YZWSOBDqV7PTQbFRY1VsMxHjBRKNxbAeDWEhm8BmpwZzVYE/m0FckTnh8VuDCGJ+7ITT4EGr0kGvtY3gauLWEo42h7Uf7DC8XkNuto7NV+HhlzwojB1BsqvaBU9Tb+09p48QUgYFiqIguJDigGC1Kwx3Oc/SZTkTg7MgsY2xcdDFWrPMBjwdi/kUNvba8NdKCDY0+DQF7969G/r2Px+9zhba7TYiphSUuIZOpQf/TAJ7vdu5aeulJvIpmYOqqWQKhcJZjtpDxNgRpGCuXUkQ/3wCcqaIxKaEilbR1S01j1Axj2q7hdpWl9WnuXiIg4jxVp0Pr5RGUBDpPqVh7O3uIecsIRFIsWpEhI3N5RFYiCMeF4Sp14bf8ll0K9uIGbPYXv+IXfMvSE2XeMN4qBg7gmQsCrtj+4ey0EHOrWJvT09f9yyG4Jr3I2nP8d+kJtmEAe777S0s+TT/TYttyrbO+vz2zg5KrSa8nTo84iA1y9nS+DCXC+j2dOJ9C0QXclCXelAkPbWGVMZiTKiXsooFrwvRgfSZ66Kt9WCfdyO2nOfDOR1AIf9wpcjYEYR0aLIhBo9BlOUKgi8kLH1nOrUhSGJsFnNYzCXxYmmB9fcflufxZGkepqCPDfa+qjV4DEbevwUKwTIObf9EPl489zh57wzpGALKzRd2Ld3mGNEEOsaOIH3QbkqSgBb/cG5RP+V9EKQ69RMTCT/Mz3BchV6bu6cEoThNKVW54Cwge8potaDYqJ97/Dqg3LI+QdhN7qqjmvt2v/FbY+wIksvmEFpPIDCXhOmZHZaXLlifeCAndDWkj5SjgOBSAuXiWS6VmhPqSUBXS5acG5haXcHf52aQzuewlAxfOFbi4Qvk+zNBtkHKm0XId+ZpIpK7EzGsJiK38mSVszX4p5IIbmTg8ngQf12E5H24ZchjRRCSAjM/LML/Mg2/KYKgK4KEW4LT4EXck+LXHB0dY+OlB61mC5HVjB51lmqoyU1kljS2V66LwZr2Pwt72/voNPVoP1VJRh1JVJUGXE4Xsv4ip+gbC2n2wklZPeXmJjjYO8SGwYm//5/nsLtc/LkBf2D4ZfcO5WrlVhvC5zBWBCF8eP/h1CCnNJGsS4XqbnA9CIGyVD1P4/DOR1HVqmi12pxGsr29DY/Th3RSOvuwT6ALr8o6cagDSt+r8+HDT4Mv++ogddE8Y8f6zAYirgQ6tR788zG4HJtw/xiDZdaBmC+B7Z1tvDIZ2R67KSpKDRs/+tj7F3opCfWqiU7j/mQOtBrtc+51KkmgjXHJso5C+byWcBcYO4JQY4ZkOMM2CJFBXezxzdZ8bX6eSDP/ehFLs4ZztkguUYDjxyDU4EXXKHu1vlvAVncbhuUV3lGLchFrr60j7ZmvhXREgmPBi2a9heXHJmxvbfNi0fI1OFbcvDEsPF5hG2TQnroJqPTY9STC1ywynbv153wt7HUP4JmNiM1hi/+mFJvMUhklqcL39q4xdgR5+T/TKMw1sfK9lYuklGwJ1sceSAFdj6Zd2GcMY/WJDW6XhxcALayD/QOUchVEzboqRjvToAplNlixPm9jrxi9fua/lpAI66/9s1BIFzH1/Rz2dw+gKVWxOHZgem1jY9pvC6NZagvbIfpFi5oIYvu7LkFSs6U/dQO4Lt6+fYc3x2/4d6ZXVOxbfoMS/DopMWNHECJAKa8h48/z7jIKJF2sr10Irsc512j+eyNMf3ew6kS7L8G14uWF1wepGOTVIuzs7ODl99Ocp/U1QQuA6uf7KgWdt28mDiWv8rlSkNPw2IygI4qFvxsRcsagyV+2UJgg/9AJkphV7o1qNQxOKPVJUBd6yMYLiAdSMD6xImnNo13TbbS7wNgRhGvHC1lshoPIq9frTLK7uwfLDx5Mf7fErtNRIFeqe9PNN4Z21Uzmoq3ypVAiFeSNNajZMpMhNp8Xu+Pv0Iw7UOO6t41Ia3nthHnWzoTd29lDKVHhTYGk4Mv/nGV76ragzw+Hwnj+9DmMBuPw0/cGZAtSy9hGVW/xRAHg0GaUm298eHd3OXJjR5CZ1RX8ODstdpfsjdyTg+pUStgwVHo6SBYyBJ989wx1rcHGr+kH1516sejzo4s53rnba2+RWC7gwPrHaboMpX4knNnTeA2R1D7rQaes6+LRcAwRbxyFuIKkNzP06dcH1coYvrPoKta8eq9SawaRXCsgPVvme0TN/2xLDiQ2stxz4C4xdgRRyiW8WpxHKV7jysHbgCsR1yMXkhEjwSgWHxtZjdOKlVN17K5wdHiE7MpZY4hDQZD4Sg4pawFN4xvsmX/ljix9BJcTUFe6iIQibLyT2uV1+ZGK3Z4gpGIl5mX4XQFOgryveP/uPXdgiXlTcC34OAeN7vlw0PRLMXYEeS7IkQpLKBU0WNds+PmXn7nGev/g8uzWVq3NO0/QkEApouvwYWv8HEEoIEgLkAx1KaYTjzqgkIv4LnF4cAjZ0GRypJ2FUyOZ0tg9C2Hu5UW/j0AqlfEHG6iU2PCjiSVaqah9EXGJIETOarI9/NS9Q8IlYXPdh82pEMrlMtqVu7M9+hgrgpCbb3XOhFKqymnfpB5QB8X/eP0Cq/aN4ZefghZFPllkL1HUmEHYlkDw1ZlxTKiWalh/aWfD+Gj/WK8sFLp+NH13niz6TCr2Ii9V1ltkO2SQgPR7SGrk5uocACX01cB0KAv7Uz8SoeTp628DOaNwzb3kl1lS3qUaedeolKvwr8Swv32AXPz66vRNMFYEIdtg5TsrL7S0K49Wq8XqErlmr2qGRtmqlPBHKfGSU2FpQa7cQQ/Ob7/+BsNTk1CtqlyDMfVk7s7TTNR0BfWVw9PGdxTfKCw0oRXOPFNvjt5AXmmI1x0gtaHXsRA6rS5e/PAa8eDtCPJO/BZST+gwPjUjv9BAeWkH6ekyCsnzyZD3CUFn5Ku6oseKILTDvvi/02KhadjcdCMlXy+btdFocuDQZXFD0y5vdlBV65h+IlS4hDDi1wLDT38RAo4QgraobhybimgoLd7BM9Yi6sbDcyRRvFV+nbSiG6n8WKYEySNDTimol2/ezK7Z7WD7U/tVSnm3/ejF5uswckG9ucVDxVgRhEAS4+T4BIFsBsFifvjpkaD3UG5Wr7d1uhuRveEuZC8Y6rRo283OuQ6MXwqq4SAvlenHjVMDPbiYRKVUZRUrPCdB2dAXPaXMdNfeobDc5GAZnQ9JRzJan//nFJanjJxuM8HdYKwIwsVPDgc8S2FWq66rP9NCyydlFFMl1NQmk8SSS3NKu7Ms4+TtW1TzdUQsKVjWrBy8uwz0XlrU+wcH3P2kH1y8CnJSZbuivXrCRCEbgOrondN+yLKMXfOvkK11/k3yQkuoWE3sbe2zipdbqyAv6ZKSpMnJsf59wdj5bpIT3A5jRRDa7Z8tzMGwsoL0DTJZuYvJUhnJWRUHu4e8yJ0lGZ6PR1iIh5AtqdjfOoC63EVkNY1o4vI5iOQUsO224DzZxeb7A4Ry0qXBx0GYF2xoVltY/GEV+ZCC5QUD8n6Vg37Z2RqXwVLk3jsf4RT9TqOHwEKCuz/WTPto1zvnPo+SFa+yu74VSF3TalWUm3+NGpOxIghdfLPLifmQF0+mXw8/fSlIxTK9tKFXOesjRYt6xblxTgrt9vawbDEjV7zcaG21W/D8dHRaVOX5eAxP+fLX99HPvKXvo4VNDoI+sei5fiIenSs9730V5zR9VdJ4glZiNX8ue/euHQh3hWK5hNWihEr7r1G1OFYEGcRNMzs/Z4iS2uT1+1FrNlnlugy047ve7p2rPAy0viw/ahj024yPLXzOpFZSHUvCnYEjn0GxelYARiT7lrlUoyQYkf66qu99wFgSpL8wBo8++g3kaHH1DwKpVRSk6+/aNbHDOZQ89vb3OLPXttXQF3z56vwucg87jrcQ+OeH08PfvF4H+OFzpXPqCDvm+M0b/lz6fz9TN2SJIbYqjHdzk1NSCh4NQaXALVT7SGqlazsq7hp07tO+TXiLOSi3KP29Lxg7gpCakVpSoK1vnTtKpRLvtlQEpCx3UF7tQTPpz6mKCqWooLFyBCWk7/abyRjXnK+rOajivdQXa1POcmzlKhD56t0Omjvbp8fuQFbwZSCVyBoLw92tI6EW4YxF2FO2rGa5OlC3a3awYrMgpMhM7Fg4znGTgktj4gxH0NNyAeuRu81Nugm6uztIVzVsXZHFMLwp3DeMHUHIUC8vbSM+K6O9+pbTR2qGA0iS7rKl59TVDuTV5qlLdeHlElRDD/vW31GJ6gSgBRjSVCZJTRjepBYkCnkYBVHCiTiCUhpv312uat0EtEB6Wz2YXA6YGyWo9RpWKjIkpYgFKX6qqpk1GeFMCrZeDd6MPiqtWqijN9B6aFBVpNapppqCVve8AX9fQMFJRy4Nn/LlUo6kf0kt33lL2LElSCaRRdSagqZVkJouIysIQuqT8e82pAISG7iKvwo1VEM8koDXHETEHUdNO1MHkq06j0TQKho3s3YcCdXpj/dYzcT5/5ul6wUiP4dIMgHbTpNtlzUli7wwZF/6XShpGlbr6pnBL4z9SLMKi3gsV7tYQUf16PNhH/fyImTkPKt4FuV2SZtfE/VeF/ZO7ZMj4wjZLyyXVWNVWP/uQdgfQaFSvrMcubEjCC0avyGGZk0PrNHuTIbzr79ebhgWJZXjD3Qo7jOCBIT+Ph1wI5VJYyWfhr1dEaSQYYlHsCZ2eLV184j1KOQUBWulHM8qIZXIEfRzRJ+ClaaWxovI//s7bIjnkq0aYvXRNg0Vcr3ePJuctS1UnExN48V4X0D3x5vLwHWye86R4dzvovUpe5jUxZtKAsrkdT4LcTny0cmbkQ6C22DsCEKEGCw5pb/7F4vUj93tXb5JpK/3dd9+Bisdmv/MxtjZ3T19DTW3Pn77llUtalO69WmXvg4u07HfC5uovxDoc/veHWo+QPbShsuJZbcT5kKGVaW5dBSRdIo7PY5CfzO4r2gLVdBRLzHZB8lBh/fnY4SE2krG/VoignjxZsmHtVQb8Xn51A1+GWgNDKqkn8PYEYQq62KvC2x0x+0Z5HI5SLMV3l1J/aKO5eXlbTbQqY+vzxJC2BdBJphHfr6BUliXINT13Vct8W532xpvNqSFmuMs5rDZ0OCqlZCrV1ETC5zOZy2X4pjAW3FedAyCFnvf6KbPIfKQIX8Z2Whh/Spec9nz3xp0XjRewvX2vORg24rsrlqVfycFQ0tVfVzFTdCtb3EL1nA4LK7t2UjvYcjVCvc5uy7GjiCypLCqtPJqnW2R6Jp02ry6b5/0pQXnPL3IYMf8M7TVbcTsKfz8Ua8zt5fyumrz21vkS9fvlTUIItb6p89xHm/ButWAwbsJ97t9PLWahH3zFkFhI1h7dSYjeeAarRYv9rQw0GOX9NalxXMs1AhNLKSgMNb9QqLZmho2dlpwCyJu7V5fuv0ZIIntEYa4uVPF3wwL/Jv715ZULSqRvit8Lp5Fkvkm2b9jRxBqx9Nae4OO6e3pUTHsslglghTnO9iz/Hp6eJ7FEJoRksarYqer99MiKM06PMLeiGnqtfVhuvDDO98hzRqRJXS3tnQ3cyHHi2NJSI7BXdQoZ1Cr1TAbC8DaKOPJxjpMIT+TxpVL87n0J886hNHtPN5mDxu/Xyw4MnTdHw7571XxfbeVeneNSrMBa01l5wad22wywr9xQ2wKcqOGzlbvSpXoOiDpJAlNIS4kVKmioSfUTHqs3encqjfYIMaOILRIKX4wfPRtjq3ONhOhfxzsH15Y1KPwi9gF290OTt6O9o6UymV9vkg6MXKH6qtMHlknyIpWYF188+0e/2soF5ggS/kkLGLxkEfL/9s7xOIxGCsye6OMXjcnLC46N7AiCGbKxBEWBFbEItwV5Olub8EuyORMxa/1m74WGo0G9g724c4IlUoQeXAjIKKs+73Cnht9HUeBJFDcnUa1VMfB3gEv/IOB6Vlqo65LInGNaNOw7bX5Wi4rEjJVDXEpc+vo/dgRpA+adFtSyvCuB/HLz79gd+dMOoyCHCqjGB2t0hAidY2DdjQqYRRoQS54nKxGUHLj4OPuvASXUH0cQjL0d/1ZKcZqR0BIFIsmJJX4l0qDDWqOSWNuaVhLRdnozgmj3REJISV0Z7fPxxH16xLgz7RJ6LtIYljUPBZCPjjzmVN1itXMoy2kBKFvKjFIGgYdES7g6qy9w7onDe+AWpbVSkwOcr1bxCZCkpSCu+QVfCVUWfuB7lKmAOwfIzavqzC2BEmtFuF5HkNwOs3VgrT465UmMiYVldzF1IfMSolTyi+DKx7BnNi5zZ0KtMpoN6tdvGZT2BfUG5emV9GCCQiJ4f1FJwXtnuzeFDeTdjkq17UEfBzTINDrqW3NkZASgzEOUg0XcglYM+IQNk26Xf+srt1HLJlE50+wSfbEju4oy1jKJniB2ro13uktxSz/dnOzjEDi/ODU64Kk87rDzrYk1epbPRJSzbMOmDlBENp41sS1oelhlElNBFkp55FsVNHqdWGKhbGcS15bXe5j7AhCfZKSgQwCzhCrI5paYT10f3ef661rK/tQIxfbi8aX8siYLzfGw209qOX+6fDSkQd6akgO4aJeCkuqlikREeqUjKmQF4/nZthbU6hXUW63OHApC2lDnrLhwqzD4yOWKj5hhBNx7EKCWIVtMRsPwZtKwFWQ0GiOdvcOgr5DrZ8lSxKxKvXahV28UWwh61G4NoWGod4UwWoJa5EAe6EooEnXyqUVsX94AIMgDdlg1yX1MCJSGiseF+SE2NwKdXRbPfR2tk8/Ly82GPo+khSJZIJz4SiORD0Djk9O+HV0P24zKWvsCFJVavA9TXFjZwJdGOriXjHsYdPsRehVBrFFsbO4JcjFIqLLWeRMFYSns9w6JrFSuFDk9EEQzJiOsa3g++WEU09GgRZySxidHwbqPygfqS1sA7o59LnR1PmacZ9QvehzlaEmd8FGRezEB6xHE3lWS7rtMpeKYE0Y735VhnTNkuK++9STTaMpiOkUks4Ti/BzpMvTrmqcWocUySMbLWD5b+tolPV6/uuAnAfW7Qbc4nNJ8vmiEWzsd9hr1+n1mKR0DlKlzHlqNwV9ZiqXhX8xjpKpi9hSDpJRQ2g+zZufVJR54zLkU+gJIlLu2gvDEl6tr8JFE8GaGuZsFuSbo+/bVRg7gpSyFX0sWfKstjw+J7Mrd33JipJhC7nFOhb/xwSDwYDw6ywaq4fwv0jB8TyA+Gxx5E7TFTtWLJvBqlBzbuIZIdLQbMMVQbC/Pf0R/xA68eDunWjV2N2Z0s6nWniElCBVbKNUYJJTEM2SjGHD64HzzTYKWvnadkixomE+4MZMPIiXdgtLJvo8SttfEzszZSsnlmRkVlXUhSQhFdTzIgrJfz0CxssKk9f/+3s4d9uwH/awoeSEoa4nadL32IXEo7QdSyFz7fMeRqvaQbPUYUK2Kh3+m0BpKvTdNEZvTUhZUmkXTKuY8rn4O8nZ4QoHkSle7/cMYuwI8u7kHepqEzu9s2DR5qqXR5XJMT1CTTtaOJPGc/MqL3Z6LBFLQJHVz+6aN+3HSwb7dMSPuBD9L21mWJz2cwuEUtKNwqDtR/d/Eud2KAhKxjnNZ9/95K2hAONSIYU5jxOrsRAbnNcFeXBqQi2kWhH6jraQcjP+TfHdKoJi0cRKRc5dqskNsSunUC6VkY3IrJJeBxSPIduLDGWyPxIlha8jBS5pkKitratAPmEnWJPRGxdzdXd2EFYKfESzF1u+toWNsRT0YjEW5GNJHOTW39rbRUtsbHRQ1sJtMHYE+enDR8ScKWTtZ/aEWigjZpZwcqS7FkmlCETCmFpaZLLQzVS8dRT8l3uxbgsyuilF5PvleT5o5x9EWqgOtqLY0RNxWJQsHPtdzIgbPOwqrreaPJ89qxQ5Cv/vf/1bkPsjS6PP6fZFYeSGxHtJmtFBr1/0bXLN/HvaIMRhCPs5B4zsNupI6Xjlv/ZmQPX35EAwB7xICulE38F1/bSb/3x86sWyRkP4+RpGMp0fSZ+com8C5MTYEJKJPsPU0AOqwxi+XneFsSMI9XCyPHYjupHi3ZKSFIkAdNFP3rzF8dExDFKcF+GU247lQhqpmoaKv4OS7/NG7+dAOn1V7JrpTzYFkfG76VewicW3Hg5cWMzk7SJd3b7dxKqcgUOoIs2e7sYlqULqCR20ANbF7rvRrrKhTtIwu1hFxBXHxrSHF6VeE3KRLPSdFDyjxMX1WBgtsbsOL6hMPofZRIhdyKpawuoz67nnr4s+CT8KcpFaSWpP4I8PMGgFXtxetfBZ13Mon2VvH9lgVbExkHSj5FD2BJIHUKidcUXGvrjWn/usL8XYEaRarmP+hxU4zC4Yf7TA8sKJbEDo13GJ7Qw1o2ExGcYPr19iLhrAM/MaMu0GD9jJW25fGkuL0Cj0+Xkh6o2ajEhBz/chUf9i1XDpjSQiULdG2q37qhcZ8+tFIU3ErkkRc0pDIdhcTsSkDCxbdfZg0cIh9dDxJAjbvAu55Sq0wkUPXR8U1adg5oLFhEWh9gWScT7vjz9/FCpYHUubDhijQaSDOSTDl3duuQrpTAZuvw9FReEAniUdx6KcPo3ykzuW0mhI7euTtLNN8ZESEzwv7CXaLDhuImytcLPK184bj566y61Skm2ztYZ6wft31xg7glB/qEKmCMesF1N/m4dnPoyUP4vIYpY9VeVUHatCFfAnYrzQyIVYEjdS87ZR2vwyCULRY9KvqTFBf7HTv1RYRaocLdDB+Ab1CzaJBSTXzhOTFo5B1eMHrFYU9aCYJxTkoCPp+6Rq9XHy5oS7sRwdHCPhkNCojv4ddC5k/PtiUdiyKax5N3UnglC/yL6hVkd58bmr0+s43D+LVF8XR2/ewFaW2UhXNA2asHuWhHq5NlDTwu5YQQBLTeUkzqywVzaPd3jxzwbccL/f59dQUqM5ETlN4qy3W4IQJX4u1agi1K6x52xCkFuCdqi+AU67M+3K+zsH/H/aqWixZoUaRIuRFklVGKhaVt99q5TJqxX5yFYv77R4HZDKtZ5NwrHX4ZseFuoDGeIEOjdvPIbDN3prVJpnEpLz0MRicFR1zxAd62191HOyKMMvDOqCOKefftY/Y1hVKnnF78hcLkXoOiiyWGjeMHuuyIM17bDB5PdCEmqL1bOJdcPN1Ssivq2ge5DWBenNQpXr13xQdSSpS4MkoaApRdqtAd9pntZyJg6roruz+cifGeSZZu00TX6josCq5icE+bOh684fEa3pRUp0eIR6s390BE3YFaQ2hcpF2MnVOxDruAy0YxtTUaw3y1zT4VcKsMUjMIvds97Ug43be3tQKxVeuBvicz3pBLaEYR9p6J4fPgdh6PaDk5qQdiFBEmqGQDXnruT56DT1x6IBPD9dMmCUC8ocIY7/LP1oZDWtJewOiyDIrMOKKbsVq0LNugm6Wz3YayWxcIuQSqqwwfTcqEFCzOeS59JOaLFHxGZABN/M6R1Z3n14z2W4JiXLajAFH/ugx91COpFL3CkkFH0+SZSbRsZviglBBqCS/rvbgnugrxXpzNQsoa9D94+Q9nkXKEkxY7UIT718aoNkP0V9Cx1dDfKIz6H4xJrFgtV4GEaxOEhNk9qfuqh8OqSyPnbNMJAF7BeL8vHS/OBXIrMpI7lYREXV6yuGJQyBpJWS0pANyzxSOplOwyrUzVm3Hc9cttPKvuuAfpcxFYNLqIGD3qVAKimkycnpuTrf7GD5U7CzfzjEQq8Lad3/nD5IWpKE7+2dr+ugZEzqp0XXYS3og8HnPvf818CEIAMg9UsSao4tHGBPyUbQj5VcClqriZTQlS1CVbLk08JuiGHvU+r5VSBVziAWhV2oBOSaDQjpM+W08eKIf8olygp9mlSofKGgR9XFDqkKGyZfKQsjvQWbMPh94n20MMjDNNhzyyWI1xaPkVSgCbyEfsq9ZFewZrYhPCI4Rq+h+Y2ST8br/5jHhs2DF5Y1LHpd7M26aebrW0HowdhOo9eFuaKnm/TJEZFziFDBlPg/k/u3d5y7RakgXwO0OfSPyxwk18GDJwjdWFowfVuEUBJGMxmu1CKTDFl6TSQnYdpmPuem7ef4XAUK7FmFbk4q1AuxOz+dmWY9PVTR4zQ7YpcMZVIcHKSoOi2eiFChiFxE2MEbTN9lkPWewXSQNHGnk4jG43A+CbGDglqSHh4cQQlUUUyURwbIXEKNs3m8SIWENHqVQTZTwJOZJdjd3s8GSq8Dcu8Oxj/IqVAWqiHnpgkJubHVQFpIRPqbpAWVEtw1KJZD07rooKK57e4OssKGi2TSCCUTLEXp+4fd7sN4kAQhjxItWPrXI3R5e6cKW6Msdm49iBcR5KCI7Gw6ijx5WWIRrCeivKsPolivwi1nr9yhMuL9tOtHhXE+n4pgatMOa6820vivb3WFjaNwERGBgnjubPpcGoq3Vj6TIEIPp17AJEGciz7ENlNILajsyqaFPkq9IlCy4pqag1/o/tT9hfKuaDQ2jTK7C9D5lMV3kMQ0yxnYBSFCn+yJuLgOSbFIibiOUJA9irv7V5ci3AbSeulc5Sg5YJxV3ZtGhHUreawrOTiEpOteUaP+IAlC2aZUmzAb9nExUn/BpQeS2egmr7gceCWkxguHBS6/D/VW63SGRkm81iRLMFcVbkp3GUgvpwS9d6RXH+mNscnte9niHYRfLKZVKX4adCRUhM5uzMRhEd9rScXx5uRsDENfGl4H5AiwR0OYDXm5Od5KJCAW7c1SQK4D2jzoWvbVNrIfylqZz5ucA5/bwW8DGk+x+tx6gSCDnsHBQxqRvtLHwySIMIxJF56JBmDUCqcXKtM6n+1JYpgI9Drq5516NRnlehDy0uzs7bHa0FeDvgZocV0mnYgMlz13E5AXiEhM1X80RGccUI22PxHjn9yWdWv9J5SyGjbFb6SeZqZUFK53ui1HWcfUT+wyPEiCkGpFTQ9IGviEPm5IhPHK4+CGCcN47XbA4HEhLlQlazzMsYjr5ihNcBFE6lKzgQ2hsn6tDu/kmUuHJeQSBai5MjskBm0rkmY2n5dtPaWuR+ovw4MkSB9pYVPY2lX2Fq0LO6TfFGEQFO8g/zx5aq7a0Tv1LnKOMlxmHzaFbkteLwIFCsNCpSO3cEDYF17xf7eUulCw9FcHbRqUQXAV6DU+YbO53x9wGnomd/32O98KD5IgJamClDfLVXveRIzVLXO3NpIg10Vxo86ToPLZArf6MTXLnBkrFfIXGqWR23N4SOhfGaSmmfJpdmlflsreFLYT1eRT1HyTgoj523deIZWW3kuawGXFa3eFh0kQfwOyqQ45UEbOp8JtDMFvD5/aEtQ1MSJ2e39Gzwj+HKjTRnpWQ2lxi71jgbrGC2HB70ZH6PXkNXFqRYRVGRupGGemlhUNibU85OjVu+59B9XP2/IZjt/Qb46WLtapkDSl6Ddl4lILoNvYOpSTRXlo61KSXcVUY0LtSqk7zNdMN3mQBMm5Sqit7qO6uofSag/KahvRtczp81SKSzebouDXCZoFjDEhPX6B62WIUzfs4iaS1LAJVYt2OsqgJV2X8C9BQqqJqKV1Q5JGNRDenrxDRa5hq3N5gwVSy2gc9X0BSUBzLnUqGa31EuojDF6Ku1CzPHKpU+3JbUAxDCLYsAeKrjPdr6+FB0kQ2uXnHy+jUW+cxgsGPVHU3I0uvHWnifw1Ln45pI9S6Cc7NltN1rP7k6VGkaxPkNisHumm/sDkcVFdFxcYoVPtQVqsQDKVLnjNaB4jtdupiZ2ZZv9RjXZaqHaVRp27jdDxNYJxBLVaYamwWThLwhwGnW9FqEJfolKSF5Fy0oYJQsdgm6W7xoMhSFWrITCXRNpSRN5ZRmaxzO1IR6HfwWS9U7lWG33Nry/2QlS/Ud1elwnibVwMBvbRJ0jwpS65+g20L2s9RD2D6fmyYZszcAcRSyZ4LiIVJ5GqQ1Fsno0oHvP8dMhHrnL5uXwpaAP4ksV/HVDHmDVh11FWtKNXh02orDaqWFTylzbzuws8CIJU8nVIC5VzgSOaDkvFTO1aF7JP4yYA/Z1Zyue4lSd1xxjVwGEY1Egg48vDMedFkYJg4mZ6i3lOTLwM1VSLzyM+VWQ7h0YwtFbfIGEYPUzm3dt3PC89ZVDO1ZQQpOxZ7chlB7XG+SuDpHxWLrAn7DplxneFB0GQg71D5APquaMQU3nnk4P6zr3x2oNCWlenDg4PhDGY4HQEWuxUHzLcfX0Qx2+Oseyy49nUPPfAotYzfdCNJc8OebSocvDo8Ih7dUVncroNMl1mNY9mtf/4t2eIhy8fMR3yRBF6IaHTPC9BqIpvmBDDR1K52TiBbwnaMOje0LXf296/4Cihv48Pj7Hd3sVubx/7O4ech/Y18CAIMgq0A9GkKRqhTAt1z/Ib/C+TI4OA/loZG3L2wo3qo9Coca3DeqPErfzzrbPGclquhubaEdprb9E1veOZgu5XYSSmi/y9+dkGu0kVoWI5XvsQmD3fN2sQfmMU0lqZ3dSDcPq9FwgxfFhC/kvP/75gd3uP58HTnI/SipDuayfcqT/p1VNBPv70EUpCQ3pFFSqyhsJyA/JSU2gD7y403Njb2Ue3scUbz5f87rEmCC28Xm+LVRJKpxjcZUhnjnrjvHBpoTbEIrZMOXjH7zZ6yMeKkCNlFMMaVqct3K1PGupd1Qf1ZaJFuFkXto1QdwbFf1kY7oOq3fChLPQ4o7WU02B96oZ/IY73b99jq7nDx05nl8+bGjmE5TyPNogVCygMqExkgwwTYviIaOpXtxO+BNV2C4+fTF+4PnRkzfp1L4ebqK3tQYlVeEwFqVq0oRVMNdSSbX7NsSAEXc9cpIgqddFc6sI/lRTS+/Oq8iiMNUGkiFhIC02ohi67daNL55PSSLXxzkb5JuRcKla+t3HwqbCpnbtB0kyVPSipoVytPsiWee1zcQr3MKjCL7IoITlVgv95GpJNQTyQQtyoq1ja0i47AmiXI0KTaqFl6rxzUqNmCj6qgRqS9QpcOy1EBDkMmTi81bPv8saiFwgxfHgGylfvE/pFVul6FU+XDRfIQUcppF/3cqaKZrk98G4dibUCtFSDybL5LILcQh2lpR6KoQrHqPJpmdVbmiVfKzZYulw3SDm2BKGL5Zzxc7Nj1dhBaq2IiPVMffn1l1+55c7i39aQd5dh/MGK8Kscv4+MbtlTOT0SdokDU6n2meo0DJJSl+3QfY9Vfk5XpwhxZwabL0PwTcWxu3s+3bsiNZAxlBB1J/l9qr/GszRosm633oNt1oOI++y3+FOJc1WQo47sFef+rUAOEueLIG8KtEHQ2AR5uQXNtI2iqYmsrcQOlGz4fNEX2XQdcR3InlMlDRW5jp2uPi6PJMvJ8Qma9TYPM6XHyK1PzhbbigNFY4snjFVS+vWgDbFP0lGG/9gShOqyKXhHC6wc0i9GvdTkxg2EUkQsuKUkLP9w8w2iQB0do0AXOZzNoPmpTuOm6BOkr07RYgi9koRtcoy0Tb5ALJIgLeMbKEsd7IjfkDTKiLTrWC1moXoaaBiFoZ8+k2Yb9g1OXxkmxeCRG7CL7gNIEuTm68i6z5cuk2FOC/r9e73ZxsnxW/Tq22iVuygXKgitJvh98koT0WgUucWasOsOODtiENT5JCqkbknW+Dqqyz2o0QpLDuoC0+30+LoHjHGkZksIGZMITmfYgdNrbp/aLWNLkLrWRM4kdpe1HagxPZ5Bs9PzTg2dyhbSGwWEXXGYnthHBvII6UAOHmMIkaUMPNN6s+fbgCRCReyKqWWVdz+SIp6lENLrRdiWHBcIQoalWijx0ay1BHHfcmLlktOO4mIbUYN0brcjgqz7PQiXFQRKRUyFvVgp5eCSkggXsnzQQNL7AvLoxaYKKAb0BdutbKMQ0Vsl+acTYkF3oa3s8i6f8yooGXsorXUhrwnJ6pBRrzT4npFUoNqPgC3CKe6D15HKl8m1TTbl/u4BH/3xeoP4/bffuVt8dlPllkmx1SyS5sJpXc3YEoRAF4wbFISqaJtOWJ8/tOo1ApZFOzbtbmw63CNFK6HsafNrafdPGHQxTzeRdraDgwOWBtdBP7nuOt6U/mvpGD4vyjmKBKLY6p2fZEs7Lp1PH15NwXw6euH93wp0H/qL94/f/0B8Q2LVdXdrF5l1Fdm5KmzPvLqkXk3B7fAiHc9gT6ietFBbzTaruXS9pUCB1VOtrPFoPW15F8l5vem2IxqCKR5GRitjIZfkgUQFfwlKkP4tczT+3bv3fIzyVhLoHEjl6qtdY0kQnus3FYT7VQSBpTjnSlEpKrlyyVtVMe3A9NTOz5sfb16aek4E6RuK5VSNpdALpw2mVIwr+mi8112Abnqnrc8yz4vPNFWKfAwOtwxkUvBkLncBD0Ku13iGyH0ALerMZoEzBQjFjAp5scVtiYpZBUmTjGg4hvR0GVvdLeQ9wu5YaCG/2EDQoP9eanhBsyVbrTa0YAvVeFufeyKXhB1yfNriiDYVrVbj0RDUIbLb6TIRC64KchtlRF/ndfVMSOGcb3RXmoy3AGW5i6JHTxsaS4K02202iCktI7IscetR+1M/SoYeuwhpV6okWoispGF+4bxUxRokCKlJSrUC18kedw6kKrTrSIS9o0OeS2iNhREUN47acQ6D0kuipgzv+NTMjmIqxnLhtICLbjwNEw1VRruZ7yParQ6StjxvKqTj0xxzQn6zDC2k/y66fnQv+PfNioWZ0dsjHe4eoZZvopTSc9mIZMpClztkZpeqTJDPYVhtJRCRqD8zebao8fcoUCJraWkLBbe++Y0lQbZ6W4jZ08j6iyimdd2WUjUO9g9OFzXFGAreEhKuy+dVDBIkac/xzaSBNrSAV7UCosnRAzv72Dk84FmDg8Yy9QEeBhEkMaXweVCqCvXiMrXKvDCIvNMhL9ZMpkvP8z6BpLHX5ueu9vK82PGVCmRHFVpEJ0U/MZQW8OaSH8GpNBKzCjae+LH23IaG0rqgGtLv9sxEIFlUqLaW2OTuRnKPAp3fR2Gr9O2VsSRIu9GB85UfGXsRQWuUm6T5ViKIzRWwu02Btw9IbmZP6wioE3lSLSJVVvnY/tSwLOvQ1QGaLULRXbpR1AGdJAglAm6+27sw+GYQnoEOJNclCA3spNf122oSQWgY5WYoOPy2ewdydTerLVaHtrd22G5TEmXUMi2kVs+rNCQ1kh4h3T3iuvslNOpN5EJCbV0uC+nTPvdaQp80g/bMMEjtIkISSe+qRmQsCUIILie5QpA8JqGFNJRcCX6Pn6WIGq2yp4ICfGSvkN4/uIhdlbPRBT2hFydiScSjuk5PXihqWbNZkLCcT6G1fZZ3NQxf86x96FUEya9XLyUILaT/ev3i2uPWvhUKaYVd13TO1NZUiVS4N1fOUULMn4C6uIVqpfZZKTjqedrVaaMgAlIb2JNLFn/IGYV3SRjpCQmzjxc4ej7q826CsSQI7SA0Z69/cWj3sc94EVrWKwTDtgSigTikRQ2lRO10CGT/oJSRz6GvO1+F2KdGcFcRhM41tpJFwpTn86Smda6tBrcUohEHTw2LeDb1+qv3oP0S6PGKEy7+yvkVlPNVHoPncwT1kXdWDYlgCq5FPwLeEE+MoqlPlV4HWaFSXvXbSM2c8bmwXMxgJR6GTy3wnJNh0L1IJ9Ps0Yu5UwiaY6zm2Rc3r+1tHIWxJAilFSw8NaDX2cJ2ewedRpclAEkLJoglCY8hhGwmx27H2xDkOsheQRAyXkklIAyrDUQUOsqahuVNx4X09vsGSiCkTIWoO84GbtwhITwjcWC2XwFJi3Vlbo2b51HbUZopSBWCdOSuGK6piOcc6QRnS7c6ba5KTA45K+haBe0RFGIKj67LBHP8GKnTNbUO+7KbM6gvU82uwlgShAqhHD8GkV4sQTV1EFmSLuxSgxdLrpRPh7PQ4Sh9uTpDZIxXzuZi0EwMZ68O6VPpLQ2GIeN7FCjd3r7pQrihITvUzfE+goYWUXBv46UHkdksO0hINW1V2+w1jKynoBl2kZmtYCbi54IummVuFdfEJq5JbmDm+TCoH3Ewk+L6GpIE4WoJqYGx1gRS68wvHTw9jGZT9r2S6VAWuWSBN6KNOTd7N+n/3ZY+w55Akoce29874PeTgT6IsSQIXTAppqssfY/JVaDX0NTXkJzjo2+kE0gFogE7rbbuhRnGGyEJRo02XvI4YQ8F4KF2l9kMSwz6HKrLIClGqSMLmfOjC/qQFQXP3XYYbdYrm5rdB9C1pS7xlBpTDFY4m3b28SLnO6WWVBStdRR9VWTjec6doh2eGu/1x0/Ttbjq/vSE5GkKO69V1yPlg0G8QWwJTYE+u5ytQknrE4A3V31oNVs4ODiEe83PaUaOaR98yxHkUgVsrnthnXEhtBmBbcqNuDeNmFC9BzGWBLlLFIUBT8Y4dVEchSh5vz71wBrEsKuSQOOSDeU871hXEaTVauE/nv+IRCrJuUn3GRy7oZnlpjjbIrK5joA1wk6Rq1zg10W12UA0L9Qqf4ZbJV2FqCeBernJRKLzIlUr7tJHydFj5XQNzXqL/0/kJE2j1WpzqTSlrdSUBgKW8ylFE4J8BrvipiwGRqtChEQ+e20bgUT/c6+TCeLXFG6QPQp0c2k3/KuAvILF9SaizhQkg3anpKbIu892dp0ox+5QSITBDYiIGLCHocoqrPNOfqykCLXZHuDERM7HEioUESPojJymzFtWNvizKAly+cc1Tm+xzNvPOV8mBLkGhr1VX+I6jCeTfMNoB7uKWCdHb3nu4F8BFLfIrVZ4tjol/90lKGDXV8HK+Qqsiw5EfDGhshU4+Ev3giQXTeUlu4euKanFU3+bg2vNy4FimyDNxmsv8lIBHlMQZVW362jDSgRS8Gz4OBxAUmTYVp0Q5AagG+UJh+CMR4efujNQ8Iw8PtVEG2X/aLvnPuIqO+IusN3bRiKSZFIk/RL89iDMrx1Yn7Gxzek1hLDVOYtJUQxMVVRe+ERgOj9WrX6+3KU8ChOC3ADsei2XEYyPth3uAuQFKqkl1Igg3vbw0w8WCWFAhzbiLAHIFqGALalylFZE94USE78GJgS5Z4jO5uA0ueFZDyBmPuv2OK4gjxSpNbvdfVYpW5UODvdG149nwjlE/ee9THeB33//A51mb2TS6oQgn7B/cIBWt8MHjUP7VojN5bEyZeJsUqosHFfkMwW8+u8ZzP+wAk2uolXrcK14wBuEa47msZxlHFBsYtg2GAWy7dqVHmRJQdqbZ7WM0O12EbdJcK8EEHCFWOL0PWz0/6KsIGOXYZhevaAqTggC/SK5aYyxmodtq45w/c9vstaudNFRt2B94oEiXZ4AOU6gwF8lV8fR7jEb133PVDZI9TF6bIkMcK8xBPuCm/8molA6ySjU1SZcs34UcyoaagvLT9f4cb8lLAz7KHLZPHu1KpUq3Kt+vD/5IF7XxsLfjSw9jM8sFxwnD54gu8KYS6ZS2Hx/gPVUjBs5eCKhc6/xpZNf3e2acRegOhucGk7NDB4CyI6IeVN4/sNLLH9vxtQ/ZrHT3cNO5yzeQf2Tg9Yzm0+WqB3T2QaSTxShZEuCNO8QdES47pxAZNvZ0QO+uaTM30Ubj/EfVi5doMBtrdRAxJ5gqdV/z/PvX5/zUj54glCp6pzZxE0PnnscyChnzaqpdWhCkGdFyX42SDXB7UELk1zptHvTZF7Ty43TPDVKmycVrI+yqkFy6oFZiozTfaHdX0lqCNjCLGH6HqtR4IzpXI4zFIgkubTe6pX6Ha+/2oB35fzm+OAJQnj3/h2isRh+tK0j1ji7GT4lj4VYEObi+WZwE3xdLPxoQKPS0nuEKRWxaMOCKNuoqQ0sPl1BIVxCo9bkxby6uM6PkU1DHfA/vP8Al9mNuf9egeSRuYqw195CTW5iq7uju33VHnwLUR6++up/ZsTzPSZLUS5eaME0IcgAJCE9Gr0u9oTaRYTwZpJYEgSh1I8J/jyQUZ3ZoMWqq0hqqgLJJ6PZaHIjB5ICPmMEZaXMMRBSlahjf9FV404wZLeQNKK2QNTcQdpQoAZr0PJVRB1JKIEKUj69lWzcnkHeUoV91jPStpkQZAC0Y2XKKpbkDM+c2NndubPKtAn+mpgQZADuYp5T06nu3FIuXDoQZoKHgwlBBDq9Hiq1KnKNGk9fXa+rmPVvIimPntUxwcMBE4Qs/rxYHJ70/eil9Gfh4M0xcvUqrK0Kgim9B1O4kMO624XFVORa06UmGG88IkMlUVKw3iyhOqLw52uirYmdO9ZCNpmDHLq6NvlrgFyEtrLMahWNMCZ7w1WQ4P7pELZcemTqwQQPC48oF4YiyJVue/g5BhGIZlNsH9x+hvgwKPelGCsj5I0gGAhyd5HYusRd7f5sUMLbci6JmVQYj1eXYW+UJ+SY4BSX2iBEjGRVw2IyzEE0ItFdIReXkbbq0c1BfKtF6VcKsFcU1NotVqu+1XlMcP9wKUFokawJY3W5kMZ6TYW5V0NzaLrqbcCuVF/htK6YiltS9gI3J76LEs3bgKK2E1JMMAqXEoQKThxHW6ddOWbiIQTvoB1OKighaT2TRuQgcNgd8Pv8l6YHTDDBt8KpF6vTOi8dqKO2Y6txShBqp7+YT8GjFkZGHK+Lrc42trs7p3+TYW575cb8D4YJQSa4d2CCUKO19GwZcux8mrWk6b1l7d0aHNvNU7J8SRvMrF1FtXCW609JY3OPl9Ht3W560wQTfE2cqlhyUuWRAYN1vVTEHqlrWE9GYQj6EGtWEZH0Hk+3RTp8volbs9SGFMojkbze7IsJJvgz8ajcbiGmyJzclTdXUE+NrkXgaq1W+4uzWkuJKgoRfUIrecoURUXOraLbnEiQCe4fHgWKeaxWimh02sj7VcjRi9VsVHUVmc4h/CLHneq+BKnNHCp5vZSUsmQdTwOcijzBBPcRj1rtNlakBE9PugzpqATz/AaSXonrhb8UNK+aKsAI1LirUf0y0k0wwdfCpW7eQeSkPDIrJUTlPNZj5yuuboOUscillBNMcN9xLYJQnXbIlOBgWr8U8ktAVWIfPg1evGvQ+VGOFXVIHy7An2CCm+IRTezJd1qQhia2Uo5StlnndvPhuoZYu8Zp4fcVP338CUFNgbGmwHG8zekxUyHPhbahE0xwEzzKafrIL8vQTAyq17Wl44gnEnxwlV3xrKHBfcPO/h429junsRo6PB+P8Drk5UE0E0xwGzzqT1caJghN6/HMRiCZVQ4k0nhi+ve+otJswNuuwl4vYU3NYV0rwF5TsVHMXUiKnGCC6+KRXNHgE+qTY2hIfXw9i6RRRmPliG2QCSZ4iHj02mhAo9RCtXjeq/TmzQknFcbnC5McqQkeLB5NWdexOmNBYlk+9wR1GO+ZPiDsvLpZ8OHR/VW7JpjgS/GoXK9hcXUVYWPq3BNEkO7aO8SisSs9QY1Jz6gJxhgcB6H4BnWVGwTZHfmFBtJTGtrt9rnnJpjgoeCRJtWQimZGdg8k78+X1H5MMMFfHY8cj4M8xopS28kYLxYU7O8eDL9uJKjx8wQTjDMeSb4CDAtG/oN7lb4uohI9kybD6e3fqm58ggm+BR41tntQ2mfp5vE5GVpAJwg1Dzb49MElfdAkpn5T4QkmGHf8Pwtp6JbBLoP9AAAAAElFTkSuQmCC' width='200' height='133' class=\"itemThumbnail\">\n",
       "                       </a>\n",
       "                    </div>\n",
       "\n",
       "                    <div class=\"item_right\"     style=\"float: none; width: auto; overflow: hidden;\">\n",
       "                        <a href='https://UCSDOnline.maps.arcgis.com/home/item.html?id=2035a1d90d5242a19501f1d0e8c8e4a7' target='_blank'><b>polyBuildings_yizong</b>\n",
       "                        </a>\n",
       "                        <br/><img src='https://UCSDOnline.maps.arcgis.com/home/js/jsapi/esri/css/images/item_type_icons/featureshosted16.png' style=\"vertical-align:middle;\">Feature Layer Collection by yizong_DSC180A\n",
       "                        <br/>Last Modified: February 19, 2021\n",
       "                        <br/>0 comments, 9 views\n",
       "                    </div>\n",
       "                </div>\n",
       "                "
      ],
      "text/plain": [
       "<Item title:\"polyBuildings_yizong\" type:Feature Layer Collection owner:yizong_DSC180A>"
      ]
     },
     "execution_count": 52,
     "metadata": {},
     "output_type": "execute_result"
    }
   ],
   "source": [
    "# arcgis.getItemById('2035a1d90d5242a19501f1d0e8c8e4a7')"
   ]
  },
  {
   "cell_type": "code",
   "execution_count": 30,
   "id": "selective-mustang",
   "metadata": {},
   "outputs": [
    {
     "data": {
      "text/html": [
       "<div class=\"item_container\" style=\"height: auto; overflow: hidden; border: 1px solid #cfcfcf; border-radius: 2px; background: #f6fafa; line-height: 1.21429em; padding: 10px;\">\n",
       "                    <div class=\"item_left\" style=\"width: 210px; float: left;\">\n",
       "                       <a href='https://UCSDOnline.maps.arcgis.com/home/item.html?id=f01fba0ce081474ba6fec91bfe83cebe' target='_blank'>\n",
       "                        <img src='data:image/png;base64,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' width='200' height='133' class=\"itemThumbnail\">\n",
       "                       </a>\n",
       "                    </div>\n",
       "\n",
       "                    <div class=\"item_right\"     style=\"float: none; width: auto; overflow: hidden;\">\n",
       "                        <a href='https://UCSDOnline.maps.arcgis.com/home/item.html?id=f01fba0ce081474ba6fec91bfe83cebe' target='_blank'><b>multi_trace_layer</b>\n",
       "                        </a>\n",
       "                        <br/><img src='https://UCSDOnline.maps.arcgis.com/home/js/jsapi/esri/css/images/item_type_icons/featureshosted16.png' style=\"vertical-align:middle;\">Feature Layer Collection by yizong_DSC180A\n",
       "                        <br/>Last Modified: April 11, 2021\n",
       "                        <br/>0 comments, 0 views\n",
       "                    </div>\n",
       "                </div>\n",
       "                "
      ],
      "text/plain": [
       "<Item title:\"multi_trace_layer\" type:Feature Layer Collection owner:yizong_DSC180A>"
      ]
     },
     "execution_count": 30,
     "metadata": {},
     "output_type": "execute_result"
    }
   ],
   "source": [
    "arcgis.contentSearch(arcgis.arc_username,\"multi_trace_layer\")[0]"
   ]
  },
  {
   "cell_type": "code",
   "execution_count": 40,
   "id": "genuine-collectible",
   "metadata": {},
   "outputs": [],
   "source": [
    "update_layer = arcgis.contentSearch(arcgis.arc_username,\"TracedBuildings_oneday\")[0].layers[1]\n",
    "features_update = arcgis.getFeatures(update_layer)"
   ]
  },
  {
   "cell_type": "code",
   "execution_count": 31,
   "id": "smart-trouble",
   "metadata": {
    "scrolled": true
   },
   "outputs": [],
   "source": [
    "building1_layer = arcgis.contentSearch(arcgis.arc_username,\"multi_trace_layer\")[0].layers[0]"
   ]
  },
  {
   "cell_type": "code",
   "execution_count": 20,
   "id": "twenty-palmer",
   "metadata": {},
   "outputs": [],
   "source": [
    "# building1_layer.attributes[\"Monitored Status\"]\n",
    "features = arcgis.getFeatures(building1_layer)"
   ]
  },
  {
   "cell_type": "code",
   "execution_count": 53,
   "id": "mental-electricity",
   "metadata": {},
   "outputs": [
    {
     "data": {
      "text/plain": [
       "list"
      ]
     },
     "execution_count": 53,
     "metadata": {},
     "output_type": "execute_result"
    }
   ],
   "source": [
    "type(features[:602])"
   ]
  },
  {
   "cell_type": "code",
   "execution_count": 58,
   "id": "plastic-whole",
   "metadata": {},
   "outputs": [],
   "source": [
    "object_ids = [str(f.get_value('OBJECTID')) for f in features[:602]]\n",
    "object_ids_str = \",\".join(object_ids)"
   ]
  },
  {
   "cell_type": "code",
   "execution_count": 89,
   "id": "vital-values",
   "metadata": {},
   "outputs": [
    {
     "data": {
      "text/plain": [
       "{'addResults': [],\n",
       " 'updateResults': [{'objectId': 603,\n",
       "   'uniqueId': 603,\n",
       "   'globalId': None,\n",
       "   'success': True},\n",
       "  {'objectId': 604, 'uniqueId': 604, 'globalId': None, 'success': True},\n",
       "  {'objectId': 605, 'uniqueId': 605, 'globalId': None, 'success': True},\n",
       "  {'objectId': 606, 'uniqueId': 606, 'globalId': None, 'success': True},\n",
       "  {'objectId': 607, 'uniqueId': 607, 'globalId': None, 'success': True},\n",
       "  {'objectId': 608, 'uniqueId': 608, 'globalId': None, 'success': True},\n",
       "  {'objectId': 609, 'uniqueId': 609, 'globalId': None, 'success': True},\n",
       "  {'objectId': 610, 'uniqueId': 610, 'globalId': None, 'success': True},\n",
       "  {'objectId': 611, 'uniqueId': 611, 'globalId': None, 'success': True},\n",
       "  {'objectId': 612, 'uniqueId': 612, 'globalId': None, 'success': True},\n",
       "  {'objectId': 613, 'uniqueId': 613, 'globalId': None, 'success': True},\n",
       "  {'objectId': 614, 'uniqueId': 614, 'globalId': None, 'success': True},\n",
       "  {'objectId': 615, 'uniqueId': 615, 'globalId': None, 'success': True},\n",
       "  {'objectId': 616, 'uniqueId': 616, 'globalId': None, 'success': True},\n",
       "  {'objectId': 617, 'uniqueId': 617, 'globalId': None, 'success': True},\n",
       "  {'objectId': 618, 'uniqueId': 618, 'globalId': None, 'success': True},\n",
       "  {'objectId': 619, 'uniqueId': 619, 'globalId': None, 'success': True},\n",
       "  {'objectId': 620, 'uniqueId': 620, 'globalId': None, 'success': True},\n",
       "  {'objectId': 621, 'uniqueId': 621, 'globalId': None, 'success': True},\n",
       "  {'objectId': 622, 'uniqueId': 622, 'globalId': None, 'success': True},\n",
       "  {'objectId': 623, 'uniqueId': 623, 'globalId': None, 'success': True},\n",
       "  {'objectId': 624, 'uniqueId': 624, 'globalId': None, 'success': True},\n",
       "  {'objectId': 625, 'uniqueId': 625, 'globalId': None, 'success': True},\n",
       "  {'objectId': 626, 'uniqueId': 626, 'globalId': None, 'success': True},\n",
       "  {'objectId': 627, 'uniqueId': 627, 'globalId': None, 'success': True},\n",
       "  {'objectId': 628, 'uniqueId': 628, 'globalId': None, 'success': True},\n",
       "  {'objectId': 629, 'uniqueId': 629, 'globalId': None, 'success': True},\n",
       "  {'objectId': 630, 'uniqueId': 630, 'globalId': None, 'success': True},\n",
       "  {'objectId': 631, 'uniqueId': 631, 'globalId': None, 'success': True},\n",
       "  {'objectId': 632, 'uniqueId': 632, 'globalId': None, 'success': True},\n",
       "  {'objectId': 633, 'uniqueId': 633, 'globalId': None, 'success': True},\n",
       "  {'objectId': 634, 'uniqueId': 634, 'globalId': None, 'success': True},\n",
       "  {'objectId': 635, 'uniqueId': 635, 'globalId': None, 'success': True},\n",
       "  {'objectId': 636, 'uniqueId': 636, 'globalId': None, 'success': True},\n",
       "  {'objectId': 637, 'uniqueId': 637, 'globalId': None, 'success': True},\n",
       "  {'objectId': 638, 'uniqueId': 638, 'globalId': None, 'success': True},\n",
       "  {'objectId': 639, 'uniqueId': 639, 'globalId': None, 'success': True},\n",
       "  {'objectId': 640, 'uniqueId': 640, 'globalId': None, 'success': True},\n",
       "  {'objectId': 641, 'uniqueId': 641, 'globalId': None, 'success': True},\n",
       "  {'objectId': 642, 'uniqueId': 642, 'globalId': None, 'success': True},\n",
       "  {'objectId': 643, 'uniqueId': 643, 'globalId': None, 'success': True},\n",
       "  {'objectId': 644, 'uniqueId': 644, 'globalId': None, 'success': True},\n",
       "  {'objectId': 645, 'uniqueId': 645, 'globalId': None, 'success': True},\n",
       "  {'objectId': 646, 'uniqueId': 646, 'globalId': None, 'success': True},\n",
       "  {'objectId': 647, 'uniqueId': 647, 'globalId': None, 'success': True},\n",
       "  {'objectId': 648, 'uniqueId': 648, 'globalId': None, 'success': True},\n",
       "  {'objectId': 649, 'uniqueId': 649, 'globalId': None, 'success': True},\n",
       "  {'objectId': 650, 'uniqueId': 650, 'globalId': None, 'success': True},\n",
       "  {'objectId': 651, 'uniqueId': 651, 'globalId': None, 'success': True},\n",
       "  {'objectId': 652, 'uniqueId': 652, 'globalId': None, 'success': True},\n",
       "  {'objectId': 653, 'uniqueId': 653, 'globalId': None, 'success': True},\n",
       "  {'objectId': 654, 'uniqueId': 654, 'globalId': None, 'success': True},\n",
       "  {'objectId': 655, 'uniqueId': 655, 'globalId': None, 'success': True},\n",
       "  {'objectId': 656, 'uniqueId': 656, 'globalId': None, 'success': True},\n",
       "  {'objectId': 657, 'uniqueId': 657, 'globalId': None, 'success': True},\n",
       "  {'objectId': 658, 'uniqueId': 658, 'globalId': None, 'success': True},\n",
       "  {'objectId': 659, 'uniqueId': 659, 'globalId': None, 'success': True},\n",
       "  {'objectId': 660, 'uniqueId': 660, 'globalId': None, 'success': True},\n",
       "  {'objectId': 661, 'uniqueId': 661, 'globalId': None, 'success': True},\n",
       "  {'objectId': 662, 'uniqueId': 662, 'globalId': None, 'success': True},\n",
       "  {'objectId': 663, 'uniqueId': 663, 'globalId': None, 'success': True},\n",
       "  {'objectId': 664, 'uniqueId': 664, 'globalId': None, 'success': True},\n",
       "  {'objectId': 665, 'uniqueId': 665, 'globalId': None, 'success': True},\n",
       "  {'objectId': 666, 'uniqueId': 666, 'globalId': None, 'success': True},\n",
       "  {'objectId': 667, 'uniqueId': 667, 'globalId': None, 'success': True},\n",
       "  {'objectId': 668, 'uniqueId': 668, 'globalId': None, 'success': True},\n",
       "  {'objectId': 669, 'uniqueId': 669, 'globalId': None, 'success': True},\n",
       "  {'objectId': 670, 'uniqueId': 670, 'globalId': None, 'success': True},\n",
       "  {'objectId': 671, 'uniqueId': 671, 'globalId': None, 'success': True},\n",
       "  {'objectId': 672, 'uniqueId': 672, 'globalId': None, 'success': True},\n",
       "  {'objectId': 673, 'uniqueId': 673, 'globalId': None, 'success': True},\n",
       "  {'objectId': 674, 'uniqueId': 674, 'globalId': None, 'success': True},\n",
       "  {'objectId': 675, 'uniqueId': 675, 'globalId': None, 'success': True},\n",
       "  {'objectId': 676, 'uniqueId': 676, 'globalId': None, 'success': True},\n",
       "  {'objectId': 677, 'uniqueId': 677, 'globalId': None, 'success': True},\n",
       "  {'objectId': 678, 'uniqueId': 678, 'globalId': None, 'success': True},\n",
       "  {'objectId': 679, 'uniqueId': 679, 'globalId': None, 'success': True},\n",
       "  {'objectId': 680, 'uniqueId': 680, 'globalId': None, 'success': True},\n",
       "  {'objectId': 681, 'uniqueId': 681, 'globalId': None, 'success': True},\n",
       "  {'objectId': 682, 'uniqueId': 682, 'globalId': None, 'success': True},\n",
       "  {'objectId': 683, 'uniqueId': 683, 'globalId': None, 'success': True},\n",
       "  {'objectId': 684, 'uniqueId': 684, 'globalId': None, 'success': True},\n",
       "  {'objectId': 685, 'uniqueId': 685, 'globalId': None, 'success': True},\n",
       "  {'objectId': 686, 'uniqueId': 686, 'globalId': None, 'success': True},\n",
       "  {'objectId': 687, 'uniqueId': 687, 'globalId': None, 'success': True},\n",
       "  {'objectId': 688, 'uniqueId': 688, 'globalId': None, 'success': True},\n",
       "  {'objectId': 689, 'uniqueId': 689, 'globalId': None, 'success': True},\n",
       "  {'objectId': 690, 'uniqueId': 690, 'globalId': None, 'success': True},\n",
       "  {'objectId': 691, 'uniqueId': 691, 'globalId': None, 'success': True},\n",
       "  {'objectId': 692, 'uniqueId': 692, 'globalId': None, 'success': True},\n",
       "  {'objectId': 693, 'uniqueId': 693, 'globalId': None, 'success': True},\n",
       "  {'objectId': 694, 'uniqueId': 694, 'globalId': None, 'success': True},\n",
       "  {'objectId': 695, 'uniqueId': 695, 'globalId': None, 'success': True},\n",
       "  {'objectId': 696, 'uniqueId': 696, 'globalId': None, 'success': True},\n",
       "  {'objectId': 697, 'uniqueId': 697, 'globalId': None, 'success': True},\n",
       "  {'objectId': 698, 'uniqueId': 698, 'globalId': None, 'success': True},\n",
       "  {'objectId': 699, 'uniqueId': 699, 'globalId': None, 'success': True},\n",
       "  {'objectId': 700, 'uniqueId': 700, 'globalId': None, 'success': True},\n",
       "  {'objectId': 701, 'uniqueId': 701, 'globalId': None, 'success': True},\n",
       "  {'objectId': 702, 'uniqueId': 702, 'globalId': None, 'success': True},\n",
       "  {'objectId': 703, 'uniqueId': 703, 'globalId': None, 'success': True},\n",
       "  {'objectId': 704, 'uniqueId': 704, 'globalId': None, 'success': True},\n",
       "  {'objectId': 705, 'uniqueId': 705, 'globalId': None, 'success': True},\n",
       "  {'objectId': 706, 'uniqueId': 706, 'globalId': None, 'success': True},\n",
       "  {'objectId': 707, 'uniqueId': 707, 'globalId': None, 'success': True},\n",
       "  {'objectId': 708, 'uniqueId': 708, 'globalId': None, 'success': True},\n",
       "  {'objectId': 709, 'uniqueId': 709, 'globalId': None, 'success': True},\n",
       "  {'objectId': 710, 'uniqueId': 710, 'globalId': None, 'success': True},\n",
       "  {'objectId': 711, 'uniqueId': 711, 'globalId': None, 'success': True},\n",
       "  {'objectId': 712, 'uniqueId': 712, 'globalId': None, 'success': True},\n",
       "  {'objectId': 713, 'uniqueId': 713, 'globalId': None, 'success': True},\n",
       "  {'objectId': 714, 'uniqueId': 714, 'globalId': None, 'success': True},\n",
       "  {'objectId': 715, 'uniqueId': 715, 'globalId': None, 'success': True},\n",
       "  {'objectId': 716, 'uniqueId': 716, 'globalId': None, 'success': True},\n",
       "  {'objectId': 717, 'uniqueId': 717, 'globalId': None, 'success': True},\n",
       "  {'objectId': 718, 'uniqueId': 718, 'globalId': None, 'success': True},\n",
       "  {'objectId': 719, 'uniqueId': 719, 'globalId': None, 'success': True},\n",
       "  {'objectId': 720, 'uniqueId': 720, 'globalId': None, 'success': True},\n",
       "  {'objectId': 721, 'uniqueId': 721, 'globalId': None, 'success': True},\n",
       "  {'objectId': 722, 'uniqueId': 722, 'globalId': None, 'success': True},\n",
       "  {'objectId': 723, 'uniqueId': 723, 'globalId': None, 'success': True},\n",
       "  {'objectId': 724, 'uniqueId': 724, 'globalId': None, 'success': True},\n",
       "  {'objectId': 725, 'uniqueId': 725, 'globalId': None, 'success': True},\n",
       "  {'objectId': 726, 'uniqueId': 726, 'globalId': None, 'success': True},\n",
       "  {'objectId': 727, 'uniqueId': 727, 'globalId': None, 'success': True},\n",
       "  {'objectId': 728, 'uniqueId': 728, 'globalId': None, 'success': True},\n",
       "  {'objectId': 729, 'uniqueId': 729, 'globalId': None, 'success': True},\n",
       "  {'objectId': 730, 'uniqueId': 730, 'globalId': None, 'success': True},\n",
       "  {'objectId': 731, 'uniqueId': 731, 'globalId': None, 'success': True},\n",
       "  {'objectId': 732, 'uniqueId': 732, 'globalId': None, 'success': True},\n",
       "  {'objectId': 733, 'uniqueId': 733, 'globalId': None, 'success': True},\n",
       "  {'objectId': 734, 'uniqueId': 734, 'globalId': None, 'success': True},\n",
       "  {'objectId': 735, 'uniqueId': 735, 'globalId': None, 'success': True},\n",
       "  {'objectId': 736, 'uniqueId': 736, 'globalId': None, 'success': True},\n",
       "  {'objectId': 737, 'uniqueId': 737, 'globalId': None, 'success': True},\n",
       "  {'objectId': 738, 'uniqueId': 738, 'globalId': None, 'success': True},\n",
       "  {'objectId': 739, 'uniqueId': 739, 'globalId': None, 'success': True},\n",
       "  {'objectId': 740, 'uniqueId': 740, 'globalId': None, 'success': True},\n",
       "  {'objectId': 741, 'uniqueId': 741, 'globalId': None, 'success': True},\n",
       "  {'objectId': 742, 'uniqueId': 742, 'globalId': None, 'success': True},\n",
       "  {'objectId': 743, 'uniqueId': 743, 'globalId': None, 'success': True},\n",
       "  {'objectId': 744, 'uniqueId': 744, 'globalId': None, 'success': True},\n",
       "  {'objectId': 745, 'uniqueId': 745, 'globalId': None, 'success': True},\n",
       "  {'objectId': 746, 'uniqueId': 746, 'globalId': None, 'success': True},\n",
       "  {'objectId': 747, 'uniqueId': 747, 'globalId': None, 'success': True},\n",
       "  {'objectId': 748, 'uniqueId': 748, 'globalId': None, 'success': True},\n",
       "  {'objectId': 749, 'uniqueId': 749, 'globalId': None, 'success': True},\n",
       "  {'objectId': 750, 'uniqueId': 750, 'globalId': None, 'success': True},\n",
       "  {'objectId': 751, 'uniqueId': 751, 'globalId': None, 'success': True},\n",
       "  {'objectId': 752, 'uniqueId': 752, 'globalId': None, 'success': True},\n",
       "  {'objectId': 753, 'uniqueId': 753, 'globalId': None, 'success': True},\n",
       "  {'objectId': 754, 'uniqueId': 754, 'globalId': None, 'success': True},\n",
       "  {'objectId': 755, 'uniqueId': 755, 'globalId': None, 'success': True},\n",
       "  {'objectId': 756, 'uniqueId': 756, 'globalId': None, 'success': True},\n",
       "  {'objectId': 757, 'uniqueId': 757, 'globalId': None, 'success': True},\n",
       "  {'objectId': 758, 'uniqueId': 758, 'globalId': None, 'success': True},\n",
       "  {'objectId': 759, 'uniqueId': 759, 'globalId': None, 'success': True},\n",
       "  {'objectId': 760, 'uniqueId': 760, 'globalId': None, 'success': True},\n",
       "  {'objectId': 761, 'uniqueId': 761, 'globalId': None, 'success': True},\n",
       "  {'objectId': 762, 'uniqueId': 762, 'globalId': None, 'success': True},\n",
       "  {'objectId': 763, 'uniqueId': 763, 'globalId': None, 'success': True},\n",
       "  {'objectId': 764, 'uniqueId': 764, 'globalId': None, 'success': True},\n",
       "  {'objectId': 765, 'uniqueId': 765, 'globalId': None, 'success': True},\n",
       "  {'objectId': 766, 'uniqueId': 766, 'globalId': None, 'success': True},\n",
       "  {'objectId': 767, 'uniqueId': 767, 'globalId': None, 'success': True},\n",
       "  {'objectId': 768, 'uniqueId': 768, 'globalId': None, 'success': True},\n",
       "  {'objectId': 769, 'uniqueId': 769, 'globalId': None, 'success': True},\n",
       "  {'objectId': 770, 'uniqueId': 770, 'globalId': None, 'success': True},\n",
       "  {'objectId': 771, 'uniqueId': 771, 'globalId': None, 'success': True},\n",
       "  {'objectId': 772, 'uniqueId': 772, 'globalId': None, 'success': True},\n",
       "  {'objectId': 773, 'uniqueId': 773, 'globalId': None, 'success': True},\n",
       "  {'objectId': 774, 'uniqueId': 774, 'globalId': None, 'success': True},\n",
       "  {'objectId': 775, 'uniqueId': 775, 'globalId': None, 'success': True},\n",
       "  {'objectId': 776, 'uniqueId': 776, 'globalId': None, 'success': True},\n",
       "  {'objectId': 777, 'uniqueId': 777, 'globalId': None, 'success': True},\n",
       "  {'objectId': 778, 'uniqueId': 778, 'globalId': None, 'success': True},\n",
       "  {'objectId': 779, 'uniqueId': 779, 'globalId': None, 'success': True},\n",
       "  {'objectId': 780, 'uniqueId': 780, 'globalId': None, 'success': True},\n",
       "  {'objectId': 781, 'uniqueId': 781, 'globalId': None, 'success': True},\n",
       "  {'objectId': 782, 'uniqueId': 782, 'globalId': None, 'success': True},\n",
       "  {'objectId': 783, 'uniqueId': 783, 'globalId': None, 'success': True},\n",
       "  {'objectId': 784, 'uniqueId': 784, 'globalId': None, 'success': True},\n",
       "  {'objectId': 785, 'uniqueId': 785, 'globalId': None, 'success': True},\n",
       "  {'objectId': 786, 'uniqueId': 786, 'globalId': None, 'success': True},\n",
       "  {'objectId': 787, 'uniqueId': 787, 'globalId': None, 'success': True},\n",
       "  {'objectId': 788, 'uniqueId': 788, 'globalId': None, 'success': True},\n",
       "  {'objectId': 789, 'uniqueId': 789, 'globalId': None, 'success': True},\n",
       "  {'objectId': 790, 'uniqueId': 790, 'globalId': None, 'success': True},\n",
       "  {'objectId': 791, 'uniqueId': 791, 'globalId': None, 'success': True},\n",
       "  {'objectId': 792, 'uniqueId': 792, 'globalId': None, 'success': True},\n",
       "  {'objectId': 793, 'uniqueId': 793, 'globalId': None, 'success': True},\n",
       "  {'objectId': 794, 'uniqueId': 794, 'globalId': None, 'success': True},\n",
       "  {'objectId': 795, 'uniqueId': 795, 'globalId': None, 'success': True},\n",
       "  {'objectId': 796, 'uniqueId': 796, 'globalId': None, 'success': True},\n",
       "  {'objectId': 797, 'uniqueId': 797, 'globalId': None, 'success': True},\n",
       "  {'objectId': 798, 'uniqueId': 798, 'globalId': None, 'success': True},\n",
       "  {'objectId': 799, 'uniqueId': 799, 'globalId': None, 'success': True},\n",
       "  {'objectId': 800, 'uniqueId': 800, 'globalId': None, 'success': True},\n",
       "  {'objectId': 801, 'uniqueId': 801, 'globalId': None, 'success': True},\n",
       "  {'objectId': 802, 'uniqueId': 802, 'globalId': None, 'success': True},\n",
       "  {'objectId': 803, 'uniqueId': 803, 'globalId': None, 'success': True},\n",
       "  {'objectId': 804, 'uniqueId': 804, 'globalId': None, 'success': True},\n",
       "  {'objectId': 805, 'uniqueId': 805, 'globalId': None, 'success': True},\n",
       "  {'objectId': 806, 'uniqueId': 806, 'globalId': None, 'success': True},\n",
       "  {'objectId': 807, 'uniqueId': 807, 'globalId': None, 'success': True},\n",
       "  {'objectId': 808, 'uniqueId': 808, 'globalId': None, 'success': True},\n",
       "  {'objectId': 809, 'uniqueId': 809, 'globalId': None, 'success': True},\n",
       "  {'objectId': 810, 'uniqueId': 810, 'globalId': None, 'success': True},\n",
       "  {'objectId': 811, 'uniqueId': 811, 'globalId': None, 'success': True},\n",
       "  {'objectId': 812, 'uniqueId': 812, 'globalId': None, 'success': True},\n",
       "  {'objectId': 813, 'uniqueId': 813, 'globalId': None, 'success': True},\n",
       "  {'objectId': 814, 'uniqueId': 814, 'globalId': None, 'success': True},\n",
       "  {'objectId': 815, 'uniqueId': 815, 'globalId': None, 'success': True},\n",
       "  {'objectId': 816, 'uniqueId': 816, 'globalId': None, 'success': True},\n",
       "  {'objectId': 817, 'uniqueId': 817, 'globalId': None, 'success': True},\n",
       "  {'objectId': 818, 'uniqueId': 818, 'globalId': None, 'success': True},\n",
       "  {'objectId': 819, 'uniqueId': 819, 'globalId': None, 'success': True},\n",
       "  {'objectId': 820, 'uniqueId': 820, 'globalId': None, 'success': True},\n",
       "  {'objectId': 821, 'uniqueId': 821, 'globalId': None, 'success': True},\n",
       "  {'objectId': 822, 'uniqueId': 822, 'globalId': None, 'success': True},\n",
       "  {'objectId': 823, 'uniqueId': 823, 'globalId': None, 'success': True},\n",
       "  {'objectId': 824, 'uniqueId': 824, 'globalId': None, 'success': True},\n",
       "  {'objectId': 825, 'uniqueId': 825, 'globalId': None, 'success': True},\n",
       "  {'objectId': 826, 'uniqueId': 826, 'globalId': None, 'success': True},\n",
       "  {'objectId': 827, 'uniqueId': 827, 'globalId': None, 'success': True},\n",
       "  {'objectId': 828, 'uniqueId': 828, 'globalId': None, 'success': True},\n",
       "  {'objectId': 829, 'uniqueId': 829, 'globalId': None, 'success': True},\n",
       "  {'objectId': 830, 'uniqueId': 830, 'globalId': None, 'success': True},\n",
       "  {'objectId': 831, 'uniqueId': 831, 'globalId': None, 'success': True},\n",
       "  {'objectId': 832, 'uniqueId': 832, 'globalId': None, 'success': True},\n",
       "  {'objectId': 833, 'uniqueId': 833, 'globalId': None, 'success': True},\n",
       "  {'objectId': 834, 'uniqueId': 834, 'globalId': None, 'success': True},\n",
       "  {'objectId': 835, 'uniqueId': 835, 'globalId': None, 'success': True},\n",
       "  {'objectId': 836, 'uniqueId': 836, 'globalId': None, 'success': True},\n",
       "  {'objectId': 837, 'uniqueId': 837, 'globalId': None, 'success': True},\n",
       "  {'objectId': 838, 'uniqueId': 838, 'globalId': None, 'success': True},\n",
       "  {'objectId': 839, 'uniqueId': 839, 'globalId': None, 'success': True},\n",
       "  {'objectId': 840, 'uniqueId': 840, 'globalId': None, 'success': True},\n",
       "  {'objectId': 841, 'uniqueId': 841, 'globalId': None, 'success': True},\n",
       "  {'objectId': 842, 'uniqueId': 842, 'globalId': None, 'success': True},\n",
       "  {'objectId': 843, 'uniqueId': 843, 'globalId': None, 'success': True},\n",
       "  {'objectId': 844, 'uniqueId': 844, 'globalId': None, 'success': True},\n",
       "  {'objectId': 845, 'uniqueId': 845, 'globalId': None, 'success': True},\n",
       "  {'objectId': 846, 'uniqueId': 846, 'globalId': None, 'success': True},\n",
       "  {'objectId': 847, 'uniqueId': 847, 'globalId': None, 'success': True},\n",
       "  {'objectId': 848, 'uniqueId': 848, 'globalId': None, 'success': True},\n",
       "  {'objectId': 849, 'uniqueId': 849, 'globalId': None, 'success': True},\n",
       "  {'objectId': 850, 'uniqueId': 850, 'globalId': None, 'success': True},\n",
       "  {'objectId': 851, 'uniqueId': 851, 'globalId': None, 'success': True},\n",
       "  {'objectId': 852, 'uniqueId': 852, 'globalId': None, 'success': True},\n",
       "  {'objectId': 853, 'uniqueId': 853, 'globalId': None, 'success': True},\n",
       "  {'objectId': 854, 'uniqueId': 854, 'globalId': None, 'success': True},\n",
       "  {'objectId': 855, 'uniqueId': 855, 'globalId': None, 'success': True},\n",
       "  {'objectId': 856, 'uniqueId': 856, 'globalId': None, 'success': True},\n",
       "  {'objectId': 857, 'uniqueId': 857, 'globalId': None, 'success': True},\n",
       "  {'objectId': 858, 'uniqueId': 858, 'globalId': None, 'success': True},\n",
       "  {'objectId': 859, 'uniqueId': 859, 'globalId': None, 'success': True},\n",
       "  {'objectId': 860, 'uniqueId': 860, 'globalId': None, 'success': True},\n",
       "  {'objectId': 861, 'uniqueId': 861, 'globalId': None, 'success': True},\n",
       "  {'objectId': 862, 'uniqueId': 862, 'globalId': None, 'success': True},\n",
       "  {'objectId': 863, 'uniqueId': 863, 'globalId': None, 'success': True},\n",
       "  {'objectId': 864, 'uniqueId': 864, 'globalId': None, 'success': True},\n",
       "  {'objectId': 865, 'uniqueId': 865, 'globalId': None, 'success': True},\n",
       "  {'objectId': 866, 'uniqueId': 866, 'globalId': None, 'success': True},\n",
       "  {'objectId': 867, 'uniqueId': 867, 'globalId': None, 'success': True},\n",
       "  {'objectId': 868, 'uniqueId': 868, 'globalId': None, 'success': True},\n",
       "  {'objectId': 869, 'uniqueId': 869, 'globalId': None, 'success': True},\n",
       "  {'objectId': 870, 'uniqueId': 870, 'globalId': None, 'success': True},\n",
       "  {'objectId': 871, 'uniqueId': 871, 'globalId': None, 'success': True},\n",
       "  {'objectId': 872, 'uniqueId': 872, 'globalId': None, 'success': True},\n",
       "  {'objectId': 873, 'uniqueId': 873, 'globalId': None, 'success': True},\n",
       "  {'objectId': 874, 'uniqueId': 874, 'globalId': None, 'success': True},\n",
       "  {'objectId': 875, 'uniqueId': 875, 'globalId': None, 'success': True},\n",
       "  {'objectId': 876, 'uniqueId': 876, 'globalId': None, 'success': True},\n",
       "  {'objectId': 877, 'uniqueId': 877, 'globalId': None, 'success': True},\n",
       "  {'objectId': 878, 'uniqueId': 878, 'globalId': None, 'success': True},\n",
       "  {'objectId': 879, 'uniqueId': 879, 'globalId': None, 'success': True},\n",
       "  {'objectId': 880, 'uniqueId': 880, 'globalId': None, 'success': True},\n",
       "  {'objectId': 881, 'uniqueId': 881, 'globalId': None, 'success': True},\n",
       "  {'objectId': 882, 'uniqueId': 882, 'globalId': None, 'success': True},\n",
       "  {'objectId': 883, 'uniqueId': 883, 'globalId': None, 'success': True},\n",
       "  {'objectId': 884, 'uniqueId': 884, 'globalId': None, 'success': True},\n",
       "  {'objectId': 885, 'uniqueId': 885, 'globalId': None, 'success': True},\n",
       "  {'objectId': 886, 'uniqueId': 886, 'globalId': None, 'success': True},\n",
       "  {'objectId': 887, 'uniqueId': 887, 'globalId': None, 'success': True},\n",
       "  {'objectId': 888, 'uniqueId': 888, 'globalId': None, 'success': True},\n",
       "  {'objectId': 889, 'uniqueId': 889, 'globalId': None, 'success': True},\n",
       "  {'objectId': 890, 'uniqueId': 890, 'globalId': None, 'success': True},\n",
       "  {'objectId': 891, 'uniqueId': 891, 'globalId': None, 'success': True},\n",
       "  {'objectId': 892, 'uniqueId': 892, 'globalId': None, 'success': True},\n",
       "  {'objectId': 893, 'uniqueId': 893, 'globalId': None, 'success': True},\n",
       "  {'objectId': 894, 'uniqueId': 894, 'globalId': None, 'success': True},\n",
       "  {'objectId': 895, 'uniqueId': 895, 'globalId': None, 'success': True},\n",
       "  {'objectId': 896, 'uniqueId': 896, 'globalId': None, 'success': True},\n",
       "  {'objectId': 897, 'uniqueId': 897, 'globalId': None, 'success': True},\n",
       "  {'objectId': 898, 'uniqueId': 898, 'globalId': None, 'success': True},\n",
       "  {'objectId': 899, 'uniqueId': 899, 'globalId': None, 'success': True},\n",
       "  {'objectId': 900, 'uniqueId': 900, 'globalId': None, 'success': True},\n",
       "  {'objectId': 901, 'uniqueId': 901, 'globalId': None, 'success': True},\n",
       "  {'objectId': 902, 'uniqueId': 902, 'globalId': None, 'success': True},\n",
       "  {'objectId': 903, 'uniqueId': 903, 'globalId': None, 'success': True},\n",
       "  {'objectId': 904, 'uniqueId': 904, 'globalId': None, 'success': True},\n",
       "  {'objectId': 905, 'uniqueId': 905, 'globalId': None, 'success': True},\n",
       "  {'objectId': 906, 'uniqueId': 906, 'globalId': None, 'success': True},\n",
       "  {'objectId': 907, 'uniqueId': 907, 'globalId': None, 'success': True},\n",
       "  {'objectId': 908, 'uniqueId': 908, 'globalId': None, 'success': True},\n",
       "  {'objectId': 909, 'uniqueId': 909, 'globalId': None, 'success': True},\n",
       "  {'objectId': 910, 'uniqueId': 910, 'globalId': None, 'success': True},\n",
       "  {'objectId': 911, 'uniqueId': 911, 'globalId': None, 'success': True},\n",
       "  {'objectId': 912, 'uniqueId': 912, 'globalId': None, 'success': True},\n",
       "  {'objectId': 913, 'uniqueId': 913, 'globalId': None, 'success': True},\n",
       "  {'objectId': 914, 'uniqueId': 914, 'globalId': None, 'success': True},\n",
       "  {'objectId': 915, 'uniqueId': 915, 'globalId': None, 'success': True},\n",
       "  {'objectId': 916, 'uniqueId': 916, 'globalId': None, 'success': True},\n",
       "  {'objectId': 917, 'uniqueId': 917, 'globalId': None, 'success': True},\n",
       "  {'objectId': 918, 'uniqueId': 918, 'globalId': None, 'success': True},\n",
       "  {'objectId': 919, 'uniqueId': 919, 'globalId': None, 'success': True},\n",
       "  {'objectId': 920, 'uniqueId': 920, 'globalId': None, 'success': True},\n",
       "  {'objectId': 921, 'uniqueId': 921, 'globalId': None, 'success': True},\n",
       "  {'objectId': 922, 'uniqueId': 922, 'globalId': None, 'success': True},\n",
       "  {'objectId': 923, 'uniqueId': 923, 'globalId': None, 'success': True},\n",
       "  {'objectId': 924, 'uniqueId': 924, 'globalId': None, 'success': True},\n",
       "  {'objectId': 925, 'uniqueId': 925, 'globalId': None, 'success': True},\n",
       "  {'objectId': 926, 'uniqueId': 926, 'globalId': None, 'success': True},\n",
       "  {'objectId': 927, 'uniqueId': 927, 'globalId': None, 'success': True},\n",
       "  {'objectId': 928, 'uniqueId': 928, 'globalId': None, 'success': True},\n",
       "  {'objectId': 929, 'uniqueId': 929, 'globalId': None, 'success': True},\n",
       "  {'objectId': 930, 'uniqueId': 930, 'globalId': None, 'success': True},\n",
       "  {'objectId': 931, 'uniqueId': 931, 'globalId': None, 'success': True},\n",
       "  {'objectId': 932, 'uniqueId': 932, 'globalId': None, 'success': True},\n",
       "  {'objectId': 933, 'uniqueId': 933, 'globalId': None, 'success': True},\n",
       "  {'objectId': 934, 'uniqueId': 934, 'globalId': None, 'success': True},\n",
       "  {'objectId': 935, 'uniqueId': 935, 'globalId': None, 'success': True},\n",
       "  {'objectId': 936, 'uniqueId': 936, 'globalId': None, 'success': True},\n",
       "  {'objectId': 937, 'uniqueId': 937, 'globalId': None, 'success': True},\n",
       "  {'objectId': 938, 'uniqueId': 938, 'globalId': None, 'success': True},\n",
       "  {'objectId': 939, 'uniqueId': 939, 'globalId': None, 'success': True},\n",
       "  {'objectId': 940, 'uniqueId': 940, 'globalId': None, 'success': True},\n",
       "  {'objectId': 941, 'uniqueId': 941, 'globalId': None, 'success': True},\n",
       "  {'objectId': 942, 'uniqueId': 942, 'globalId': None, 'success': True},\n",
       "  {'objectId': 943, 'uniqueId': 943, 'globalId': None, 'success': True},\n",
       "  {'objectId': 944, 'uniqueId': 944, 'globalId': None, 'success': True},\n",
       "  {'objectId': 945, 'uniqueId': 945, 'globalId': None, 'success': True},\n",
       "  {'objectId': 946, 'uniqueId': 946, 'globalId': None, 'success': True},\n",
       "  {'objectId': 947, 'uniqueId': 947, 'globalId': None, 'success': True},\n",
       "  {'objectId': 948, 'uniqueId': 948, 'globalId': None, 'success': True},\n",
       "  {'objectId': 949, 'uniqueId': 949, 'globalId': None, 'success': True},\n",
       "  {'objectId': 950, 'uniqueId': 950, 'globalId': None, 'success': True},\n",
       "  {'objectId': 951, 'uniqueId': 951, 'globalId': None, 'success': True},\n",
       "  {'objectId': 952, 'uniqueId': 952, 'globalId': None, 'success': True},\n",
       "  {'objectId': 953, 'uniqueId': 953, 'globalId': None, 'success': True},\n",
       "  {'objectId': 954, 'uniqueId': 954, 'globalId': None, 'success': True},\n",
       "  {'objectId': 955, 'uniqueId': 955, 'globalId': None, 'success': True},\n",
       "  {'objectId': 956, 'uniqueId': 956, 'globalId': None, 'success': True},\n",
       "  {'objectId': 957, 'uniqueId': 957, 'globalId': None, 'success': True},\n",
       "  {'objectId': 958, 'uniqueId': 958, 'globalId': None, 'success': True},\n",
       "  {'objectId': 959, 'uniqueId': 959, 'globalId': None, 'success': True},\n",
       "  {'objectId': 960, 'uniqueId': 960, 'globalId': None, 'success': True},\n",
       "  {'objectId': 961, 'uniqueId': 961, 'globalId': None, 'success': True},\n",
       "  {'objectId': 962, 'uniqueId': 962, 'globalId': None, 'success': True},\n",
       "  {'objectId': 963, 'uniqueId': 963, 'globalId': None, 'success': True},\n",
       "  {'objectId': 964, 'uniqueId': 964, 'globalId': None, 'success': True},\n",
       "  {'objectId': 965, 'uniqueId': 965, 'globalId': None, 'success': True},\n",
       "  {'objectId': 966, 'uniqueId': 966, 'globalId': None, 'success': True},\n",
       "  {'objectId': 967, 'uniqueId': 967, 'globalId': None, 'success': True},\n",
       "  {'objectId': 968, 'uniqueId': 968, 'globalId': None, 'success': True},\n",
       "  {'objectId': 969, 'uniqueId': 969, 'globalId': None, 'success': True},\n",
       "  {'objectId': 970, 'uniqueId': 970, 'globalId': None, 'success': True},\n",
       "  {'objectId': 971, 'uniqueId': 971, 'globalId': None, 'success': True},\n",
       "  {'objectId': 972, 'uniqueId': 972, 'globalId': None, 'success': True},\n",
       "  {'objectId': 973, 'uniqueId': 973, 'globalId': None, 'success': True},\n",
       "  {'objectId': 974, 'uniqueId': 974, 'globalId': None, 'success': True},\n",
       "  {'objectId': 975, 'uniqueId': 975, 'globalId': None, 'success': True},\n",
       "  {'objectId': 976, 'uniqueId': 976, 'globalId': None, 'success': True},\n",
       "  {'objectId': 977, 'uniqueId': 977, 'globalId': None, 'success': True},\n",
       "  {'objectId': 978, 'uniqueId': 978, 'globalId': None, 'success': True},\n",
       "  {'objectId': 979, 'uniqueId': 979, 'globalId': None, 'success': True},\n",
       "  {'objectId': 980, 'uniqueId': 980, 'globalId': None, 'success': True},\n",
       "  {'objectId': 981, 'uniqueId': 981, 'globalId': None, 'success': True},\n",
       "  {'objectId': 982, 'uniqueId': 982, 'globalId': None, 'success': True},\n",
       "  {'objectId': 983, 'uniqueId': 983, 'globalId': None, 'success': True},\n",
       "  {'objectId': 984, 'uniqueId': 984, 'globalId': None, 'success': True},\n",
       "  {'objectId': 985, 'uniqueId': 985, 'globalId': None, 'success': True},\n",
       "  {'objectId': 986, 'uniqueId': 986, 'globalId': None, 'success': True},\n",
       "  {'objectId': 987, 'uniqueId': 987, 'globalId': None, 'success': True},\n",
       "  {'objectId': 988, 'uniqueId': 988, 'globalId': None, 'success': True},\n",
       "  {'objectId': 989, 'uniqueId': 989, 'globalId': None, 'success': True},\n",
       "  {'objectId': 990, 'uniqueId': 990, 'globalId': None, 'success': True},\n",
       "  {'objectId': 991, 'uniqueId': 991, 'globalId': None, 'success': True},\n",
       "  {'objectId': 992, 'uniqueId': 992, 'globalId': None, 'success': True},\n",
       "  {'objectId': 993, 'uniqueId': 993, 'globalId': None, 'success': True},\n",
       "  {'objectId': 994, 'uniqueId': 994, 'globalId': None, 'success': True},\n",
       "  {'objectId': 995, 'uniqueId': 995, 'globalId': None, 'success': True},\n",
       "  {'objectId': 996, 'uniqueId': 996, 'globalId': None, 'success': True},\n",
       "  {'objectId': 997, 'uniqueId': 997, 'globalId': None, 'success': True},\n",
       "  {'objectId': 998, 'uniqueId': 998, 'globalId': None, 'success': True},\n",
       "  {'objectId': 999, 'uniqueId': 999, 'globalId': None, 'success': True},\n",
       "  {'objectId': 1000, 'uniqueId': 1000, 'globalId': None, 'success': True},\n",
       "  {'objectId': 1001, 'uniqueId': 1001, 'globalId': None, 'success': True},\n",
       "  {'objectId': 1002, 'uniqueId': 1002, 'globalId': None, 'success': True},\n",
       "  {'objectId': 1003, 'uniqueId': 1003, 'globalId': None, 'success': True},\n",
       "  {'objectId': 1004, 'uniqueId': 1004, 'globalId': None, 'success': True},\n",
       "  {'objectId': 1005, 'uniqueId': 1005, 'globalId': None, 'success': True},\n",
       "  {'objectId': 1006, 'uniqueId': 1006, 'globalId': None, 'success': True},\n",
       "  {'objectId': 1007, 'uniqueId': 1007, 'globalId': None, 'success': True},\n",
       "  {'objectId': 1008, 'uniqueId': 1008, 'globalId': None, 'success': True},\n",
       "  {'objectId': 1009, 'uniqueId': 1009, 'globalId': None, 'success': True},\n",
       "  {'objectId': 1010, 'uniqueId': 1010, 'globalId': None, 'success': True},\n",
       "  {'objectId': 1011, 'uniqueId': 1011, 'globalId': None, 'success': True},\n",
       "  {'objectId': 1012, 'uniqueId': 1012, 'globalId': None, 'success': True},\n",
       "  {'objectId': 1013, 'uniqueId': 1013, 'globalId': None, 'success': True},\n",
       "  {'objectId': 1014, 'uniqueId': 1014, 'globalId': None, 'success': True},\n",
       "  {'objectId': 1015, 'uniqueId': 1015, 'globalId': None, 'success': True},\n",
       "  {'objectId': 1016, 'uniqueId': 1016, 'globalId': None, 'success': True},\n",
       "  {'objectId': 1017, 'uniqueId': 1017, 'globalId': None, 'success': True},\n",
       "  {'objectId': 1018, 'uniqueId': 1018, 'globalId': None, 'success': True},\n",
       "  {'objectId': 1019, 'uniqueId': 1019, 'globalId': None, 'success': True},\n",
       "  {'objectId': 1020, 'uniqueId': 1020, 'globalId': None, 'success': True},\n",
       "  {'objectId': 1021, 'uniqueId': 1021, 'globalId': None, 'success': True},\n",
       "  {'objectId': 1022, 'uniqueId': 1022, 'globalId': None, 'success': True},\n",
       "  {'objectId': 1023, 'uniqueId': 1023, 'globalId': None, 'success': True},\n",
       "  {'objectId': 1024, 'uniqueId': 1024, 'globalId': None, 'success': True},\n",
       "  {'objectId': 1025, 'uniqueId': 1025, 'globalId': None, 'success': True},\n",
       "  {'objectId': 1026, 'uniqueId': 1026, 'globalId': None, 'success': True},\n",
       "  {'objectId': 1027, 'uniqueId': 1027, 'globalId': None, 'success': True},\n",
       "  {'objectId': 1028, 'uniqueId': 1028, 'globalId': None, 'success': True},\n",
       "  {'objectId': 1029, 'uniqueId': 1029, 'globalId': None, 'success': True},\n",
       "  {'objectId': 1030, 'uniqueId': 1030, 'globalId': None, 'success': True},\n",
       "  {'objectId': 1031, 'uniqueId': 1031, 'globalId': None, 'success': True},\n",
       "  {'objectId': 1032, 'uniqueId': 1032, 'globalId': None, 'success': True},\n",
       "  {'objectId': 1033, 'uniqueId': 1033, 'globalId': None, 'success': True},\n",
       "  {'objectId': 1034, 'uniqueId': 1034, 'globalId': None, 'success': True},\n",
       "  {'objectId': 1035, 'uniqueId': 1035, 'globalId': None, 'success': True},\n",
       "  {'objectId': 1036, 'uniqueId': 1036, 'globalId': None, 'success': True},\n",
       "  {'objectId': 1037, 'uniqueId': 1037, 'globalId': None, 'success': True},\n",
       "  {'objectId': 1038, 'uniqueId': 1038, 'globalId': None, 'success': True},\n",
       "  {'objectId': 1039, 'uniqueId': 1039, 'globalId': None, 'success': True},\n",
       "  {'objectId': 1040, 'uniqueId': 1040, 'globalId': None, 'success': True},\n",
       "  {'objectId': 1041, 'uniqueId': 1041, 'globalId': None, 'success': True},\n",
       "  {'objectId': 1042, 'uniqueId': 1042, 'globalId': None, 'success': True},\n",
       "  {'objectId': 1043, 'uniqueId': 1043, 'globalId': None, 'success': True},\n",
       "  {'objectId': 1044, 'uniqueId': 1044, 'globalId': None, 'success': True},\n",
       "  {'objectId': 1045, 'uniqueId': 1045, 'globalId': None, 'success': True},\n",
       "  {'objectId': 1046, 'uniqueId': 1046, 'globalId': None, 'success': True},\n",
       "  {'objectId': 1047, 'uniqueId': 1047, 'globalId': None, 'success': True},\n",
       "  {'objectId': 1048, 'uniqueId': 1048, 'globalId': None, 'success': True},\n",
       "  {'objectId': 1049, 'uniqueId': 1049, 'globalId': None, 'success': True},\n",
       "  {'objectId': 1050, 'uniqueId': 1050, 'globalId': None, 'success': True},\n",
       "  {'objectId': 1051, 'uniqueId': 1051, 'globalId': None, 'success': True},\n",
       "  {'objectId': 1052, 'uniqueId': 1052, 'globalId': None, 'success': True},\n",
       "  {'objectId': 1053, 'uniqueId': 1053, 'globalId': None, 'success': True},\n",
       "  {'objectId': 1054, 'uniqueId': 1054, 'globalId': None, 'success': True},\n",
       "  {'objectId': 1055, 'uniqueId': 1055, 'globalId': None, 'success': True},\n",
       "  {'objectId': 1056, 'uniqueId': 1056, 'globalId': None, 'success': True},\n",
       "  {'objectId': 1057, 'uniqueId': 1057, 'globalId': None, 'success': True},\n",
       "  {'objectId': 1058, 'uniqueId': 1058, 'globalId': None, 'success': True},\n",
       "  {'objectId': 1059, 'uniqueId': 1059, 'globalId': None, 'success': True},\n",
       "  {'objectId': 1060, 'uniqueId': 1060, 'globalId': None, 'success': True},\n",
       "  {'objectId': 1061, 'uniqueId': 1061, 'globalId': None, 'success': True},\n",
       "  {'objectId': 1062, 'uniqueId': 1062, 'globalId': None, 'success': True},\n",
       "  {'objectId': 1063, 'uniqueId': 1063, 'globalId': None, 'success': True},\n",
       "  {'objectId': 1064, 'uniqueId': 1064, 'globalId': None, 'success': True},\n",
       "  {'objectId': 1065, 'uniqueId': 1065, 'globalId': None, 'success': True},\n",
       "  {'objectId': 1066, 'uniqueId': 1066, 'globalId': None, 'success': True},\n",
       "  {'objectId': 1067, 'uniqueId': 1067, 'globalId': None, 'success': True},\n",
       "  {'objectId': 1068, 'uniqueId': 1068, 'globalId': None, 'success': True},\n",
       "  {'objectId': 1069, 'uniqueId': 1069, 'globalId': None, 'success': True},\n",
       "  {'objectId': 1070, 'uniqueId': 1070, 'globalId': None, 'success': True},\n",
       "  {'objectId': 1071, 'uniqueId': 1071, 'globalId': None, 'success': True},\n",
       "  {'objectId': 1072, 'uniqueId': 1072, 'globalId': None, 'success': True},\n",
       "  {'objectId': 1073, 'uniqueId': 1073, 'globalId': None, 'success': True},\n",
       "  {'objectId': 1074, 'uniqueId': 1074, 'globalId': None, 'success': True},\n",
       "  {'objectId': 1075, 'uniqueId': 1075, 'globalId': None, 'success': True},\n",
       "  {'objectId': 1076, 'uniqueId': 1076, 'globalId': None, 'success': True},\n",
       "  {'objectId': 1077, 'uniqueId': 1077, 'globalId': None, 'success': True},\n",
       "  {'objectId': 1078, 'uniqueId': 1078, 'globalId': None, 'success': True},\n",
       "  {'objectId': 1079, 'uniqueId': 1079, 'globalId': None, 'success': True},\n",
       "  {'objectId': 1080, 'uniqueId': 1080, 'globalId': None, 'success': True},\n",
       "  {'objectId': 1081, 'uniqueId': 1081, 'globalId': None, 'success': True},\n",
       "  {'objectId': 1082, 'uniqueId': 1082, 'globalId': None, 'success': True},\n",
       "  {'objectId': 1083, 'uniqueId': 1083, 'globalId': None, 'success': True},\n",
       "  {'objectId': 1084, 'uniqueId': 1084, 'globalId': None, 'success': True},\n",
       "  {'objectId': 1085, 'uniqueId': 1085, 'globalId': None, 'success': True},\n",
       "  {'objectId': 1086, 'uniqueId': 1086, 'globalId': None, 'success': True},\n",
       "  {'objectId': 1087, 'uniqueId': 1087, 'globalId': None, 'success': True},\n",
       "  {'objectId': 1088, 'uniqueId': 1088, 'globalId': None, 'success': True},\n",
       "  {'objectId': 1089, 'uniqueId': 1089, 'globalId': None, 'success': True},\n",
       "  {'objectId': 1090, 'uniqueId': 1090, 'globalId': None, 'success': True},\n",
       "  {'objectId': 1091, 'uniqueId': 1091, 'globalId': None, 'success': True},\n",
       "  {'objectId': 1092, 'uniqueId': 1092, 'globalId': None, 'success': True},\n",
       "  {'objectId': 1093, 'uniqueId': 1093, 'globalId': None, 'success': True},\n",
       "  {'objectId': 1094, 'uniqueId': 1094, 'globalId': None, 'success': True},\n",
       "  {'objectId': 1095, 'uniqueId': 1095, 'globalId': None, 'success': True},\n",
       "  {'objectId': 1096, 'uniqueId': 1096, 'globalId': None, 'success': True},\n",
       "  {'objectId': 1097, 'uniqueId': 1097, 'globalId': None, 'success': True},\n",
       "  {'objectId': 1098, 'uniqueId': 1098, 'globalId': None, 'success': True},\n",
       "  {'objectId': 1099, 'uniqueId': 1099, 'globalId': None, 'success': True},\n",
       "  {'objectId': 1100, 'uniqueId': 1100, 'globalId': None, 'success': True},\n",
       "  {'objectId': 1101, 'uniqueId': 1101, 'globalId': None, 'success': True},\n",
       "  {'objectId': 1102, 'uniqueId': 1102, 'globalId': None, 'success': True},\n",
       "  {'objectId': 1103, 'uniqueId': 1103, 'globalId': None, 'success': True},\n",
       "  {'objectId': 1104, 'uniqueId': 1104, 'globalId': None, 'success': True},\n",
       "  {'objectId': 1105, 'uniqueId': 1105, 'globalId': None, 'success': True},\n",
       "  {'objectId': 1106, 'uniqueId': 1106, 'globalId': None, 'success': True},\n",
       "  {'objectId': 1107, 'uniqueId': 1107, 'globalId': None, 'success': True},\n",
       "  {'objectId': 1108, 'uniqueId': 1108, 'globalId': None, 'success': True},\n",
       "  {'objectId': 1109, 'uniqueId': 1109, 'globalId': None, 'success': True},\n",
       "  {'objectId': 1110, 'uniqueId': 1110, 'globalId': None, 'success': True},\n",
       "  {'objectId': 1111, 'uniqueId': 1111, 'globalId': None, 'success': True},\n",
       "  {'objectId': 1112, 'uniqueId': 1112, 'globalId': None, 'success': True},\n",
       "  {'objectId': 1113, 'uniqueId': 1113, 'globalId': None, 'success': True},\n",
       "  {'objectId': 1114, 'uniqueId': 1114, 'globalId': None, 'success': True},\n",
       "  {'objectId': 1115, 'uniqueId': 1115, 'globalId': None, 'success': True},\n",
       "  {'objectId': 1116, 'uniqueId': 1116, 'globalId': None, 'success': True},\n",
       "  {'objectId': 1117, 'uniqueId': 1117, 'globalId': None, 'success': True},\n",
       "  {'objectId': 1118, 'uniqueId': 1118, 'globalId': None, 'success': True},\n",
       "  {'objectId': 1119, 'uniqueId': 1119, 'globalId': None, 'success': True},\n",
       "  {'objectId': 1120, 'uniqueId': 1120, 'globalId': None, 'success': True},\n",
       "  {'objectId': 1121, 'uniqueId': 1121, 'globalId': None, 'success': True},\n",
       "  {'objectId': 1122, 'uniqueId': 1122, 'globalId': None, 'success': True},\n",
       "  {'objectId': 1123, 'uniqueId': 1123, 'globalId': None, 'success': True},\n",
       "  {'objectId': 1124, 'uniqueId': 1124, 'globalId': None, 'success': True},\n",
       "  {'objectId': 1125, 'uniqueId': 1125, 'globalId': None, 'success': True},\n",
       "  {'objectId': 1126, 'uniqueId': 1126, 'globalId': None, 'success': True},\n",
       "  {'objectId': 1127, 'uniqueId': 1127, 'globalId': None, 'success': True},\n",
       "  {'objectId': 1128, 'uniqueId': 1128, 'globalId': None, 'success': True},\n",
       "  {'objectId': 1129, 'uniqueId': 1129, 'globalId': None, 'success': True},\n",
       "  {'objectId': 1130, 'uniqueId': 1130, 'globalId': None, 'success': True},\n",
       "  {'objectId': 1131, 'uniqueId': 1131, 'globalId': None, 'success': True},\n",
       "  {'objectId': 1132, 'uniqueId': 1132, 'globalId': None, 'success': True},\n",
       "  {'objectId': 1133, 'uniqueId': 1133, 'globalId': None, 'success': True},\n",
       "  {'objectId': 1134, 'uniqueId': 1134, 'globalId': None, 'success': True},\n",
       "  {'objectId': 1135, 'uniqueId': 1135, 'globalId': None, 'success': True},\n",
       "  {'objectId': 1136, 'uniqueId': 1136, 'globalId': None, 'success': True},\n",
       "  {'objectId': 1137, 'uniqueId': 1137, 'globalId': None, 'success': True},\n",
       "  {'objectId': 1138, 'uniqueId': 1138, 'globalId': None, 'success': True},\n",
       "  {'objectId': 1139, 'uniqueId': 1139, 'globalId': None, 'success': True},\n",
       "  {'objectId': 1140, 'uniqueId': 1140, 'globalId': None, 'success': True},\n",
       "  {'objectId': 1141, 'uniqueId': 1141, 'globalId': None, 'success': True},\n",
       "  {'objectId': 1142, 'uniqueId': 1142, 'globalId': None, 'success': True},\n",
       "  {'objectId': 1143, 'uniqueId': 1143, 'globalId': None, 'success': True},\n",
       "  {'objectId': 1144, 'uniqueId': 1144, 'globalId': None, 'success': True},\n",
       "  {'objectId': 1145, 'uniqueId': 1145, 'globalId': None, 'success': True},\n",
       "  {'objectId': 1146, 'uniqueId': 1146, 'globalId': None, 'success': True},\n",
       "  {'objectId': 1147, 'uniqueId': 1147, 'globalId': None, 'success': True},\n",
       "  {'objectId': 1148, 'uniqueId': 1148, 'globalId': None, 'success': True},\n",
       "  {'objectId': 1149, 'uniqueId': 1149, 'globalId': None, 'success': True},\n",
       "  {'objectId': 1150, 'uniqueId': 1150, 'globalId': None, 'success': True},\n",
       "  {'objectId': 1151, 'uniqueId': 1151, 'globalId': None, 'success': True},\n",
       "  {'objectId': 1152, 'uniqueId': 1152, 'globalId': None, 'success': True},\n",
       "  {'objectId': 1153, 'uniqueId': 1153, 'globalId': None, 'success': True},\n",
       "  {'objectId': 1154, 'uniqueId': 1154, 'globalId': None, 'success': True},\n",
       "  {'objectId': 1155, 'uniqueId': 1155, 'globalId': None, 'success': True},\n",
       "  {'objectId': 1156, 'uniqueId': 1156, 'globalId': None, 'success': True},\n",
       "  {'objectId': 1157, 'uniqueId': 1157, 'globalId': None, 'success': True},\n",
       "  {'objectId': 1158, 'uniqueId': 1158, 'globalId': None, 'success': True},\n",
       "  {'objectId': 1159, 'uniqueId': 1159, 'globalId': None, 'success': True},\n",
       "  {'objectId': 1160, 'uniqueId': 1160, 'globalId': None, 'success': True},\n",
       "  {'objectId': 1161, 'uniqueId': 1161, 'globalId': None, 'success': True},\n",
       "  {'objectId': 1162, 'uniqueId': 1162, 'globalId': None, 'success': True},\n",
       "  {'objectId': 1163, 'uniqueId': 1163, 'globalId': None, 'success': True},\n",
       "  {'objectId': 1164, 'uniqueId': 1164, 'globalId': None, 'success': True},\n",
       "  {'objectId': 1165, 'uniqueId': 1165, 'globalId': None, 'success': True},\n",
       "  {'objectId': 1166, 'uniqueId': 1166, 'globalId': None, 'success': True},\n",
       "  {'objectId': 1167, 'uniqueId': 1167, 'globalId': None, 'success': True},\n",
       "  {'objectId': 1168, 'uniqueId': 1168, 'globalId': None, 'success': True},\n",
       "  {'objectId': 1169, 'uniqueId': 1169, 'globalId': None, 'success': True},\n",
       "  {'objectId': 1170, 'uniqueId': 1170, 'globalId': None, 'success': True},\n",
       "  {'objectId': 1171, 'uniqueId': 1171, 'globalId': None, 'success': True},\n",
       "  {'objectId': 1172, 'uniqueId': 1172, 'globalId': None, 'success': True},\n",
       "  {'objectId': 1173, 'uniqueId': 1173, 'globalId': None, 'success': True},\n",
       "  {'objectId': 1174, 'uniqueId': 1174, 'globalId': None, 'success': True},\n",
       "  {'objectId': 1175, 'uniqueId': 1175, 'globalId': None, 'success': True},\n",
       "  {'objectId': 1176, 'uniqueId': 1176, 'globalId': None, 'success': True},\n",
       "  {'objectId': 1177, 'uniqueId': 1177, 'globalId': None, 'success': True},\n",
       "  {'objectId': 1178, 'uniqueId': 1178, 'globalId': None, 'success': True},\n",
       "  {'objectId': 1179, 'uniqueId': 1179, 'globalId': None, 'success': True},\n",
       "  {'objectId': 1180, 'uniqueId': 1180, 'globalId': None, 'success': True},\n",
       "  {'objectId': 1181, 'uniqueId': 1181, 'globalId': None, 'success': True},\n",
       "  {'objectId': 1182, 'uniqueId': 1182, 'globalId': None, 'success': True},\n",
       "  {'objectId': 1183, 'uniqueId': 1183, 'globalId': None, 'success': True},\n",
       "  {'objectId': 1184, 'uniqueId': 1184, 'globalId': None, 'success': True},\n",
       "  {'objectId': 1185, 'uniqueId': 1185, 'globalId': None, 'success': True},\n",
       "  {'objectId': 1186, 'uniqueId': 1186, 'globalId': None, 'success': True},\n",
       "  {'objectId': 1187, 'uniqueId': 1187, 'globalId': None, 'success': True},\n",
       "  {'objectId': 1188, 'uniqueId': 1188, 'globalId': None, 'success': True},\n",
       "  {'objectId': 1189, 'uniqueId': 1189, 'globalId': None, 'success': True},\n",
       "  {'objectId': 1190, 'uniqueId': 1190, 'globalId': None, 'success': True},\n",
       "  {'objectId': 1191, 'uniqueId': 1191, 'globalId': None, 'success': True},\n",
       "  {'objectId': 1192, 'uniqueId': 1192, 'globalId': None, 'success': True},\n",
       "  {'objectId': 1193, 'uniqueId': 1193, 'globalId': None, 'success': True},\n",
       "  {'objectId': 1194, 'uniqueId': 1194, 'globalId': None, 'success': True},\n",
       "  {'objectId': 1195, 'uniqueId': 1195, 'globalId': None, 'success': True},\n",
       "  {'objectId': 1196, 'uniqueId': 1196, 'globalId': None, 'success': True},\n",
       "  {'objectId': 1197, 'uniqueId': 1197, 'globalId': None, 'success': True},\n",
       "  {'objectId': 1198, 'uniqueId': 1198, 'globalId': None, 'success': True},\n",
       "  {'objectId': 1199, 'uniqueId': 1199, 'globalId': None, 'success': True},\n",
       "  {'objectId': 1200, 'uniqueId': 1200, 'globalId': None, 'success': True},\n",
       "  {'objectId': 1201, 'uniqueId': 1201, 'globalId': None, 'success': True},\n",
       "  {'objectId': 1202, 'uniqueId': 1202, 'globalId': None, 'success': True},\n",
       "  {'objectId': 1203, 'uniqueId': 1203, 'globalId': None, 'success': True},\n",
       "  {'objectId': 1204, 'uniqueId': 1204, 'globalId': None, 'success': True}],\n",
       " 'deleteResults': []}"
      ]
     },
     "execution_count": 89,
     "metadata": {},
     "output_type": "execute_result"
    }
   ],
   "source": [
    "for index in range(len(features)):\n",
    "     features[index].attributes['Monitored'] = features_update[index].attributes['Monitored']\n",
    "building1_layer.edit_features(updates=features)"
   ]
  },
  {
   "cell_type": "code",
   "execution_count": 6,
   "id": "regulated-superior",
   "metadata": {},
   "outputs": [],
   "source": [
    "feat_list = [feat.attributes['Monitored'] for feat in features]\n",
    "update_list = [feat.attributes['Monitored'] for feat in features_update]"
   ]
  },
  {
   "cell_type": "code",
   "execution_count": 7,
   "id": "pregnant-george",
   "metadata": {},
   "outputs": [
    {
     "data": {
      "text/plain": [
       "True"
      ]
     },
     "execution_count": 7,
     "metadata": {},
     "output_type": "execute_result"
    }
   ],
   "source": [
    "feat_list == update_list"
   ]
  },
  {
   "cell_type": "code",
   "execution_count": 8,
   "id": "rational-billy",
   "metadata": {},
   "outputs": [
    {
     "data": {
      "text/plain": [
       "602"
      ]
     },
     "execution_count": 8,
     "metadata": {},
     "output_type": "execute_result"
    }
   ],
   "source": [
    "len(feat_list)"
   ]
  },
  {
   "cell_type": "code",
   "execution_count": 86,
   "id": "narrative-bowling",
   "metadata": {},
   "outputs": [
    {
     "data": {
      "text/plain": [
       "'7257'"
      ]
     },
     "execution_count": 86,
     "metadata": {},
     "output_type": "execute_result"
    }
   ],
   "source": [
    "feat_list[0]"
   ]
  },
  {
   "cell_type": "code",
   "execution_count": 87,
   "id": "convinced-letters",
   "metadata": {},
   "outputs": [
    {
     "data": {
      "text/plain": [
       "[]"
      ]
     },
     "execution_count": 87,
     "metadata": {},
     "output_type": "execute_result"
    }
   ],
   "source": [
    "[idx for idx, value in enumerate(update_list) if feat_list[idx] != value]"
   ]
  },
  {
   "cell_type": "code",
   "execution_count": 42,
   "id": "independent-evaluation",
   "metadata": {
    "scrolled": true
   },
   "outputs": [],
   "source": [
    "Monitoring = {\n",
    "   \"name\": \"Monitoring\",\n",
    "   \"type\": \"esriFieldTypeString\",\n",
    "   \"alias\": \"Monitoring\",\n",
    "   \"sqlType\": \"sqlTypeOther\",\n",
    "   \"length\": 100,\n",
    "   \"nullable\": True,\n",
    "   \"editable\": True,\n",
    "   \"domain\": None,\n",
    "   \"defaultValue\": None\n",
    " }\n",
    "Sampling =  {\n",
    "   \"name\": \"Sampling\",\n",
    "   \"type\": \"esriFieldTypeString\",\n",
    "   \"alias\": \"Sampling\",\n",
    "   \"sqlType\": \"sqlTypeOther\",\n",
    "   \"length\": 100,\n",
    "   \"nullable\": True,\n",
    "   \"editable\": True,\n",
    "   \"domain\": None,\n",
    "   \"defaultValue\": None\n",
    " }\n",
    "Detection =  {\n",
    "   \"name\": \"Detection\",\n",
    "   \"type\": \"esriFieldTypeString\",\n",
    "   \"alias\": \"Detection\",\n",
    "   \"sqlType\": \"sqlTypeOther\",\n",
    "   \"length\": 100,\n",
    "   \"nullable\": True,\n",
    "   \"editable\": True,\n",
    "   \"domain\": None,\n",
    "   \"defaultValue\": None\n",
    " }\n",
    "Status =  {\n",
    "   \"name\": \"Status\",\n",
    "   \"type\": \"esriFieldTypeString\",\n",
    "   \"alias\": \"Status\",\n",
    "   \"sqlType\": \"sqlTypeOther\",\n",
    "   \"length\": 100,\n",
    "   \"nullable\": True,\n",
    "   \"editable\": True,\n",
    "   \"domain\": None,\n",
    "   \"defaultValue\": None\n",
    " }\n",
    "Date =   {\n",
    "   \"name\": \"Date\",\n",
    "   \"type\": \"esriFieldTypeDate\",\n",
    "   \"alias\": \"Date\",\n",
    "   \"sqlType\": \"sqlTypeOther\",\n",
    "   \"length\": 8,\n",
    "   \"nullable\": True,\n",
    "   \"editable\": True,\n",
    "   \"domain\": None,\n",
    "   \"defaultValue\": None\n",
    " }"
   ]
  },
  {
   "cell_type": "code",
   "execution_count": 43,
   "id": "republican-coast",
   "metadata": {
    "scrolled": true
   },
   "outputs": [
    {
     "data": {
      "text/plain": [
       "{'success': True}"
      ]
     },
     "execution_count": 43,
     "metadata": {},
     "output_type": "execute_result"
    }
   ],
   "source": [
    "arcgis.addField([Date],building1_layer)"
   ]
  },
  {
   "cell_type": "code",
   "execution_count": 46,
   "id": "amber-bradford",
   "metadata": {
    "scrolled": true
   },
   "outputs": [
    {
     "data": {
      "text/html": [
       "<div class=\"item_container\" style=\"height: auto; overflow: hidden; border: 1px solid #cfcfcf; border-radius: 2px; background: #f6fafa; line-height: 1.21429em; padding: 10px;\">\n",
       "                    <div class=\"item_left\" style=\"width: 210px; float: left;\">\n",
       "                       <a href='https://UCSDOnline.maps.arcgis.com/home/item.html?id=798ca7af8e20499d849f56f525c49683' target='_blank'>\n",
       "                        <img src='data:image/png;base64,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' width='200' height='133' class=\"itemThumbnail\">\n",
       "                       </a>\n",
       "                    </div>\n",
       "\n",
       "                    <div class=\"item_right\"     style=\"float: none; width: auto; overflow: hidden;\">\n",
       "                        <a href='https://UCSDOnline.maps.arcgis.com/home/item.html?id=798ca7af8e20499d849f56f525c49683' target='_blank'><b>Buildings_one_day</b>\n",
       "                        </a>\n",
       "                        <br/><img src='https://UCSDOnline.maps.arcgis.com/home/js/jsapi/esri/css/images/item_type_icons/featureshosted16.png' style=\"vertical-align:middle;\">Feature Layer Collection by yizong_DSC180A\n",
       "                        <br/>Last Modified: February 19, 2021\n",
       "                        <br/>0 comments, 2 views\n",
       "                    </div>\n",
       "                </div>\n",
       "                "
      ],
      "text/plain": [
       "<Item title:\"Buildings_one_day\" type:Feature Layer Collection owner:yizong_DSC180A>"
      ]
     },
     "execution_count": 46,
     "metadata": {},
     "output_type": "execute_result"
    }
   ],
   "source": [
    "arcgis.contentSearch(arcgis.arc_username,\"Buildings_one_day\")[0]"
   ]
  },
  {
   "cell_type": "code",
   "execution_count": 70,
   "id": "nervous-shade",
   "metadata": {
    "scrolled": true
   },
   "outputs": [
    {
     "name": "stdout",
     "output_type": "stream",
     "text": [
      "login success\n"
     ]
    },
    {
     "ename": "IndexError",
     "evalue": "list index out of range",
     "output_type": "error",
     "traceback": [
      "\u001b[0;31m---------------------------------------------------------------------------\u001b[0m",
      "\u001b[0;31mIndexError\u001b[0m                                Traceback (most recent call last)",
      "\u001b[0;32m<ipython-input-70-de03b5c52893>\u001b[0m in \u001b[0;36m<module>\u001b[0;34m\u001b[0m\n\u001b[0;32m----> 1\u001b[0;31m \u001b[0mupdateBuilding\u001b[0m\u001b[0;34m(\u001b[0m\u001b[0;34m\"2/1\"\u001b[0m\u001b[0;34m)\u001b[0m\u001b[0;34m\u001b[0m\u001b[0;34m\u001b[0m\u001b[0m\n\u001b[0m",
      "\u001b[0;32m~/Documents/GitHub/BuildingTrace/src/layer_update.py\u001b[0m in \u001b[0;36mupdateBuilding\u001b[0;34m(date_val)\u001b[0m\n\u001b[1;32m     58\u001b[0m \u001b[0;32mdef\u001b[0m \u001b[0mupdateBuilding\u001b[0m\u001b[0;34m(\u001b[0m\u001b[0mdate_val\u001b[0m\u001b[0;34m)\u001b[0m\u001b[0;34m:\u001b[0m\u001b[0;34m\u001b[0m\u001b[0;34m\u001b[0m\u001b[0m\n\u001b[1;32m     59\u001b[0m     \u001b[0marcgis\u001b[0m \u001b[0;34m=\u001b[0m \u001b[0mArcgisOperation\u001b[0m\u001b[0;34m(\u001b[0m\u001b[0;34m)\u001b[0m\u001b[0;34m\u001b[0m\u001b[0;34m\u001b[0m\u001b[0m\n\u001b[0;32m---> 60\u001b[0;31m     \u001b[0mbuilding_layer\u001b[0m \u001b[0;34m=\u001b[0m \u001b[0marcgis\u001b[0m\u001b[0;34m.\u001b[0m\u001b[0mcontentSearch\u001b[0m\u001b[0;34m(\u001b[0m\u001b[0marcgis\u001b[0m\u001b[0;34m.\u001b[0m\u001b[0marc_username\u001b[0m\u001b[0;34m,\u001b[0m\u001b[0;34m\"TracedBuildings_oneday\"\u001b[0m\u001b[0;34m)\u001b[0m\u001b[0;34m[\u001b[0m\u001b[0;36m0\u001b[0m\u001b[0;34m]\u001b[0m\u001b[0;34m.\u001b[0m\u001b[0mlayers\u001b[0m\u001b[0;34m[\u001b[0m\u001b[0;36m1\u001b[0m\u001b[0;34m]\u001b[0m\u001b[0;34m\u001b[0m\u001b[0;34m\u001b[0m\u001b[0m\n\u001b[0m\u001b[1;32m     61\u001b[0m     \u001b[0mfeatures\u001b[0m \u001b[0;34m=\u001b[0m \u001b[0marcgis\u001b[0m\u001b[0;34m.\u001b[0m\u001b[0mgetFeatures\u001b[0m\u001b[0;34m(\u001b[0m\u001b[0mbuilding_layer\u001b[0m\u001b[0;34m)\u001b[0m\u001b[0;34m\u001b[0m\u001b[0;34m\u001b[0m\u001b[0m\n\u001b[1;32m     62\u001b[0m     \u001b[0;31m# loop to update\u001b[0m\u001b[0;34m\u001b[0m\u001b[0;34m\u001b[0m\u001b[0;34m\u001b[0m\u001b[0m\n",
      "\u001b[0;31mIndexError\u001b[0m: list index out of range"
     ]
    }
   ],
   "source": [
    "updateBuilding(\"2/1\")"
   ]
  },
  {
   "cell_type": "code",
   "execution_count": 41,
   "id": "worst-pakistan",
   "metadata": {
    "scrolled": true
   },
   "outputs": [
    {
     "data": {
      "text/plain": [
       "[{\n",
       "   \"name\": \"OBJECTID\",\n",
       "   \"type\": \"esriFieldTypeOID\",\n",
       "   \"alias\": \"OBJECTID\",\n",
       "   \"sqlType\": \"sqlTypeOther\",\n",
       "   \"nullable\": false,\n",
       "   \"editable\": false,\n",
       "   \"domain\": null,\n",
       "   \"defaultValue\": null\n",
       " },\n",
       " {\n",
       "   \"name\": \"NAME\",\n",
       "   \"type\": \"esriFieldTypeString\",\n",
       "   \"alias\": \"Name\",\n",
       "   \"sqlType\": \"sqlTypeOther\",\n",
       "   \"length\": 100,\n",
       "   \"nullable\": true,\n",
       "   \"editable\": true,\n",
       "   \"domain\": null,\n",
       "   \"defaultValue\": null\n",
       " },\n",
       " {\n",
       "   \"name\": \"CAANtext\",\n",
       "   \"type\": \"esriFieldTypeString\",\n",
       "   \"alias\": \"CAAN ID\",\n",
       "   \"sqlType\": \"sqlTypeOther\",\n",
       "   \"length\": 254,\n",
       "   \"nullable\": true,\n",
       "   \"editable\": true,\n",
       "   \"domain\": null,\n",
       "   \"defaultValue\": null\n",
       " },\n",
       " {\n",
       "   \"name\": \"addr\",\n",
       "   \"type\": \"esriFieldTypeString\",\n",
       "   \"alias\": \"Address\",\n",
       "   \"sqlType\": \"sqlTypeOther\",\n",
       "   \"length\": 64,\n",
       "   \"nullable\": true,\n",
       "   \"editable\": true,\n",
       "   \"domain\": null,\n",
       "   \"defaultValue\": null\n",
       " },\n",
       " {\n",
       "   \"name\": \"Monitored\",\n",
       "   \"type\": \"esriFieldTypeString\",\n",
       "   \"alias\": \"Monitored Status\",\n",
       "   \"sqlType\": \"sqlTypeOther\",\n",
       "   \"length\": 255,\n",
       "   \"nullable\": true,\n",
       "   \"editable\": true,\n",
       "   \"domain\": null,\n",
       "   \"defaultValue\": null\n",
       " },\n",
       " {\n",
       "   \"name\": \"Shape__Area\",\n",
       "   \"type\": \"esriFieldTypeDouble\",\n",
       "   \"alias\": \"Shape__Area\",\n",
       "   \"sqlType\": \"sqlTypeDouble\",\n",
       "   \"nullable\": true,\n",
       "   \"editable\": false,\n",
       "   \"domain\": null,\n",
       "   \"defaultValue\": null\n",
       " },\n",
       " {\n",
       "   \"name\": \"Shape__Length\",\n",
       "   \"type\": \"esriFieldTypeDouble\",\n",
       "   \"alias\": \"Shape__Length\",\n",
       "   \"sqlType\": \"sqlTypeDouble\",\n",
       "   \"nullable\": true,\n",
       "   \"editable\": false,\n",
       "   \"domain\": null,\n",
       "   \"defaultValue\": null\n",
       " },\n",
       " {\n",
       "   \"name\": \"Shape__Area_2\",\n",
       "   \"type\": \"esriFieldTypeDouble\",\n",
       "   \"alias\": \"Shape__Area_2\",\n",
       "   \"sqlType\": \"sqlTypeDouble\",\n",
       "   \"nullable\": true,\n",
       "   \"editable\": false,\n",
       "   \"domain\": null,\n",
       "   \"defaultValue\": null\n",
       " },\n",
       " {\n",
       "   \"name\": \"Shape__Length_2\",\n",
       "   \"type\": \"esriFieldTypeDouble\",\n",
       "   \"alias\": \"Shape__Length_2\",\n",
       "   \"sqlType\": \"sqlTypeDouble\",\n",
       "   \"nullable\": true,\n",
       "   \"editable\": false,\n",
       "   \"domain\": null,\n",
       "   \"defaultValue\": null\n",
       " },\n",
       " {\n",
       "   \"name\": \"CASE_DATE\",\n",
       "   \"type\": \"esriFieldTypeDate\",\n",
       "   \"alias\": \"CASE_DATE\",\n",
       "   \"sqlType\": \"sqlTypeOther\",\n",
       "   \"length\": 8,\n",
       "   \"nullable\": true,\n",
       "   \"editable\": true,\n",
       "   \"domain\": null,\n",
       "   \"defaultValue\": null\n",
       " },\n",
       " {\n",
       "   \"name\": \"PossibleSource\",\n",
       "   \"type\": \"esriFieldTypeString\",\n",
       "   \"alias\": \"POSSIBLE_SOURCE\",\n",
       "   \"sqlType\": \"sqlTypeOther\",\n",
       "   \"length\": 100,\n",
       "   \"nullable\": true,\n",
       "   \"editable\": true,\n",
       "   \"domain\": null,\n",
       "   \"defaultValue\": null\n",
       " }]"
      ]
     },
     "execution_count": 41,
     "metadata": {},
     "output_type": "execute_result"
    }
   ],
   "source": [
    "update_layer.properties.fields"
   ]
  },
  {
   "cell_type": "code",
   "execution_count": 3,
   "id": "optimum-philippines",
   "metadata": {
    "scrolled": true
   },
   "outputs": [
    {
     "name": "stdout",
     "output_type": "stream",
     "text": [
      "Invalid date, please choose a date that exists in the wastewater sheet\n"
     ]
    },
    {
     "data": {
      "text/plain": [
       "('Invalid date, please choose a date that exists in the wastewater sheet',\n",
       " None)"
      ]
     },
     "execution_count": 3,
     "metadata": {},
     "output_type": "execute_result"
    }
   ],
   "source": [
    "trace_obj = Trace()\n",
    "today_date = '3/4'\n",
    "autoPilot(today_date,True)"
   ]
  },
  {
   "cell_type": "code",
   "execution_count": 4,
   "id": "distinct-surface",
   "metadata": {
    "scrolled": true
   },
   "outputs": [
    {
     "data": {
      "text/plain": [
       "str"
      ]
     },
     "execution_count": 4,
     "metadata": {},
     "output_type": "execute_result"
    }
   ],
   "source": [
    "import json\n",
    "haha = json.dumps(drop)\n",
    "type(haha)"
   ]
  },
  {
   "cell_type": "code",
   "execution_count": 7,
   "id": "functioning-weight",
   "metadata": {
    "scrolled": true
   },
   "outputs": [
    {
     "data": {
      "text/plain": [
       "'Invalid date, please choose a date that exists in the wastewater sheet'"
      ]
     },
     "execution_count": 7,
     "metadata": {},
     "output_type": "execute_result"
    }
   ],
   "source": [
    "import requests\n",
    "r = requests.post('https://4jzevgh86d.execute-api.us-east-1.amazonaws.com/default/traceAPI',\n",
    "                  data='{\"password\": \"Open, sesame\",\"date\":\"3/4\",\"mode\":\"drop\"}',\n",
    "                  headers={\"Content-Type\":\"application/json\"})\n",
    "r.text"
   ]
  },
  {
   "cell_type": "code",
   "execution_count": 12,
   "id": "alive-conditions",
   "metadata": {
    "scrolled": true
   },
   "outputs": [
    {
     "data": {
      "text/plain": [
       "'{\\n  \"message\": \"the date entered isn\\'t valid\"\\n}\\n'"
      ]
     },
     "execution_count": 12,
     "metadata": {},
     "output_type": "execute_result"
    }
   ],
   "source": [
    "requests.get(\"http://18.189.195.9:3002/\",params={'date':'03/06/21'}).text"
   ]
  },
  {
   "cell_type": "code",
   "execution_count": 21,
   "id": "backed-reverse",
   "metadata": {
    "scrolled": true
   },
   "outputs": [
    {
     "data": {
      "text/plain": [
       "['SAMPLE_ID,MANHOLE_ID,BUILDING,CQ,TEST_DATE',\n",
       " 'AS009,C1M031,\"Blake, Argo, Urey\",37.343,2/19/2021',\n",
       " 'AS029,C3M149,Marshall:Lower and Upper,30.785,2/19/2021',\n",
       " 'AS062,C3M152,Marshall:Lower and Upper,32.429,2/19/2021',\n",
       " 'AS063,C3M158,Marshall:Lower and Upper,30.042,2/19/2021',\n",
       " 'AS060,C3M159,Marshall:Lower and Upper,35.31,2/19/2021',\n",
       " 'AS072,C3M008,Pepper Canyon,37.229,2/19/2021',\n",
       " 'AS017,C6M094,Nuevo East Piedra,30.879,2/19/2021',\n",
       " 'AS019,C6M095,NUEVO EAST (ISOLATION),,2/19/2021',\n",
       " 'AS020,C6M097,NUEVO EAST (ISOLATION),,2/19/2021',\n",
       " 'AS021,C6M098,NUEVO EAST (ISOLATION),37.244,2/19/2021',\n",
       " 'AS082,C6M012,Central and South Mesa,37.27,2/19/2021',\n",
       " 'AS081,C6M011,Central and South Mesa,34.042,2/19/2021',\n",
       " 'AS080,C6M010,Central and South Mesa,36.196,2/19/2021',\n",
       " 'AS022,C7M012,Seventh,36.309,2/19/2021',\n",
       " 'AS079,C1M021,Revelle,,2/19/2021',\n",
       " 'AS077,C1M106,Revelle,37.1,2/19/2021',\n",
       " 'AS089,C1M028B,York Hall,37.396,2/19/2021',\n",
       " 'AS119,C3M049A,Cellular and Molecular Medicine ,34.627,2/19/2021']"
      ]
     },
     "execution_count": 21,
     "metadata": {},
     "output_type": "execute_result"
    }
   ],
   "source": [
    "lines = json.loads(r.text).splitlines()\n",
    "lines"
   ]
  },
  {
   "cell_type": "code",
   "execution_count": 25,
   "id": "collaborative-martial",
   "metadata": {
    "scrolled": true
   },
   "outputs": [],
   "source": [
    "with open('file_today.csv','w') as f:\n",
    "    f.write(json.loads(r.text))"
   ]
  },
  {
   "cell_type": "code",
   "execution_count": 26,
   "id": "graduate-glory",
   "metadata": {
    "scrolled": true
   },
   "outputs": [
    {
     "data": {
      "text/html": [
       "<div>\n",
       "<style scoped>\n",
       "    .dataframe tbody tr th:only-of-type {\n",
       "        vertical-align: middle;\n",
       "    }\n",
       "\n",
       "    .dataframe tbody tr th {\n",
       "        vertical-align: top;\n",
       "    }\n",
       "\n",
       "    .dataframe thead th {\n",
       "        text-align: right;\n",
       "    }\n",
       "</style>\n",
       "<table border=\"1\" class=\"dataframe\">\n",
       "  <thead>\n",
       "    <tr style=\"text-align: right;\">\n",
       "      <th></th>\n",
       "      <th>SAMPLE_ID</th>\n",
       "      <th>MANHOLE_ID</th>\n",
       "      <th>BUILDING</th>\n",
       "      <th>CQ</th>\n",
       "      <th>TEST_DATE</th>\n",
       "    </tr>\n",
       "  </thead>\n",
       "  <tbody>\n",
       "    <tr>\n",
       "      <th>0</th>\n",
       "      <td>AS009</td>\n",
       "      <td>C1M031</td>\n",
       "      <td>Blake, Argo, Urey</td>\n",
       "      <td>37.343</td>\n",
       "      <td>2/19/2021</td>\n",
       "    </tr>\n",
       "    <tr>\n",
       "      <th>1</th>\n",
       "      <td>AS029</td>\n",
       "      <td>C3M149</td>\n",
       "      <td>Marshall:Lower and Upper</td>\n",
       "      <td>30.785</td>\n",
       "      <td>2/19/2021</td>\n",
       "    </tr>\n",
       "    <tr>\n",
       "      <th>2</th>\n",
       "      <td>AS062</td>\n",
       "      <td>C3M152</td>\n",
       "      <td>Marshall:Lower and Upper</td>\n",
       "      <td>32.429</td>\n",
       "      <td>2/19/2021</td>\n",
       "    </tr>\n",
       "    <tr>\n",
       "      <th>3</th>\n",
       "      <td>AS063</td>\n",
       "      <td>C3M158</td>\n",
       "      <td>Marshall:Lower and Upper</td>\n",
       "      <td>30.042</td>\n",
       "      <td>2/19/2021</td>\n",
       "    </tr>\n",
       "    <tr>\n",
       "      <th>4</th>\n",
       "      <td>AS060</td>\n",
       "      <td>C3M159</td>\n",
       "      <td>Marshall:Lower and Upper</td>\n",
       "      <td>35.310</td>\n",
       "      <td>2/19/2021</td>\n",
       "    </tr>\n",
       "    <tr>\n",
       "      <th>5</th>\n",
       "      <td>AS072</td>\n",
       "      <td>C3M008</td>\n",
       "      <td>Pepper Canyon</td>\n",
       "      <td>37.229</td>\n",
       "      <td>2/19/2021</td>\n",
       "    </tr>\n",
       "    <tr>\n",
       "      <th>6</th>\n",
       "      <td>AS017</td>\n",
       "      <td>C6M094</td>\n",
       "      <td>Nuevo East Piedra</td>\n",
       "      <td>30.879</td>\n",
       "      <td>2/19/2021</td>\n",
       "    </tr>\n",
       "    <tr>\n",
       "      <th>7</th>\n",
       "      <td>AS019</td>\n",
       "      <td>C6M095</td>\n",
       "      <td>NUEVO EAST (ISOLATION)</td>\n",
       "      <td>NaN</td>\n",
       "      <td>2/19/2021</td>\n",
       "    </tr>\n",
       "    <tr>\n",
       "      <th>8</th>\n",
       "      <td>AS020</td>\n",
       "      <td>C6M097</td>\n",
       "      <td>NUEVO EAST (ISOLATION)</td>\n",
       "      <td>NaN</td>\n",
       "      <td>2/19/2021</td>\n",
       "    </tr>\n",
       "    <tr>\n",
       "      <th>9</th>\n",
       "      <td>AS021</td>\n",
       "      <td>C6M098</td>\n",
       "      <td>NUEVO EAST (ISOLATION)</td>\n",
       "      <td>37.244</td>\n",
       "      <td>2/19/2021</td>\n",
       "    </tr>\n",
       "    <tr>\n",
       "      <th>10</th>\n",
       "      <td>AS082</td>\n",
       "      <td>C6M012</td>\n",
       "      <td>Central and South Mesa</td>\n",
       "      <td>37.270</td>\n",
       "      <td>2/19/2021</td>\n",
       "    </tr>\n",
       "    <tr>\n",
       "      <th>11</th>\n",
       "      <td>AS081</td>\n",
       "      <td>C6M011</td>\n",
       "      <td>Central and South Mesa</td>\n",
       "      <td>34.042</td>\n",
       "      <td>2/19/2021</td>\n",
       "    </tr>\n",
       "    <tr>\n",
       "      <th>12</th>\n",
       "      <td>AS080</td>\n",
       "      <td>C6M010</td>\n",
       "      <td>Central and South Mesa</td>\n",
       "      <td>36.196</td>\n",
       "      <td>2/19/2021</td>\n",
       "    </tr>\n",
       "    <tr>\n",
       "      <th>13</th>\n",
       "      <td>AS022</td>\n",
       "      <td>C7M012</td>\n",
       "      <td>Seventh</td>\n",
       "      <td>36.309</td>\n",
       "      <td>2/19/2021</td>\n",
       "    </tr>\n",
       "    <tr>\n",
       "      <th>14</th>\n",
       "      <td>AS079</td>\n",
       "      <td>C1M021</td>\n",
       "      <td>Revelle</td>\n",
       "      <td>NaN</td>\n",
       "      <td>2/19/2021</td>\n",
       "    </tr>\n",
       "    <tr>\n",
       "      <th>15</th>\n",
       "      <td>AS077</td>\n",
       "      <td>C1M106</td>\n",
       "      <td>Revelle</td>\n",
       "      <td>37.100</td>\n",
       "      <td>2/19/2021</td>\n",
       "    </tr>\n",
       "    <tr>\n",
       "      <th>16</th>\n",
       "      <td>AS089</td>\n",
       "      <td>C1M028B</td>\n",
       "      <td>York Hall</td>\n",
       "      <td>37.396</td>\n",
       "      <td>2/19/2021</td>\n",
       "    </tr>\n",
       "    <tr>\n",
       "      <th>17</th>\n",
       "      <td>AS119</td>\n",
       "      <td>C3M049A</td>\n",
       "      <td>Cellular and Molecular Medicine</td>\n",
       "      <td>34.627</td>\n",
       "      <td>2/19/2021</td>\n",
       "    </tr>\n",
       "  </tbody>\n",
       "</table>\n",
       "</div>"
      ],
      "text/plain": [
       "   SAMPLE_ID MANHOLE_ID                          BUILDING      CQ  TEST_DATE\n",
       "0      AS009     C1M031                 Blake, Argo, Urey  37.343  2/19/2021\n",
       "1      AS029     C3M149          Marshall:Lower and Upper  30.785  2/19/2021\n",
       "2      AS062     C3M152          Marshall:Lower and Upper  32.429  2/19/2021\n",
       "3      AS063     C3M158          Marshall:Lower and Upper  30.042  2/19/2021\n",
       "4      AS060     C3M159          Marshall:Lower and Upper  35.310  2/19/2021\n",
       "5      AS072     C3M008                     Pepper Canyon  37.229  2/19/2021\n",
       "6      AS017     C6M094                 Nuevo East Piedra  30.879  2/19/2021\n",
       "7      AS019     C6M095            NUEVO EAST (ISOLATION)     NaN  2/19/2021\n",
       "8      AS020     C6M097            NUEVO EAST (ISOLATION)     NaN  2/19/2021\n",
       "9      AS021     C6M098            NUEVO EAST (ISOLATION)  37.244  2/19/2021\n",
       "10     AS082     C6M012            Central and South Mesa  37.270  2/19/2021\n",
       "11     AS081     C6M011            Central and South Mesa  34.042  2/19/2021\n",
       "12     AS080     C6M010            Central and South Mesa  36.196  2/19/2021\n",
       "13     AS022     C7M012                           Seventh  36.309  2/19/2021\n",
       "14     AS079     C1M021                           Revelle     NaN  2/19/2021\n",
       "15     AS077     C1M106                           Revelle  37.100  2/19/2021\n",
       "16     AS089    C1M028B                         York Hall  37.396  2/19/2021\n",
       "17     AS119    C3M049A  Cellular and Molecular Medicine   34.627  2/19/2021"
      ]
     },
     "execution_count": 26,
     "metadata": {},
     "output_type": "execute_result"
    }
   ],
   "source": [
    "import pandas as pd\n",
    "pd.read_csv('file_today.csv')"
   ]
  },
  {
   "cell_type": "code",
   "execution_count": 11,
   "id": "jewish-tuition",
   "metadata": {
    "scrolled": true
   },
   "outputs": [
    {
     "name": "stdout",
     "output_type": "stream",
     "text": [
      "\"SAMPLE_ID,MANHOLE_ID,BUILDING,CQ,TEST_DATE\\nAS009,C1M031,\\\"Blake, Argo, Urey\\\",37.343,2/19/2021\\nAS029,C3M149,Marshall:Lower and Upper,30.785,2/19/2021\\nAS062,C3M152,Marshall:Lower and Upper,32.429,2/19/2021\\nAS063,C3M158,Marshall:Lower and Upper,30.042,2/19/2021\\nAS060,C3M159,Marshall:Lower and Upper,35.31,2/19/2021\\nAS072,C3M008,Pepper Canyon,37.229,2/19/2021\\nAS017,C6M094,Nuevo East Piedra,30.879,2/19/2021\\nAS019,C6M095,NUEVO EAST (ISOLATION),,2/19/2021\\nAS020,C6M097,NUEVO EAST (ISOLATION),,2/19/2021\\nAS021,C6M098,NUEVO EAST (ISOLATION),37.244,2/19/2021\\nAS082,C6M012,Central and South Mesa,37.27,2/19/2021\\nAS081,C6M011,Central and South Mesa,34.042,2/19/2021\\nAS080,C6M010,Central and South Mesa,36.196,2/19/2021\\nAS022,C7M012,Seventh,36.309,2/19/2021\\nAS079,C1M021,Revelle,,2/19/2021\\nAS077,C1M106,Revelle,37.1,2/19/2021\\nAS089,C1M028B,York Hall,37.396,2/19/2021\\nAS119,C3M049A,Cellular and Molecular Medicine ,34.627,2/19/2021\\n\""
     ]
    }
   ],
   "source": [
    "! curl --header \"Content-Type:application/json\"        --request POST        --data '{\"password\": \"Open, sesame\",\"date\":\"2/19\",\"mode\":\"drop\"}' \\https://4jzevgh86d.execute-api.us-east-1.amazonaws.com/default/traceAPI"
   ]
  },
  {
   "cell_type": "code",
   "execution_count": null,
   "id": "handmade-hayes",
   "metadata": {
    "scrolled": true
   },
   "outputs": [],
   "source": []
  },
  {
   "cell_type": "code",
   "execution_count": null,
   "id": "intended-russian",
   "metadata": {
    "scrolled": true
   },
   "outputs": [],
   "source": []
  },
  {
   "cell_type": "code",
   "execution_count": null,
   "id": "innocent-dynamics",
   "metadata": {
    "scrolled": true
   },
   "outputs": [],
   "source": []
  },
  {
   "cell_type": "code",
   "execution_count": 12,
   "id": "direct-organization",
   "metadata": {
    "scrolled": true
   },
   "outputs": [],
   "source": [
    "import os\n",
    "os.chmod('./sftpsync.sh', 0o755)"
   ]
  },
  {
   "cell_type": "code",
   "execution_count": 10,
   "id": "familiar-paraguay",
   "metadata": {
    "scrolled": true
   },
   "outputs": [
    {
     "data": {
      "text/plain": [
       "1"
      ]
     },
     "execution_count": 10,
     "metadata": {},
     "output_type": "execute_result"
    }
   ],
   "source": [
    "import subprocess\n",
    "subprocess.call([\"./sftpsync.sh\",'-i','../yjkeygoanywhere','-u','cUCSDHS_WW','-S','../data',\n",
    "                '-H','its-mft.ucsd.edu','-R','HS_COVID_WW_MB'])"
   ]
  },
  {
   "cell_type": "code",
   "execution_count": 2,
   "id": "active-variation",
   "metadata": {
    "scrolled": true
   },
   "outputs": [
    {
     "data": {
      "text/html": [
       "<div>\n",
       "<style scoped>\n",
       "    .dataframe tbody tr th:only-of-type {\n",
       "        vertical-align: middle;\n",
       "    }\n",
       "\n",
       "    .dataframe tbody tr th {\n",
       "        vertical-align: top;\n",
       "    }\n",
       "\n",
       "    .dataframe thead th {\n",
       "        text-align: right;\n",
       "    }\n",
       "</style>\n",
       "<table border=\"1\" class=\"dataframe\">\n",
       "  <thead>\n",
       "    <tr style=\"text-align: right;\">\n",
       "      <th></th>\n",
       "      <th>UCSD_ID</th>\n",
       "      <th>TYPE</th>\n",
       "      <th>IE</th>\n",
       "      <th>SDRSD</th>\n",
       "      <th>INSTALL_DA</th>\n",
       "      <th>AS_BUILT</th>\n",
       "      <th>INFO_SOURC</th>\n",
       "      <th>NOTES</th>\n",
       "      <th>UCSD_ID_1</th>\n",
       "      <th>STATUS</th>\n",
       "      <th>geometry</th>\n",
       "    </tr>\n",
       "  </thead>\n",
       "  <tbody>\n",
       "    <tr>\n",
       "      <th>0</th>\n",
       "      <td>SC0010</td>\n",
       "      <td>Sewer Type Cleanout</td>\n",
       "      <td>0.0</td>\n",
       "      <td>SC-01</td>\n",
       "      <td>1996-08-12</td>\n",
       "      <td>https://facilities.ucsd.edu/Drawings/Home/Shee...</td>\n",
       "      <td>None</td>\n",
       "      <td>N/A</td>\n",
       "      <td>SC0010</td>\n",
       "      <td>Active</td>\n",
       "      <td>POINT (6254346.063 1897646.232)</td>\n",
       "    </tr>\n",
       "    <tr>\n",
       "      <th>1</th>\n",
       "      <td>SC0023</td>\n",
       "      <td>Sewer Type Cleanout</td>\n",
       "      <td>0.0</td>\n",
       "      <td>SC-01</td>\n",
       "      <td>1969-12-01</td>\n",
       "      <td>https://facilities.ucsd.edu/Drawings/home/shee...</td>\n",
       "      <td>None</td>\n",
       "      <td>DOES NOT SAY SEWER BUT MARKED WITH GREEN</td>\n",
       "      <td>SC0023</td>\n",
       "      <td>Active</td>\n",
       "      <td>POINT (6254112.614 1897005.832)</td>\n",
       "    </tr>\n",
       "    <tr>\n",
       "      <th>2</th>\n",
       "      <td>SC0154</td>\n",
       "      <td>Sewer Type Cleanout</td>\n",
       "      <td>0.0</td>\n",
       "      <td>SC-01</td>\n",
       "      <td>1992-10-22</td>\n",
       "      <td>https://facilities.ucsd.edu/Drawings/Home/Shee...</td>\n",
       "      <td>None</td>\n",
       "      <td>N/A</td>\n",
       "      <td>SC0154</td>\n",
       "      <td>Active</td>\n",
       "      <td>POINT (6257870.856 1903205.945)</td>\n",
       "    </tr>\n",
       "    <tr>\n",
       "      <th>3</th>\n",
       "      <td>SC0157</td>\n",
       "      <td>Sewer Type Cleanout</td>\n",
       "      <td>0.0</td>\n",
       "      <td>SC-01</td>\n",
       "      <td>2009-06-30</td>\n",
       "      <td>https://facilities.ucsd.edu/Drawings/Home/Shee...</td>\n",
       "      <td>None</td>\n",
       "      <td>N/A</td>\n",
       "      <td>SC0157</td>\n",
       "      <td>Active</td>\n",
       "      <td>POINT (6257878.972 1903111.768)</td>\n",
       "    </tr>\n",
       "    <tr>\n",
       "      <th>4</th>\n",
       "      <td>SC0170</td>\n",
       "      <td>Sewer Type Cleanout</td>\n",
       "      <td>0.0</td>\n",
       "      <td>SC-01</td>\n",
       "      <td>1989-05-01</td>\n",
       "      <td>https://facilities.ucsd.edu/Drawings/Home/Shee...</td>\n",
       "      <td>None</td>\n",
       "      <td>N/A</td>\n",
       "      <td>SC0170</td>\n",
       "      <td>Active</td>\n",
       "      <td>POINT (6257613.342 1903852.741)</td>\n",
       "    </tr>\n",
       "    <tr>\n",
       "      <th>...</th>\n",
       "      <td>...</td>\n",
       "      <td>...</td>\n",
       "      <td>...</td>\n",
       "      <td>...</td>\n",
       "      <td>...</td>\n",
       "      <td>...</td>\n",
       "      <td>...</td>\n",
       "      <td>...</td>\n",
       "      <td>...</td>\n",
       "      <td>...</td>\n",
       "      <td>...</td>\n",
       "    </tr>\n",
       "    <tr>\n",
       "      <th>1617</th>\n",
       "      <td>SMISC-078</td>\n",
       "      <td>None</td>\n",
       "      <td>0.0</td>\n",
       "      <td>None</td>\n",
       "      <td>2018-04-20</td>\n",
       "      <td>https://facilities.ucsd.edu/Drawings/Home/Shee...</td>\n",
       "      <td>None</td>\n",
       "      <td>None</td>\n",
       "      <td>None</td>\n",
       "      <td>None</td>\n",
       "      <td>POINT (6263373.993 1901577.624)</td>\n",
       "    </tr>\n",
       "    <tr>\n",
       "      <th>1618</th>\n",
       "      <td>SMISC-081</td>\n",
       "      <td>None</td>\n",
       "      <td>0.0</td>\n",
       "      <td>None</td>\n",
       "      <td>None</td>\n",
       "      <td>North Torrey Pines Living &amp; Learning Neighborh...</td>\n",
       "      <td>1</td>\n",
       "      <td>None</td>\n",
       "      <td>None</td>\n",
       "      <td>None</td>\n",
       "      <td>POINT (6257424.955 1901341.314)</td>\n",
       "    </tr>\n",
       "    <tr>\n",
       "      <th>1619</th>\n",
       "      <td>SMISC-082</td>\n",
       "      <td>None</td>\n",
       "      <td>0.0</td>\n",
       "      <td>None</td>\n",
       "      <td>None</td>\n",
       "      <td>North Torrey Pines Living &amp; Learning Neighborh...</td>\n",
       "      <td>1</td>\n",
       "      <td>None</td>\n",
       "      <td>None</td>\n",
       "      <td>None</td>\n",
       "      <td>POINT (6257410.185 1901342.862)</td>\n",
       "    </tr>\n",
       "    <tr>\n",
       "      <th>1620</th>\n",
       "      <td>SMISC-083</td>\n",
       "      <td>None</td>\n",
       "      <td>0.0</td>\n",
       "      <td>None</td>\n",
       "      <td>None</td>\n",
       "      <td>North Torrey Pines Living &amp; Learning Neighborh...</td>\n",
       "      <td>1</td>\n",
       "      <td>None</td>\n",
       "      <td>None</td>\n",
       "      <td>None</td>\n",
       "      <td>POINT (6257299.462 1901774.890)</td>\n",
       "    </tr>\n",
       "    <tr>\n",
       "      <th>1621</th>\n",
       "      <td>SMISC-084</td>\n",
       "      <td>None</td>\n",
       "      <td>0.0</td>\n",
       "      <td>None</td>\n",
       "      <td>None</td>\n",
       "      <td>North Torrey Pines Living &amp; Learning Neighborh...</td>\n",
       "      <td>1</td>\n",
       "      <td>None</td>\n",
       "      <td>None</td>\n",
       "      <td>None</td>\n",
       "      <td>POINT (6257321.163 1901779.890)</td>\n",
       "    </tr>\n",
       "  </tbody>\n",
       "</table>\n",
       "<p>1622 rows × 11 columns</p>\n",
       "</div>"
      ],
      "text/plain": [
       "        UCSD_ID                 TYPE   IE  SDRSD  INSTALL_DA  \\\n",
       "0        SC0010  Sewer Type Cleanout  0.0  SC-01  1996-08-12   \n",
       "1        SC0023  Sewer Type Cleanout  0.0  SC-01  1969-12-01   \n",
       "2        SC0154  Sewer Type Cleanout  0.0  SC-01  1992-10-22   \n",
       "3        SC0157  Sewer Type Cleanout  0.0  SC-01  2009-06-30   \n",
       "4        SC0170  Sewer Type Cleanout  0.0  SC-01  1989-05-01   \n",
       "...         ...                  ...  ...    ...         ...   \n",
       "1617  SMISC-078                 None  0.0   None  2018-04-20   \n",
       "1618  SMISC-081                 None  0.0   None        None   \n",
       "1619  SMISC-082                 None  0.0   None        None   \n",
       "1620  SMISC-083                 None  0.0   None        None   \n",
       "1621  SMISC-084                 None  0.0   None        None   \n",
       "\n",
       "                                               AS_BUILT INFO_SOURC  \\\n",
       "0     https://facilities.ucsd.edu/Drawings/Home/Shee...       None   \n",
       "1     https://facilities.ucsd.edu/Drawings/home/shee...       None   \n",
       "2     https://facilities.ucsd.edu/Drawings/Home/Shee...       None   \n",
       "3     https://facilities.ucsd.edu/Drawings/Home/Shee...       None   \n",
       "4     https://facilities.ucsd.edu/Drawings/Home/Shee...       None   \n",
       "...                                                 ...        ...   \n",
       "1617  https://facilities.ucsd.edu/Drawings/Home/Shee...       None   \n",
       "1618  North Torrey Pines Living & Learning Neighborh...          1   \n",
       "1619  North Torrey Pines Living & Learning Neighborh...          1   \n",
       "1620  North Torrey Pines Living & Learning Neighborh...          1   \n",
       "1621  North Torrey Pines Living & Learning Neighborh...          1   \n",
       "\n",
       "                                         NOTES UCSD_ID_1  STATUS  \\\n",
       "0                                          N/A    SC0010  Active   \n",
       "1     DOES NOT SAY SEWER BUT MARKED WITH GREEN    SC0023  Active   \n",
       "2                                          N/A    SC0154  Active   \n",
       "3                                          N/A    SC0157  Active   \n",
       "4                                          N/A    SC0170  Active   \n",
       "...                                        ...       ...     ...   \n",
       "1617                                      None      None    None   \n",
       "1618                                      None      None    None   \n",
       "1619                                      None      None    None   \n",
       "1620                                      None      None    None   \n",
       "1621                                      None      None    None   \n",
       "\n",
       "                             geometry  \n",
       "0     POINT (6254346.063 1897646.232)  \n",
       "1     POINT (6254112.614 1897005.832)  \n",
       "2     POINT (6257870.856 1903205.945)  \n",
       "3     POINT (6257878.972 1903111.768)  \n",
       "4     POINT (6257613.342 1903852.741)  \n",
       "...                               ...  \n",
       "1617  POINT (6263373.993 1901577.624)  \n",
       "1618  POINT (6257424.955 1901341.314)  \n",
       "1619  POINT (6257410.185 1901342.862)  \n",
       "1620  POINT (6257299.462 1901774.890)  \n",
       "1621  POINT (6257321.163 1901779.890)  \n",
       "\n",
       "[1622 rows x 11 columns]"
      ]
     },
     "execution_count": 2,
     "metadata": {},
     "output_type": "execute_result"
    }
   ],
   "source": [
    "tracing.mh_graph.df_manhole"
   ]
  },
  {
   "cell_type": "code",
   "execution_count": null,
   "id": "hindu-vault",
   "metadata": {
    "scrolled": false
   },
   "outputs": [],
   "source": [
    "coord_set = set()\n",
    "for index, row in tracing.mh_graph.df_pipe.iterrows():\n",
    "    for idx in range(0,len(row['geometry'].coords)):\n",
    "        coord_set.add(row['geometry'].coords[idx])\n",
    "coord_set"
   ]
  },
  {
   "cell_type": "code",
   "execution_count": 79,
   "id": "conditional-anchor",
   "metadata": {
    "scrolled": true
   },
   "outputs": [
    {
     "name": "stdout",
     "output_type": "stream",
     "text": [
      "dropin csv has been saved to the tmp folder\n"
     ]
    },
    {
     "name": "stderr",
     "output_type": "stream",
     "text": [
      "/Users/yijianzong/Documents/GitHub/BuildingTrace/src/trace.py:112: SettingWithCopyWarning: \n",
      "A value is trying to be set on a copy of a slice from a DataFrame.\n",
      "Try using .loc[row_indexer,col_indexer] = value instead\n",
      "\n",
      "See the caveats in the documentation: https://pandas.pydata.org/pandas-docs/stable/user_guide/indexing.html#returning-a-view-versus-a-copy\n",
      "  drop_in['CQ'] = waste_df[date_value]\n",
      "/Users/yijianzong/Documents/GitHub/BuildingTrace/src/trace.py:114: SettingWithCopyWarning: \n",
      "A value is trying to be set on a copy of a slice from a DataFrame.\n",
      "Try using .loc[row_indexer,col_indexer] = value instead\n",
      "\n",
      "See the caveats in the documentation: https://pandas.pydata.org/pandas-docs/stable/user_guide/indexing.html#returning-a-view-versus-a-copy\n",
      "  drop_in['TEST_DATE'] = date_str\n"
     ]
    },
    {
     "data": {
      "text/plain": [
       "(None, '/tmp/dropin3520212021.csv')"
      ]
     },
     "execution_count": 79,
     "metadata": {},
     "output_type": "execute_result"
    }
   ],
   "source": [
    "tracing.exportDropIn(\"3/5/2021\")"
   ]
  },
  {
   "cell_type": "code",
   "execution_count": 1,
   "id": "floating-professional",
   "metadata": {
    "scrolled": true
   },
   "outputs": [],
   "source": [
    "from trace import autoPilot"
   ]
  },
  {
   "cell_type": "code",
   "execution_count": 2,
   "id": "appreciated-sponsorship",
   "metadata": {},
   "outputs": [],
   "source": [
    "import pandas as pd\n",
    "test_result = pd.read_excel(\"BuildingStatus0406.xls\")"
   ]
  },
  {
   "cell_type": "code",
   "execution_count": 3,
   "id": "brave-retail",
   "metadata": {},
   "outputs": [],
   "source": [
    "def RepresentsInt(s):\n",
    "    try: \n",
    "        int(s)\n",
    "        return True\n",
    "    except ValueError:\n",
    "        return False"
   ]
  },
  {
   "cell_type": "code",
   "execution_count": 4,
   "id": "fiscal-airline",
   "metadata": {},
   "outputs": [
    {
     "data": {
      "text/plain": [
       "0      6143\n",
       "1      6361\n",
       "2      6353\n",
       "3      6352\n",
       "4      6358\n",
       "       ... \n",
       "489    6252\n",
       "490    6266\n",
       "491    7275\n",
       "492    7373\n",
       "493    7394\n",
       "Name: CAANtext, Length: 494, dtype: object"
      ]
     },
     "execution_count": 4,
     "metadata": {},
     "output_type": "execute_result"
    }
   ],
   "source": [
    "test_result['CAANtext'] = test_result['CAANtext'].apply(lambda x: str(int(x)) if RepresentsInt(x) else str(x))\n",
    "test_result['CAANtext']"
   ]
  },
  {
   "cell_type": "markdown",
   "id": "artistic-detection",
   "metadata": {},
   "source": [
    "## Test Trace -- Detect"
   ]
  },
  {
   "cell_type": "code",
   "execution_count": 16,
   "id": "simple-dodge",
   "metadata": {},
   "outputs": [
    {
     "data": {
      "text/plain": [
       "True"
      ]
     },
     "execution_count": 16,
     "metadata": {},
     "output_type": "execute_result"
    }
   ],
   "source": [
    "import geopandas\n",
    "\"RITTER\" in set(geopandas.read_file('../data/network/MergedSewerVertices.shp')['UCSD_ID'])"
   ]
  },
  {
   "cell_type": "code",
   "execution_count": 17,
   "id": "dated-split",
   "metadata": {},
   "outputs": [
    {
     "data": {
      "text/plain": [
       "[(-13052600.8393, 3877427.1777999997),\n",
       " (-13052600.8827, 3877421.5447999984),\n",
       " (-13052643.4592, 3877423.269699998),\n",
       " (-13052643.4749, 3877423.2704000026)]"
      ]
     },
     "execution_count": 17,
     "metadata": {},
     "output_type": "execute_result"
    }
   ],
   "source": [
    "sewer_data = geopandas.read_file('../data/network2/SewerPipe.shp')\n",
    "list(sewer_data[sewer_data['UCSD_ID']==\"S01668\"]['geometry'].iloc[0].coords)"
   ]
  },
  {
   "cell_type": "code",
   "execution_count": 5,
   "id": "critical-prevention",
   "metadata": {},
   "outputs": [],
   "source": [
    "from traceGraph import TraceGraph \n",
    "gg = TraceGraph()\n",
    "gg.buildGraph()"
   ]
  },
  {
   "cell_type": "code",
   "execution_count": 20,
   "id": "mysterious-conservation",
   "metadata": {},
   "outputs": [
    {
     "data": {
      "text/plain": [
       "(-13052600.8827, 3877421.5447999984)"
      ]
     },
     "execution_count": 20,
     "metadata": {},
     "output_type": "execute_result"
    }
   ],
   "source": [
    "gg.manhole_to_coords_map['RITTER']"
   ]
  },
  {
   "cell_type": "code",
   "execution_count": 25,
   "id": "atomic-shepherd",
   "metadata": {},
   "outputs": [
    {
     "data": {
      "text/plain": [
       "True"
      ]
     },
     "execution_count": 25,
     "metadata": {},
     "output_type": "execute_result"
    }
   ],
   "source": [
    "'6129' in set(geopandas.read_file('../data/network/Sewer_Buildings.shp')['CAANtext'])"
   ]
  },
  {
   "cell_type": "code",
   "execution_count": 49,
   "id": "brutal-haven",
   "metadata": {},
   "outputs": [
    {
     "data": {
      "text/plain": [
       "{(6259567.150033429, 1901328.3682593405)}"
      ]
     },
     "execution_count": 49,
     "metadata": {},
     "output_type": "execute_result"
    }
   ],
   "source": [
    "gg.edges[(6259550.634646505, 1901445.523864925)]"
   ]
  },
  {
   "cell_type": "code",
   "execution_count": 44,
   "id": "ignored-collins",
   "metadata": {},
   "outputs": [
    {
     "data": {
      "text/plain": [
       "set()"
      ]
     },
     "execution_count": 44,
     "metadata": {},
     "output_type": "execute_result"
    }
   ],
   "source": [
    "gg.edges[(6259167.602276087, 1901518.7678129226)]"
   ]
  },
  {
   "cell_type": "code",
   "execution_count": 51,
   "id": "framed-failure",
   "metadata": {},
   "outputs": [
    {
     "data": {
      "text/plain": [
       "set()"
      ]
     },
     "execution_count": 51,
     "metadata": {},
     "output_type": "execute_result"
    }
   ],
   "source": [
    "gg.graph[\"S01034\"]"
   ]
  },
  {
   "cell_type": "code",
   "execution_count": 6,
   "id": "canadian-chase",
   "metadata": {},
   "outputs": [],
   "source": [
    "test_detected = list(test_result[test_result['Detection'] == True]['CAANtext'])"
   ]
  },
  {
   "cell_type": "code",
   "execution_count": 7,
   "id": "original-jones",
   "metadata": {},
   "outputs": [
    {
     "name": "stdout",
     "output_type": "stream",
     "text": [
      "['C3M041', 'C6M025', 'C6M094', 'C6M033', 'C7M025', 'C1M107', 'C3M049A']\n"
     ]
    }
   ],
   "source": [
    "res_detected = autoPilot(\"4/6/21\")[1]"
   ]
  },
  {
   "cell_type": "code",
   "execution_count": 8,
   "id": "pending-involvement",
   "metadata": {},
   "outputs": [
    {
     "data": {
      "text/plain": [
       "True"
      ]
     },
     "execution_count": 8,
     "metadata": {},
     "output_type": "execute_result"
    }
   ],
   "source": [
    "set(test_detected) == set(res_detected)"
   ]
  },
  {
   "cell_type": "code",
   "execution_count": 9,
   "id": "commercial-software",
   "metadata": {},
   "outputs": [
    {
     "data": {
      "text/plain": [
       "Index(['NAME', 'CAANtext', 'addr', 'Monitoring', 'Sampling', 'Detection',\n",
       "       'Status'],\n",
       "      dtype='object')"
      ]
     },
     "execution_count": 9,
     "metadata": {},
     "output_type": "execute_result"
    }
   ],
   "source": [
    "test_result.columns"
   ]
  },
  {
   "cell_type": "code",
   "execution_count": 11,
   "id": "prompt-madonna",
   "metadata": {},
   "outputs": [
    {
     "name": "stdout",
     "output_type": "stream",
     "text": [
      "['C1M031', 'C1M057', 'C1M059', 'C1M060', 'C2M015', 'C3M039', 'C3M041', 'C3M042', 'C3M149', 'C3M150', 'C3M152', 'C3M158', 'C3M159', 'C3M097', 'C3M095', 'C3M091', 'C3M026', 'C3M027', 'C3M008', 'C3M010', 'C3M022', 'C6M021', 'C6M025', 'C6M088', 'C6M092', 'C6M094', 'C6M095', 'C6M097', 'C6M098', 'C6M075', 'C6M072', 'C6M079', 'C6M078', 'C6M099', 'C6M031', 'C6M033', 'C6M034', 'C6M041', 'C6M042', 'C6M043', 'C6M045', 'C6M046', 'C6M047', 'C6M049', 'C6M030', 'C6M012', 'C6M011', 'C6M010', 'C7M005', 'C7M008', 'C7M012', 'C7M017', 'C7M024', 'C7M025', 'C7M027', 'C7M030', 'C7M031', 'C7M032', 'C1M161', 'SMISC-079', 'SMISC-080', 'S2M015', 'S2M016', 'S2M017', 'C1M021', 'C1M106', 'C1M107', 'C1M024', 'C1M022', 'C1M039', 'C2M008A', 'C2M006A', 'C2M003', 'C5M008', 'C2M005A', 'C1M028B', 'C1M049', 'C1M053', 'C1M053A', 'C3M108', 'C3M109', 'C3M206', 'C3M187', 'C4M086', 'C4M010', 'SC0010', 'S1M019', 'SC0812', 'SC0023', 'S1M046', 'S1M045', 'RITTER', 'S1M007', 'S2M001A', 'S2M003', 'C3M049B', 'C3M210', 'C3M049A', 'C2M032', 'SOMB4', 'C3M146', 'C3M143', 'C3M170', 'SMISC-027', 'C3M219', 'SC0688', 'S01885', 'S01034', 'SC0346', 'SC0157', 'SC0170', 'SC0154', 'C7M011', 'C7M016', 'C7M014', 'SMISC-014', 'C4M083', 'C4M031', 'SC0789', 'C4M055F', 'SC0632', 'C3M024', 'C3M007', 'C3M006', 'C3M005', 'SC0475', '']\n"
     ]
    },
    {
     "data": {
      "text/plain": [
       "(False, 340, 339)"
      ]
     },
     "execution_count": 11,
     "metadata": {},
     "output_type": "execute_result"
    }
   ],
   "source": [
    "test_mon = list(test_result[test_result['Monitoring'] == True]['CAANtext'])\n",
    "_, mon_res = autoPilot(\"4/6/21\",mode=\"monitoring\")\n",
    "set(test_mon) == set(mon_res), len(set(test_mon)), len(set(mon_res))"
   ]
  },
  {
   "cell_type": "code",
   "execution_count": 12,
   "id": "handmade-elite",
   "metadata": {},
   "outputs": [
    {
     "data": {
      "text/plain": [
       "set()"
      ]
     },
     "execution_count": 12,
     "metadata": {},
     "output_type": "execute_result"
    }
   ],
   "source": [
    "set(mon_res) - set(test_mon)"
   ]
  },
  {
   "cell_type": "code",
   "execution_count": 13,
   "id": "corrected-drawing",
   "metadata": {},
   "outputs": [
    {
     "data": {
      "text/plain": [
       "{'nan'}"
      ]
     },
     "execution_count": 13,
     "metadata": {},
     "output_type": "execute_result"
    }
   ],
   "source": [
    "set(test_mon) - set(mon_res)"
   ]
  },
  {
   "cell_type": "code",
   "execution_count": 12,
   "id": "thorough-chapel",
   "metadata": {},
   "outputs": [
    {
     "data": {
      "text/plain": [
       "(False, 311, 310)"
      ]
     },
     "execution_count": 12,
     "metadata": {},
     "output_type": "execute_result"
    }
   ],
   "source": [
    "test_sample = list(test_result[test_result['Sampling'] == True]['CAANtext'])\n",
    "_, sample_res = autoPilot(\"4/6/21\",mode=\"sampling\")\n",
    "set(test_sample) == set(sample_res), len(set(test_sample)),len(set(sample_res))"
   ]
  },
  {
   "cell_type": "code",
   "execution_count": 13,
   "id": "experienced-amount",
   "metadata": {},
   "outputs": [
    {
     "data": {
      "text/plain": [
       "set()"
      ]
     },
     "execution_count": 13,
     "metadata": {},
     "output_type": "execute_result"
    }
   ],
   "source": [
    "set(sample_res)-set(test_sample)"
   ]
  },
  {
   "cell_type": "code",
   "execution_count": 14,
   "id": "exceptional-algebra",
   "metadata": {},
   "outputs": [
    {
     "data": {
      "text/plain": [
       "{'nan'}"
      ]
     },
     "execution_count": 14,
     "metadata": {},
     "output_type": "execute_result"
    }
   ],
   "source": [
    "set(test_sample)-set(sample_res)"
   ]
  },
  {
   "cell_type": "markdown",
   "id": "russian-beijing",
   "metadata": {},
   "source": [
    "### trace based on sewer pipe name"
   ]
  },
  {
   "cell_type": "code",
   "execution_count": 11,
   "id": "oriental-horse",
   "metadata": {},
   "outputs": [
    {
     "data": {
      "text/plain": [
       "True"
      ]
     },
     "execution_count": 11,
     "metadata": {},
     "output_type": "execute_result"
    }
   ],
   "source": [
    "'6246' in set(tracing.mh_graph.df_buildings[\"CAANtext\"])"
   ]
  },
  {
   "cell_type": "code",
   "execution_count": null,
   "id": "charitable-thirty",
   "metadata": {},
   "outputs": [],
   "source": []
  },
  {
   "cell_type": "code",
   "execution_count": 2,
   "id": "knowing-friend",
   "metadata": {
    "scrolled": true
   },
   "outputs": [],
   "source": [
    "_,trace_res = tracing.get_affected_buildings(\"3/5/21\")"
   ]
  },
  {
   "cell_type": "code",
   "execution_count": 9,
   "id": "voluntary-documentary",
   "metadata": {
    "scrolled": true
   },
   "outputs": [
    {
     "data": {
      "text/plain": [
       "{'C1M022',\n",
       " 'C1M024',\n",
       " 'C1M028B',\n",
       " 'C1M031',\n",
       " 'C1M039',\n",
       " 'C1M049',\n",
       " 'C1M053A',\n",
       " 'C1M059',\n",
       " 'C1M060',\n",
       " 'C1M106',\n",
       " 'C1M107',\n",
       " 'C1M161',\n",
       " 'C2M003',\n",
       " 'C2M005A',\n",
       " 'C2M006A',\n",
       " 'C2M008A',\n",
       " 'C2M015',\n",
       " 'C3M008',\n",
       " 'C3M022',\n",
       " 'C3M026',\n",
       " 'C3M039',\n",
       " 'C3M041',\n",
       " 'C3M049B',\n",
       " 'C3M091',\n",
       " 'C3M095',\n",
       " 'C3M097',\n",
       " 'C3M108',\n",
       " 'C3M109',\n",
       " 'C3M149',\n",
       " 'C3M150',\n",
       " 'C3M152',\n",
       " 'C3M158',\n",
       " 'C3M159',\n",
       " 'C3M187',\n",
       " 'C3M206',\n",
       " 'C3M210',\n",
       " 'C3M219',\n",
       " 'C4M010',\n",
       " 'C5M008',\n",
       " 'C6M010',\n",
       " 'C6M011',\n",
       " 'C6M012',\n",
       " 'C6M021',\n",
       " 'C6M025',\n",
       " 'C6M030',\n",
       " 'C6M031',\n",
       " 'C6M033',\n",
       " 'C6M034',\n",
       " 'C6M041',\n",
       " 'C6M043',\n",
       " 'C6M045',\n",
       " 'C6M046',\n",
       " 'C6M047',\n",
       " 'C6M049',\n",
       " 'C6M072',\n",
       " 'C6M075',\n",
       " 'C6M078',\n",
       " 'C6M079',\n",
       " 'C6M088',\n",
       " 'C6M092',\n",
       " 'C6M094',\n",
       " 'C6M095',\n",
       " 'C6M097',\n",
       " 'C6M098',\n",
       " 'C7M008',\n",
       " 'C7M011',\n",
       " 'C7M014',\n",
       " 'C7M016',\n",
       " 'C7M017',\n",
       " 'C7M024',\n",
       " 'C7M025',\n",
       " 'C7M027',\n",
       " 'C7M030',\n",
       " 'Ritter',\n",
       " 'S01034',\n",
       " 'S01885',\n",
       " 'S1M045',\n",
       " 'S2M001A',\n",
       " 'S2M003',\n",
       " 'S2M015',\n",
       " 'S2M016',\n",
       " 'S2M017',\n",
       " 'SC0010',\n",
       " 'SC0023',\n",
       " 'SC0154',\n",
       " 'SC0157',\n",
       " 'SC0688',\n",
       " 'SC0812',\n",
       " 'SMISC-027',\n",
       " 'SMISC-079',\n",
       " 'SMISC-080'}"
      ]
     },
     "execution_count": 9,
     "metadata": {},
     "output_type": "execute_result"
    }
   ],
   "source": [
    "_,barriers = tracing.get_negative_barriers(\"3/5/21\")\n",
    "barriers"
   ]
  },
  {
   "cell_type": "code",
   "execution_count": 3,
   "id": "capable-programmer",
   "metadata": {
    "scrolled": true
   },
   "outputs": [],
   "source": [
    "import pandas as pd\n",
    "CAANs = pd.read_csv(\"AffectedBuildings0305.csv\")['CAANtext']\n",
    "caans = []"
   ]
  },
  {
   "cell_type": "code",
   "execution_count": 4,
   "id": "substantial-madagascar",
   "metadata": {
    "scrolled": true
   },
   "outputs": [
    {
     "data": {
      "text/plain": [
       "0"
      ]
     },
     "execution_count": 4,
     "metadata": {},
     "output_type": "execute_result"
    }
   ],
   "source": [
    "for ca in CAANs:\n",
    "    try:\n",
    "        caans.append(str(int(ca)))\n",
    "    except:\n",
    "        pass\n",
    "len(set(caans)-set(trace_res))"
   ]
  },
  {
   "cell_type": "code",
   "execution_count": 5,
   "id": "sharing-irish",
   "metadata": {},
   "outputs": [
    {
     "data": {
      "text/plain": [
       "set()"
      ]
     },
     "execution_count": 5,
     "metadata": {},
     "output_type": "execute_result"
    }
   ],
   "source": [
    "set(caans)-set(trace_res)"
   ]
  },
  {
   "cell_type": "code",
   "execution_count": 5,
   "id": "beginning-botswana",
   "metadata": {},
   "outputs": [
    {
     "data": {
      "text/plain": [
       "51"
      ]
     },
     "execution_count": 5,
     "metadata": {},
     "output_type": "execute_result"
    }
   ],
   "source": [
    "len(set(caans))"
   ]
  },
  {
   "cell_type": "code",
   "execution_count": 6,
   "id": "judicial-theory",
   "metadata": {},
   "outputs": [
    {
     "data": {
      "text/plain": [
       "set()"
      ]
     },
     "execution_count": 6,
     "metadata": {},
     "output_type": "execute_result"
    }
   ],
   "source": [
    "set(trace_res)-set(caans)"
   ]
  },
  {
   "cell_type": "code",
   "execution_count": 1,
   "id": "local-navigator",
   "metadata": {
    "scrolled": true
   },
   "outputs": [],
   "source": [
    "from layer_update import updateBuilding"
   ]
  },
  {
   "cell_type": "code",
   "execution_count": 2,
   "id": "novel-claim",
   "metadata": {
    "scrolled": true
   },
   "outputs": [
    {
     "name": "stdout",
     "output_type": "stream",
     "text": [
      "login success\n"
     ]
    },
    {
     "data": {
      "text/plain": [
       "(None, {'update_success_count': 602, 'update_fail_count': 0})"
      ]
     },
     "execution_count": 2,
     "metadata": {},
     "output_type": "execute_result"
    }
   ],
   "source": [
    "updateBuilding(\"4/6/21\",trace_mode=\"multi\")"
   ]
  },
  {
   "cell_type": "code",
   "execution_count": 28,
   "id": "musical-lambda",
   "metadata": {
    "scrolled": true
   },
   "outputs": [
    {
     "data": {
      "text/plain": [
       "71"
      ]
     },
     "execution_count": 28,
     "metadata": {},
     "output_type": "execute_result"
    }
   ],
   "source": [
    "len(tracing.mh_graph.barriers)"
   ]
  },
  {
   "cell_type": "code",
   "execution_count": null,
   "id": "maritime-breath",
   "metadata": {
    "scrolled": true
   },
   "outputs": [],
   "source": [
    "\"C3M095\""
   ]
  },
  {
   "cell_type": "code",
   "execution_count": 31,
   "id": "proud-child",
   "metadata": {
    "scrolled": false
   },
   "outputs": [
    {
     "data": {
      "text/plain": [
       "{'C1M031': -1,\n",
       " 'C1M057': -1,\n",
       " 'C1M059': -1,\n",
       " 'C1M060': 0,\n",
       " 'C2M015': 0,\n",
       " 'C3M039': -1,\n",
       " 'C3M041': -1,\n",
       " 'C3M042': 0,\n",
       " 'C3M149': -1,\n",
       " 'C3M150': 1,\n",
       " 'C3M152': 1,\n",
       " 'C3M158': 1,\n",
       " 'C3M159': -1,\n",
       " 'C3M097': -1,\n",
       " 'C3M099': -1,\n",
       " 'C3M091': -1,\n",
       " 'C3M026': -1,\n",
       " 'C3M027': -1,\n",
       " 'C3M008': -1,\n",
       " 'C3M010': -1,\n",
       " 'C3M022': -1,\n",
       " 'C6M021': -1,\n",
       " 'C6M025': -1,\n",
       " 'C6M088': 0,\n",
       " 'C6M092': -1,\n",
       " 'C6M094': 1,\n",
       " 'C6M095': 0,\n",
       " 'C6M097': 1,\n",
       " 'C6M098': 0,\n",
       " 'C6M075': 0,\n",
       " 'C6M072': -1,\n",
       " 'C6M079': -1,\n",
       " 'C6M078': -1,\n",
       " 'C6M099': 0,\n",
       " 'C6M031': -1,\n",
       " 'C6M033': -1,\n",
       " 'C6M034': -1,\n",
       " 'C6M041': -1,\n",
       " 'C6M042': -1,\n",
       " 'C6M043': 0,\n",
       " 'C6M045': 0,\n",
       " 'C6M046': -1,\n",
       " 'C6M047': -1,\n",
       " 'C6M049': -1,\n",
       " 'C6M030': -1,\n",
       " 'C6M012': -1,\n",
       " 'C6M011': -1,\n",
       " 'C6M010': -1,\n",
       " 'C7M005': 1,\n",
       " 'C7M008': 0,\n",
       " 'C7M012': 1,\n",
       " 'C7M017': 1,\n",
       " 'C7M024': -1,\n",
       " 'C7M025': -1,\n",
       " 'C7M027': 0,\n",
       " 'C7M030': -1,\n",
       " 'C7M031': 0,\n",
       " 'C7M032': -1,\n",
       " 'C1M161': -1,\n",
       " 'SMISC-079': -1,\n",
       " 'SMISC-080': 0,\n",
       " 'S2M015': -1,\n",
       " 'S2M016': -1,\n",
       " 'S2M017': -1,\n",
       " 'C1M021': 0,\n",
       " 'C1M106': -1,\n",
       " 'C1M107': -1,\n",
       " 'C1M024': 1,\n",
       " 'C1M022': -1,\n",
       " 'C1M039': -1,\n",
       " 'C2M008A': -1,\n",
       " 'C2M006A': -1,\n",
       " 'C2M003': -1,\n",
       " 'C5M008': -1,\n",
       " 'C2M005A': -1,\n",
       " 'C1M028B': -1,\n",
       " 'C1M049': -1,\n",
       " 'C1M053': 0,\n",
       " 'C1M053A': -1,\n",
       " 'C3M108': 0,\n",
       " 'C3M109': -1,\n",
       " 'C3M206': -1,\n",
       " 'C3M187': -1,\n",
       " 'C4M086': 0,\n",
       " 'C4M010': -1,\n",
       " 'SC0010': -1,\n",
       " 'S1M019': 0,\n",
       " 'SC0812': -1,\n",
       " 'SC0023': -1,\n",
       " 'S1M046': 0,\n",
       " 'S1M045': 0,\n",
       " 'Ritter': 0,\n",
       " 'S1M007': -1,\n",
       " 'S2M001A': -1,\n",
       " 'S2M003': -1,\n",
       " 'C3M049B': -1,\n",
       " 'C3M210': -1,\n",
       " 'C3M049A': 1,\n",
       " 'C2M032': 0,\n",
       " 'SOMB4': 0,\n",
       " 'C3M146': -1,\n",
       " 'C3M143': 0,\n",
       " 'C3M170': 0,\n",
       " 'SMISC-027': -1,\n",
       " 'C3M219': 1,\n",
       " 'SC0688': 0,\n",
       " 'S01885': -1,\n",
       " 'S01034': -1,\n",
       " 'SC0346': 0,\n",
       " 'SC0157': -1,\n",
       " 'SC0170': 0,\n",
       " 'SC0154': 0,\n",
       " '': 0}"
      ]
     },
     "execution_count": 31,
     "metadata": {},
     "output_type": "execute_result"
    }
   ],
   "source": [
    "tracing.get_manhole_map(\"2/27\")"
   ]
  },
  {
   "cell_type": "code",
   "execution_count": 3,
   "id": "competitive-facing",
   "metadata": {
    "scrolled": true
   },
   "outputs": [
    {
     "name": "stdout",
     "output_type": "stream",
     "text": [
      "<_io.TextIOWrapper name='xixi.csv' mode='w' encoding='UTF-8'>\n"
     ]
    }
   ],
   "source": [
    "with open('xixi.csv', 'w', newline='') as csvfile:\n",
    "    print(csvfile)"
   ]
  },
  {
   "cell_type": "code",
   "execution_count": 39,
   "id": "comic-breakfast",
   "metadata": {
    "scrolled": true
   },
   "outputs": [
    {
     "data": {
      "text/plain": [
       "'3/2'"
      ]
     },
     "execution_count": 39,
     "metadata": {},
     "output_type": "execute_result"
    }
   ],
   "source": [
    "theday = datetime.date.today()\n",
    "prevday = theday - datetime.timedelta(days=1)\n",
    "prevday.strftime('%-m/%-d')"
   ]
  },
  {
   "cell_type": "code",
   "execution_count": 67,
   "id": "adapted-badge",
   "metadata": {
    "scrolled": true
   },
   "outputs": [
    {
     "data": {
      "text/plain": [
       "'Mar2'"
      ]
     },
     "execution_count": 67,
     "metadata": {},
     "output_type": "execute_result"
    }
   ],
   "source": [
    "prevday.strftime('%b%-d')"
   ]
  },
  {
   "cell_type": "code",
   "execution_count": 79,
   "id": "burning-separate",
   "metadata": {
    "scrolled": true
   },
   "outputs": [
    {
     "data": {
      "text/plain": [
       "'Jan21'"
      ]
     },
     "execution_count": 79,
     "metadata": {},
     "output_type": "execute_result"
    }
   ],
   "source": [
    "datetime.datetime.strptime(\"01/21\",\"%m/%d\").strftime('%b%-d')"
   ]
  },
  {
   "cell_type": "code",
   "execution_count": 17,
   "id": "discrete-reconstruction",
   "metadata": {
    "scrolled": true
   },
   "outputs": [],
   "source": [
    "def get_spelling(n):\n",
    "    initial = {11: 'Eleven', 12: 'Twelve', \n",
    "               13:'Thirteen',14:'Forteen',\n",
    "               15:'Fifthteen',16:'Sixteen',\n",
    "               17:'Seventeen',18:'Eighteen',\n",
    "               19:'Nineteen'}\n",
    "    if n in initial:\n",
    "        return initial[n]\n",
    "    for power in range(4):\n",
    "        if 10 ** power >= num:\n",
    "            power -= 1\n",
    "            break\n",
    "        power += 1\n",
    "    lres = ''\n",
    "    tens = {2: 'Twenty', 3: 'Thirty', 4:'Forty',5:'Fifty',6:'Sixty',7:'Seventy',8:'Eighty',9:'Ninety'}\n",
    "    ones = {1: 'One', 2: 'Two', 3:'Three',4:'Four',5:'Five',6:'Six',7:'Seven',8:'Eight',9:'Nine'}\n",
    "    for lp in range(power, -1, -1):\n",
    "        ld = n // (10**lp)\n",
    "        if power == 2:\n",
    "            lres += ones[ld] + 'Hundred'\n",
    "        if power == 1:\n",
    "            if ld == 1:\n",
    "                lres += initial[ld]\n",
    "                break\n",
    "            else:\n",
    "                lres += tens[ld]\n",
    "        else:\n",
    "            lres += ones[ld]\n",
    "    return lres\n"
   ]
  },
  {
   "cell_type": "code",
   "execution_count": 18,
   "id": "elect-bankruptcy",
   "metadata": {
    "scrolled": true
   },
   "outputs": [
    {
     "ename": "NameError",
     "evalue": "name 'num' is not defined",
     "output_type": "error",
     "traceback": [
      "\u001b[0;31m---------------------------------------------------------------------------\u001b[0m",
      "\u001b[0;31mNameError\u001b[0m                                 Traceback (most recent call last)",
      "\u001b[0;32m<ipython-input-18-a5e9a5859b66>\u001b[0m in \u001b[0;36m<module>\u001b[0;34m\u001b[0m\n\u001b[0;32m----> 1\u001b[0;31m \u001b[0mget_spelling\u001b[0m\u001b[0;34m(\u001b[0m\u001b[0;36m21\u001b[0m\u001b[0;34m)\u001b[0m\u001b[0;34m\u001b[0m\u001b[0;34m\u001b[0m\u001b[0m\n\u001b[0m",
      "\u001b[0;32m<ipython-input-17-16b75388a4ed>\u001b[0m in \u001b[0;36mget_spelling\u001b[0;34m(n)\u001b[0m\n\u001b[1;32m      8\u001b[0m         \u001b[0;32mreturn\u001b[0m \u001b[0minitial\u001b[0m\u001b[0;34m[\u001b[0m\u001b[0mn\u001b[0m\u001b[0;34m]\u001b[0m\u001b[0;34m\u001b[0m\u001b[0;34m\u001b[0m\u001b[0m\n\u001b[1;32m      9\u001b[0m     \u001b[0;32mfor\u001b[0m \u001b[0mpower\u001b[0m \u001b[0;32min\u001b[0m \u001b[0mrange\u001b[0m\u001b[0;34m(\u001b[0m\u001b[0;36m4\u001b[0m\u001b[0;34m)\u001b[0m\u001b[0;34m:\u001b[0m\u001b[0;34m\u001b[0m\u001b[0;34m\u001b[0m\u001b[0m\n\u001b[0;32m---> 10\u001b[0;31m         \u001b[0;32mif\u001b[0m \u001b[0;36m10\u001b[0m \u001b[0;34m**\u001b[0m \u001b[0mpower\u001b[0m \u001b[0;34m>=\u001b[0m \u001b[0mnum\u001b[0m\u001b[0;34m:\u001b[0m\u001b[0;34m\u001b[0m\u001b[0;34m\u001b[0m\u001b[0m\n\u001b[0m\u001b[1;32m     11\u001b[0m             \u001b[0mpower\u001b[0m \u001b[0;34m-=\u001b[0m \u001b[0;36m1\u001b[0m\u001b[0;34m\u001b[0m\u001b[0;34m\u001b[0m\u001b[0m\n\u001b[1;32m     12\u001b[0m             \u001b[0;32mbreak\u001b[0m\u001b[0;34m\u001b[0m\u001b[0;34m\u001b[0m\u001b[0m\n",
      "\u001b[0;31mNameError\u001b[0m: name 'num' is not defined"
     ]
    }
   ],
   "source": []
  },
  {
   "cell_type": "code",
   "execution_count": 19,
   "id": "wrong-appreciation",
   "metadata": {
    "scrolled": true
   },
   "outputs": [],
   "source": [
    "def get_spelling(n):\n",
    "    initial = {11: 'Eleven', 12: 'Twelve', \n",
    "               13:'Thirteen',14:'Forteen',\n",
    "               15:'Fifthteen',16:'Sixteen',\n",
    "               17:'Seventeen',18:'Eighteen',\n",
    "               19:'Nineteen'}\n",
    "    if n in initial:\n",
    "        return initial[n]\n",
    "    for power in range(4):\n",
    "        if 10 ** power >= n:\n",
    "            power -= 1\n",
    "            break\n",
    "        power += 1\n",
    "    lres = ''\n",
    "    tens = {2: 'Twenty', 3: 'Thirty', 4:'Forty',5:'Fifty',6:'Sixty',7:'Seventy',8:'Eighty',9:'Ninety'}\n",
    "    ones = {1: 'One', 2: 'Two', 3:'Three',4:'Four',5:'Five',6:'Six',7:'Seven',8:'Eight',9:'Nine'}\n",
    "    for lp in range(power, -1, -1):\n",
    "        ld = n // (10**lp)\n",
    "        if power == 2:\n",
    "            lres += ones[ld] + 'Hundred'\n",
    "        if power == 1:\n",
    "            if ld == 1:\n",
    "                lres += initial[ld]\n",
    "                break\n",
    "            else:\n",
    "                lres += tens[ld]\n",
    "        else:\n",
    "            lres += ones[ld]\n",
    "    return lres"
   ]
  },
  {
   "cell_type": "code",
   "execution_count": 20,
   "id": "corrected-assignment",
   "metadata": {
    "scrolled": true
   },
   "outputs": [
    {
     "ename": "KeyError",
     "evalue": "21",
     "output_type": "error",
     "traceback": [
      "\u001b[0;31m---------------------------------------------------------------------------\u001b[0m",
      "\u001b[0;31mKeyError\u001b[0m                                  Traceback (most recent call last)",
      "\u001b[0;32m<ipython-input-20-a5e9a5859b66>\u001b[0m in \u001b[0;36m<module>\u001b[0;34m\u001b[0m\n\u001b[0;32m----> 1\u001b[0;31m \u001b[0mget_spelling\u001b[0m\u001b[0;34m(\u001b[0m\u001b[0;36m21\u001b[0m\u001b[0;34m)\u001b[0m\u001b[0;34m\u001b[0m\u001b[0;34m\u001b[0m\u001b[0m\n\u001b[0m",
      "\u001b[0;32m<ipython-input-19-54453be24c18>\u001b[0m in \u001b[0;36mget_spelling\u001b[0;34m(n)\u001b[0m\n\u001b[1;32m     24\u001b[0m                 \u001b[0;32mbreak\u001b[0m\u001b[0;34m\u001b[0m\u001b[0;34m\u001b[0m\u001b[0m\n\u001b[1;32m     25\u001b[0m             \u001b[0;32melse\u001b[0m\u001b[0;34m:\u001b[0m\u001b[0;34m\u001b[0m\u001b[0;34m\u001b[0m\u001b[0m\n\u001b[0;32m---> 26\u001b[0;31m                 \u001b[0mlres\u001b[0m \u001b[0;34m+=\u001b[0m \u001b[0mtens\u001b[0m\u001b[0;34m[\u001b[0m\u001b[0mld\u001b[0m\u001b[0;34m]\u001b[0m\u001b[0;34m\u001b[0m\u001b[0;34m\u001b[0m\u001b[0m\n\u001b[0m\u001b[1;32m     27\u001b[0m         \u001b[0;32melse\u001b[0m\u001b[0;34m:\u001b[0m\u001b[0;34m\u001b[0m\u001b[0;34m\u001b[0m\u001b[0m\n\u001b[1;32m     28\u001b[0m             \u001b[0mlres\u001b[0m \u001b[0;34m+=\u001b[0m \u001b[0mones\u001b[0m\u001b[0;34m[\u001b[0m\u001b[0mld\u001b[0m\u001b[0;34m]\u001b[0m\u001b[0;34m\u001b[0m\u001b[0;34m\u001b[0m\u001b[0m\n",
      "\u001b[0;31mKeyError\u001b[0m: 21"
     ]
    }
   ],
   "source": [
    "get_spelling(21)"
   ]
  },
  {
   "cell_type": "code",
   "execution_count": 52,
   "id": "offshore-paradise",
   "metadata": {
    "scrolled": true
   },
   "outputs": [],
   "source": [
    "def get_spelling(n):\n",
    "    initial = {10:'Ten',\n",
    "               11: 'Eleven', 12: 'Twelve', \n",
    "               13:'Thirteen',14:'Forteen',\n",
    "               15:'Fifthteen',16:'Sixteen',\n",
    "               17:'Seventeen',18:'Eighteen',\n",
    "               19:'Nineteen'}\n",
    "    if n in initial:\n",
    "        return initial[n]\n",
    "    for power in range(4):\n",
    "        if 10 ** power > n:\n",
    "            power -= 1\n",
    "            break\n",
    "        power += 1\n",
    "    lres = ''\n",
    "    tens = {2: 'Twenty', 3: 'Thirty', 4:'Forty',5:'Fifty',6:'Sixty',7:'Seventy',8:'Eighty',9:'Ninety'}\n",
    "    ones = {1: 'One', 2: 'Two', 3:'Three',4:'Four',5:'Five',6:'Six',7:'Seven',8:'Eight',9:'Nine'}\n",
    "    for lp in range(power, -1, -1):\n",
    "        ld = n // (10**lp)\n",
    "        if ld == 0: continue\n",
    "        if lp == 2:\n",
    "            lres += ones[ld] + ' Hundred'\n",
    "        elif lp == 1:\n",
    "            if ld == 1:\n",
    "                lres += \" \" + initial[ld]\n",
    "                break\n",
    "            else:\n",
    "                lres += \" \" + tens[ld]\n",
    "        else:\n",
    "            lres += \" \" + ones[ld]\n",
    "        n %= (10**lp)\n",
    "    return lres.strip()"
   ]
  },
  {
   "cell_type": "code",
   "execution_count": 53,
   "id": "fifth-xerox",
   "metadata": {
    "scrolled": true
   },
   "outputs": [
    {
     "data": {
      "text/plain": [
       "'One Hundred Twenty One'"
      ]
     },
     "execution_count": 53,
     "metadata": {},
     "output_type": "execute_result"
    }
   ],
   "source": [
    "get_spelling(121)"
   ]
  },
  {
   "cell_type": "code",
   "execution_count": 54,
   "id": "cooperative-evidence",
   "metadata": {
    "scrolled": true
   },
   "outputs": [
    {
     "data": {
      "text/plain": [
       "'One Hundred'"
      ]
     },
     "execution_count": 54,
     "metadata": {},
     "output_type": "execute_result"
    }
   ],
   "source": [
    "get_spelling(100)"
   ]
  },
  {
   "cell_type": "code",
   "execution_count": 55,
   "id": "enclosed-andrews",
   "metadata": {
    "scrolled": true
   },
   "outputs": [
    {
     "data": {
      "text/plain": [
       "'Twenty One'"
      ]
     },
     "execution_count": 55,
     "metadata": {},
     "output_type": "execute_result"
    }
   ],
   "source": [
    "get_spelling(21)"
   ]
  },
  {
   "cell_type": "code",
   "execution_count": 56,
   "id": "circular-brick",
   "metadata": {
    "scrolled": true
   },
   "outputs": [
    {
     "data": {
      "text/plain": [
       "'One Hundred One'"
      ]
     },
     "execution_count": 56,
     "metadata": {},
     "output_type": "execute_result"
    }
   ],
   "source": [
    "get_spelling(101)"
   ]
  },
  {
   "cell_type": "code",
   "execution_count": 61,
   "id": "legislative-religion",
   "metadata": {
    "scrolled": true
   },
   "outputs": [
    {
     "data": {
      "text/plain": [
       "1"
      ]
     },
     "execution_count": 61,
     "metadata": {},
     "output_type": "execute_result"
    }
   ],
   "source": [
    "import math\n",
    "int(math.log10(99))"
   ]
  },
  {
   "cell_type": "code",
   "execution_count": 64,
   "id": "comparable-dictionary",
   "metadata": {
    "scrolled": true
   },
   "outputs": [],
   "source": [
    "def get_spelling_v2(n):\n",
    "    initial = {10:'Ten',\n",
    "               11: 'Eleven', 12: 'Twelve', \n",
    "               13:'Thirteen',14:'Forteen',\n",
    "               15:'Fifthteen',16:'Sixteen',\n",
    "               17:'Seventeen',18:'Eighteen',\n",
    "               19:'Nineteen'}\n",
    "    if n in initial:\n",
    "        return initial[n]\n",
    "    power = int(math.log10(n))\n",
    "    lres = ''\n",
    "    tens = {2: 'Twenty', 3: 'Thirty', 4:'Forty',5:'Fifty',6:'Sixty',7:'Seventy',8:'Eighty',9:'Ninety'}\n",
    "    ones = {1: 'One', 2: 'Two', 3:'Three',4:'Four',5:'Five',6:'Six',7:'Seven',8:'Eight',9:'Nine'}\n",
    "    for lp in range(power, -1, -1):\n",
    "        ld = n // (10**lp)\n",
    "        if ld == 0: continue\n",
    "        if lp == 2:\n",
    "            lres += ones[ld] + ' Hundred'\n",
    "        elif lp == 1:\n",
    "            if ld == 1:\n",
    "                lres += \" \" + initial[ld]\n",
    "                break\n",
    "            else:\n",
    "                lres += \" \" + tens[ld]\n",
    "        else:\n",
    "            lres += \" \" + ones[ld]\n",
    "        n %= (10**lp)\n",
    "    return lres.strip()"
   ]
  },
  {
   "cell_type": "code",
   "execution_count": 65,
   "id": "stunning-sugar",
   "metadata": {
    "scrolled": true
   },
   "outputs": [
    {
     "data": {
      "text/plain": [
       "'One Hundred Twenty One'"
      ]
     },
     "execution_count": 65,
     "metadata": {},
     "output_type": "execute_result"
    }
   ],
   "source": [
    "get_spelling_v2(121)"
   ]
  },
  {
   "cell_type": "code",
   "execution_count": 66,
   "id": "consolidated-sunrise",
   "metadata": {
    "scrolled": true
   },
   "outputs": [
    {
     "data": {
      "text/plain": [
       "'One Hundred'"
      ]
     },
     "execution_count": 66,
     "metadata": {},
     "output_type": "execute_result"
    }
   ],
   "source": [
    "get_spelling(100)"
   ]
  },
  {
   "cell_type": "code",
   "execution_count": 67,
   "id": "fiscal-quest",
   "metadata": {
    "scrolled": true
   },
   "outputs": [
    {
     "data": {
      "text/plain": [
       "'Twenty One'"
      ]
     },
     "execution_count": 67,
     "metadata": {},
     "output_type": "execute_result"
    }
   ],
   "source": [
    "get_spelling(21)"
   ]
  },
  {
   "cell_type": "code",
   "execution_count": 68,
   "id": "nutritional-popularity",
   "metadata": {
    "scrolled": true
   },
   "outputs": [
    {
     "data": {
      "text/plain": [
       "'One Hundred One'"
      ]
     },
     "execution_count": 68,
     "metadata": {},
     "output_type": "execute_result"
    }
   ],
   "source": [
    "get_spelling(101)"
   ]
  },
  {
   "cell_type": "code",
   "execution_count": 10,
   "id": "worth-failing",
   "metadata": {
    "scrolled": true
   },
   "outputs": [
    {
     "data": {
      "text/plain": [
       "datetime.datetime(2021, 3, 1, 0, 0)"
      ]
     },
     "execution_count": 10,
     "metadata": {},
     "output_type": "execute_result"
    }
   ],
   "source": []
  },
  {
   "cell_type": "code",
   "execution_count": 9,
   "id": "direct-heading",
   "metadata": {},
   "outputs": [
    {
     "data": {
      "text/plain": [
       "datetime.datetime(2021, 3, 1, 0, 0)"
      ]
     },
     "execution_count": 9,
     "metadata": {},
     "output_type": "execute_result"
    }
   ],
   "source": []
  },
  {
   "cell_type": "markdown",
   "id": "5242e7ce",
   "metadata": {},
   "source": [
    "## DELETE!!!"
   ]
  },
  {
   "cell_type": "code",
   "execution_count": 49,
   "id": "utility-puzzle",
   "metadata": {},
   "outputs": [],
   "source": [
    "feature_layer_item = arcgis.contentSearch(arcgis.arc_username,\"historical_data_layer\")[0]\n",
    "flayers = feature_layer_item.layers\n",
    "flayer = flayers[0]\n",
    "features = arcgis.getFeatures(flayer)"
   ]
  },
  {
   "cell_type": "code",
   "execution_count": 48,
   "id": "a1238240",
   "metadata": {},
   "outputs": [
    {
     "data": {
      "text/plain": [
       "[<Item title:\"historical_data_layer\" type:Feature Layer Collection owner:yizong_DSC180A>]"
      ]
     },
     "execution_count": 48,
     "metadata": {},
     "output_type": "execute_result"
    }
   ],
   "source": [
    "arcgis.contentSearch(arcgis.arc_username,\"historical_data_layer\")"
   ]
  },
  {
   "cell_type": "code",
   "execution_count": 40,
   "id": "cd017862",
   "metadata": {},
   "outputs": [
    {
     "data": {
      "text/plain": [
       "1641686400000"
      ]
     },
     "execution_count": 40,
     "metadata": {},
     "output_type": "execute_result"
    }
   ],
   "source": [
    "features[-1].attributes['Date']"
   ]
  },
  {
   "cell_type": "code",
   "execution_count": 50,
   "id": "95c7b544",
   "metadata": {},
   "outputs": [],
   "source": [
    "object_ids = [str(f.attributes['OBJECTID_1']) for f in features[-602:]]\n",
    "object_ids_str = \",\".join(object_ids)"
   ]
  },
  {
   "cell_type": "code",
   "execution_count": 51,
   "id": "a4d2533f",
   "metadata": {},
   "outputs": [
    {
     "data": {
      "text/plain": [
       "'264279,264280,264281,264282,264283,264284,264285,264286,264287,264288,264289,264290,264291,264292,264293,264294,264295,264296,264297,264298,264299,264300,264301,264302,264303,264304,264305,264306,264307,264308,264309,264310,264311,264312,264313,264314,264315,264316,264317,264318,264319,264320,264321,264322,264323,264324,264325,264326,264327,264328,264329,264330,264331,264332,264333,264334,264335,264336,264337,264338,264339,264340,264341,264342,264343,264344,264345,264346,264347,264348,264349,264350,264351,264352,264353,264354,264355,264356,264357,264358,264359,264360,264361,264362,264363,264364,264365,264366,264367,264368,264369,264370,264371,264372,264373,264374,264375,264376,264377,264378,264379,264380,264381,264382,264383,264384,264385,264386,264387,264388,264389,264390,264391,264392,264393,264394,264395,264396,264397,264398,264399,264400,264401,264402,264403,264404,264405,264406,264407,264408,264409,264410,264411,264412,264413,264414,264415,264416,264417,264418,264419,264420,264421,264422,264423,264424,264425,264426,264427,264428,264429,264430,264431,264432,264433,264434,264435,264436,264437,264438,264439,264440,264441,264442,264443,264444,264445,264446,264447,264448,264449,264450,264451,264452,264453,264454,264455,264456,264457,264458,264459,264460,264461,264462,264463,264464,264465,264466,264467,264468,264469,264470,264471,264472,264473,264474,264475,264476,264477,264478,264479,264480,264481,264482,264483,264484,264485,264486,264487,264488,264489,264490,264491,264492,264493,264494,264495,264496,264497,264498,264499,264500,264501,264502,264503,264504,264505,264506,264507,264508,264509,264510,264511,264512,264513,264514,264515,264516,264517,264518,264519,264520,264521,264522,264523,264524,264525,264526,264527,264528,264529,264530,264531,264532,264533,264534,264535,264536,264537,264538,264539,264540,264541,264542,264543,264544,264545,264546,264547,264548,264549,264550,264551,264552,264553,264554,264555,264556,264557,264558,264559,264560,264561,264562,264563,264564,264565,264566,264567,264568,264569,264570,264571,264572,264573,264574,264575,264576,264577,264578,264579,264580,264581,264582,264583,264584,264585,264586,264587,264588,264589,264590,264591,264592,264593,264594,264595,264596,264597,264598,264599,264600,264601,264602,264603,264604,264605,264606,264607,264608,264609,264610,264611,264612,264613,264614,264615,264616,264617,264618,264619,264620,264621,264622,264623,264624,264625,264626,264627,264628,264629,264630,264631,264632,264633,264634,264635,264636,264637,264638,264639,264640,264641,264642,264643,264644,264645,264646,264647,264648,264649,264650,264651,264652,264653,264654,264655,264656,264657,264658,264659,264660,264661,264662,264663,264664,264665,264666,264667,264668,264669,264670,264671,264672,264673,264674,264675,264676,264677,264678,264679,264680,264681,264682,264683,264684,264685,264686,264687,264688,264689,264690,264691,264692,264693,264694,264695,264696,264697,264698,264699,264700,264701,264702,264703,264704,264705,264706,264707,264708,264709,264710,264711,264712,264713,264714,264715,264716,264717,264718,264719,264720,264721,264722,264723,264724,264725,264726,264727,264728,264729,264730,264731,264732,264733,264734,264735,264736,264737,264738,264739,264740,264741,264742,264743,264744,264745,264746,264747,264748,264749,264750,264751,264752,264753,264754,264755,264756,264757,264758,264759,264760,264761,264762,264763,264764,264765,264766,264767,264768,264769,264770,264771,264772,264773,264774,264775,264776,264777,264778,264779,264780,264781,264782,264783,264784,264785,264786,264787,264788,264789,264790,264791,264792,264793,264794,264795,264796,264797,264798,264799,264800,264801,264802,264803,264804,264805,264806,264807,264808,264809,264810,264811,264812,264813,264814,264815,264816,264817,264818,264819,264820,264821,264822,264823,264824,264825,264826,264827,264828,264829,264830,264831,264832,264833,264834,264835,264836,264837,264838,264839,264840,264841,264842,264843,264844,264845,264846,264847,264848,264849,264850,264851,264852,264853,264854,264855,264856,264857,264858,264859,264860,264861,264862,264863,264864,264865,264866,264867,264868,264869,264870,264871,264872,264873,264874,264875,264876,264877,264878,264879,264880'"
      ]
     },
     "execution_count": 51,
     "metadata": {},
     "output_type": "execute_result"
    }
   ],
   "source": [
    "object_ids_str"
   ]
  },
  {
   "cell_type": "code",
   "execution_count": 52,
   "id": "4e8c8a1b",
   "metadata": {},
   "outputs": [
    {
     "data": {
      "text/plain": [
       "{'addResults': [],\n",
       " 'updateResults': [],\n",
       " 'deleteResults': [{'objectId': 264279,\n",
       "   'uniqueId': 264279,\n",
       "   'globalId': None,\n",
       "   'success': True},\n",
       "  {'objectId': 264280, 'uniqueId': 264280, 'globalId': None, 'success': True},\n",
       "  {'objectId': 264281, 'uniqueId': 264281, 'globalId': None, 'success': True},\n",
       "  {'objectId': 264282, 'uniqueId': 264282, 'globalId': None, 'success': True},\n",
       "  {'objectId': 264283, 'uniqueId': 264283, 'globalId': None, 'success': True},\n",
       "  {'objectId': 264284, 'uniqueId': 264284, 'globalId': None, 'success': True},\n",
       "  {'objectId': 264285, 'uniqueId': 264285, 'globalId': None, 'success': True},\n",
       "  {'objectId': 264286, 'uniqueId': 264286, 'globalId': None, 'success': True},\n",
       "  {'objectId': 264287, 'uniqueId': 264287, 'globalId': None, 'success': True},\n",
       "  {'objectId': 264288, 'uniqueId': 264288, 'globalId': None, 'success': True},\n",
       "  {'objectId': 264289, 'uniqueId': 264289, 'globalId': None, 'success': True},\n",
       "  {'objectId': 264290, 'uniqueId': 264290, 'globalId': None, 'success': True},\n",
       "  {'objectId': 264291, 'uniqueId': 264291, 'globalId': None, 'success': True},\n",
       "  {'objectId': 264292, 'uniqueId': 264292, 'globalId': None, 'success': True},\n",
       "  {'objectId': 264293, 'uniqueId': 264293, 'globalId': None, 'success': True},\n",
       "  {'objectId': 264294, 'uniqueId': 264294, 'globalId': None, 'success': True},\n",
       "  {'objectId': 264295, 'uniqueId': 264295, 'globalId': None, 'success': True},\n",
       "  {'objectId': 264296, 'uniqueId': 264296, 'globalId': None, 'success': True},\n",
       "  {'objectId': 264297, 'uniqueId': 264297, 'globalId': None, 'success': True},\n",
       "  {'objectId': 264298, 'uniqueId': 264298, 'globalId': None, 'success': True},\n",
       "  {'objectId': 264299, 'uniqueId': 264299, 'globalId': None, 'success': True},\n",
       "  {'objectId': 264300, 'uniqueId': 264300, 'globalId': None, 'success': True},\n",
       "  {'objectId': 264301, 'uniqueId': 264301, 'globalId': None, 'success': True},\n",
       "  {'objectId': 264302, 'uniqueId': 264302, 'globalId': None, 'success': True},\n",
       "  {'objectId': 264303, 'uniqueId': 264303, 'globalId': None, 'success': True},\n",
       "  {'objectId': 264304, 'uniqueId': 264304, 'globalId': None, 'success': True},\n",
       "  {'objectId': 264305, 'uniqueId': 264305, 'globalId': None, 'success': True},\n",
       "  {'objectId': 264306, 'uniqueId': 264306, 'globalId': None, 'success': True},\n",
       "  {'objectId': 264307, 'uniqueId': 264307, 'globalId': None, 'success': True},\n",
       "  {'objectId': 264308, 'uniqueId': 264308, 'globalId': None, 'success': True},\n",
       "  {'objectId': 264309, 'uniqueId': 264309, 'globalId': None, 'success': True},\n",
       "  {'objectId': 264310, 'uniqueId': 264310, 'globalId': None, 'success': True},\n",
       "  {'objectId': 264311, 'uniqueId': 264311, 'globalId': None, 'success': True},\n",
       "  {'objectId': 264312, 'uniqueId': 264312, 'globalId': None, 'success': True},\n",
       "  {'objectId': 264313, 'uniqueId': 264313, 'globalId': None, 'success': True},\n",
       "  {'objectId': 264314, 'uniqueId': 264314, 'globalId': None, 'success': True},\n",
       "  {'objectId': 264315, 'uniqueId': 264315, 'globalId': None, 'success': True},\n",
       "  {'objectId': 264316, 'uniqueId': 264316, 'globalId': None, 'success': True},\n",
       "  {'objectId': 264317, 'uniqueId': 264317, 'globalId': None, 'success': True},\n",
       "  {'objectId': 264318, 'uniqueId': 264318, 'globalId': None, 'success': True},\n",
       "  {'objectId': 264319, 'uniqueId': 264319, 'globalId': None, 'success': True},\n",
       "  {'objectId': 264320, 'uniqueId': 264320, 'globalId': None, 'success': True},\n",
       "  {'objectId': 264321, 'uniqueId': 264321, 'globalId': None, 'success': True},\n",
       "  {'objectId': 264322, 'uniqueId': 264322, 'globalId': None, 'success': True},\n",
       "  {'objectId': 264323, 'uniqueId': 264323, 'globalId': None, 'success': True},\n",
       "  {'objectId': 264324, 'uniqueId': 264324, 'globalId': None, 'success': True},\n",
       "  {'objectId': 264325, 'uniqueId': 264325, 'globalId': None, 'success': True},\n",
       "  {'objectId': 264326, 'uniqueId': 264326, 'globalId': None, 'success': True},\n",
       "  {'objectId': 264327, 'uniqueId': 264327, 'globalId': None, 'success': True},\n",
       "  {'objectId': 264328, 'uniqueId': 264328, 'globalId': None, 'success': True},\n",
       "  {'objectId': 264329, 'uniqueId': 264329, 'globalId': None, 'success': True},\n",
       "  {'objectId': 264330, 'uniqueId': 264330, 'globalId': None, 'success': True},\n",
       "  {'objectId': 264331, 'uniqueId': 264331, 'globalId': None, 'success': True},\n",
       "  {'objectId': 264332, 'uniqueId': 264332, 'globalId': None, 'success': True},\n",
       "  {'objectId': 264333, 'uniqueId': 264333, 'globalId': None, 'success': True},\n",
       "  {'objectId': 264334, 'uniqueId': 264334, 'globalId': None, 'success': True},\n",
       "  {'objectId': 264335, 'uniqueId': 264335, 'globalId': None, 'success': True},\n",
       "  {'objectId': 264336, 'uniqueId': 264336, 'globalId': None, 'success': True},\n",
       "  {'objectId': 264337, 'uniqueId': 264337, 'globalId': None, 'success': True},\n",
       "  {'objectId': 264338, 'uniqueId': 264338, 'globalId': None, 'success': True},\n",
       "  {'objectId': 264339, 'uniqueId': 264339, 'globalId': None, 'success': True},\n",
       "  {'objectId': 264340, 'uniqueId': 264340, 'globalId': None, 'success': True},\n",
       "  {'objectId': 264341, 'uniqueId': 264341, 'globalId': None, 'success': True},\n",
       "  {'objectId': 264342, 'uniqueId': 264342, 'globalId': None, 'success': True},\n",
       "  {'objectId': 264343, 'uniqueId': 264343, 'globalId': None, 'success': True},\n",
       "  {'objectId': 264344, 'uniqueId': 264344, 'globalId': None, 'success': True},\n",
       "  {'objectId': 264345, 'uniqueId': 264345, 'globalId': None, 'success': True},\n",
       "  {'objectId': 264346, 'uniqueId': 264346, 'globalId': None, 'success': True},\n",
       "  {'objectId': 264347, 'uniqueId': 264347, 'globalId': None, 'success': True},\n",
       "  {'objectId': 264348, 'uniqueId': 264348, 'globalId': None, 'success': True},\n",
       "  {'objectId': 264349, 'uniqueId': 264349, 'globalId': None, 'success': True},\n",
       "  {'objectId': 264350, 'uniqueId': 264350, 'globalId': None, 'success': True},\n",
       "  {'objectId': 264351, 'uniqueId': 264351, 'globalId': None, 'success': True},\n",
       "  {'objectId': 264352, 'uniqueId': 264352, 'globalId': None, 'success': True},\n",
       "  {'objectId': 264353, 'uniqueId': 264353, 'globalId': None, 'success': True},\n",
       "  {'objectId': 264354, 'uniqueId': 264354, 'globalId': None, 'success': True},\n",
       "  {'objectId': 264355, 'uniqueId': 264355, 'globalId': None, 'success': True},\n",
       "  {'objectId': 264356, 'uniqueId': 264356, 'globalId': None, 'success': True},\n",
       "  {'objectId': 264357, 'uniqueId': 264357, 'globalId': None, 'success': True},\n",
       "  {'objectId': 264358, 'uniqueId': 264358, 'globalId': None, 'success': True},\n",
       "  {'objectId': 264359, 'uniqueId': 264359, 'globalId': None, 'success': True},\n",
       "  {'objectId': 264360, 'uniqueId': 264360, 'globalId': None, 'success': True},\n",
       "  {'objectId': 264361, 'uniqueId': 264361, 'globalId': None, 'success': True},\n",
       "  {'objectId': 264362, 'uniqueId': 264362, 'globalId': None, 'success': True},\n",
       "  {'objectId': 264363, 'uniqueId': 264363, 'globalId': None, 'success': True},\n",
       "  {'objectId': 264364, 'uniqueId': 264364, 'globalId': None, 'success': True},\n",
       "  {'objectId': 264365, 'uniqueId': 264365, 'globalId': None, 'success': True},\n",
       "  {'objectId': 264366, 'uniqueId': 264366, 'globalId': None, 'success': True},\n",
       "  {'objectId': 264367, 'uniqueId': 264367, 'globalId': None, 'success': True},\n",
       "  {'objectId': 264368, 'uniqueId': 264368, 'globalId': None, 'success': True},\n",
       "  {'objectId': 264369, 'uniqueId': 264369, 'globalId': None, 'success': True},\n",
       "  {'objectId': 264370, 'uniqueId': 264370, 'globalId': None, 'success': True},\n",
       "  {'objectId': 264371, 'uniqueId': 264371, 'globalId': None, 'success': True},\n",
       "  {'objectId': 264372, 'uniqueId': 264372, 'globalId': None, 'success': True},\n",
       "  {'objectId': 264373, 'uniqueId': 264373, 'globalId': None, 'success': True},\n",
       "  {'objectId': 264374, 'uniqueId': 264374, 'globalId': None, 'success': True},\n",
       "  {'objectId': 264375, 'uniqueId': 264375, 'globalId': None, 'success': True},\n",
       "  {'objectId': 264376, 'uniqueId': 264376, 'globalId': None, 'success': True},\n",
       "  {'objectId': 264377, 'uniqueId': 264377, 'globalId': None, 'success': True},\n",
       "  {'objectId': 264378, 'uniqueId': 264378, 'globalId': None, 'success': True},\n",
       "  {'objectId': 264379, 'uniqueId': 264379, 'globalId': None, 'success': True},\n",
       "  {'objectId': 264380, 'uniqueId': 264380, 'globalId': None, 'success': True},\n",
       "  {'objectId': 264381, 'uniqueId': 264381, 'globalId': None, 'success': True},\n",
       "  {'objectId': 264382, 'uniqueId': 264382, 'globalId': None, 'success': True},\n",
       "  {'objectId': 264383, 'uniqueId': 264383, 'globalId': None, 'success': True},\n",
       "  {'objectId': 264384, 'uniqueId': 264384, 'globalId': None, 'success': True},\n",
       "  {'objectId': 264385, 'uniqueId': 264385, 'globalId': None, 'success': True},\n",
       "  {'objectId': 264386, 'uniqueId': 264386, 'globalId': None, 'success': True},\n",
       "  {'objectId': 264387, 'uniqueId': 264387, 'globalId': None, 'success': True},\n",
       "  {'objectId': 264388, 'uniqueId': 264388, 'globalId': None, 'success': True},\n",
       "  {'objectId': 264389, 'uniqueId': 264389, 'globalId': None, 'success': True},\n",
       "  {'objectId': 264390, 'uniqueId': 264390, 'globalId': None, 'success': True},\n",
       "  {'objectId': 264391, 'uniqueId': 264391, 'globalId': None, 'success': True},\n",
       "  {'objectId': 264392, 'uniqueId': 264392, 'globalId': None, 'success': True},\n",
       "  {'objectId': 264393, 'uniqueId': 264393, 'globalId': None, 'success': True},\n",
       "  {'objectId': 264394, 'uniqueId': 264394, 'globalId': None, 'success': True},\n",
       "  {'objectId': 264395, 'uniqueId': 264395, 'globalId': None, 'success': True},\n",
       "  {'objectId': 264396, 'uniqueId': 264396, 'globalId': None, 'success': True},\n",
       "  {'objectId': 264397, 'uniqueId': 264397, 'globalId': None, 'success': True},\n",
       "  {'objectId': 264398, 'uniqueId': 264398, 'globalId': None, 'success': True},\n",
       "  {'objectId': 264399, 'uniqueId': 264399, 'globalId': None, 'success': True},\n",
       "  {'objectId': 264400, 'uniqueId': 264400, 'globalId': None, 'success': True},\n",
       "  {'objectId': 264401, 'uniqueId': 264401, 'globalId': None, 'success': True},\n",
       "  {'objectId': 264402, 'uniqueId': 264402, 'globalId': None, 'success': True},\n",
       "  {'objectId': 264403, 'uniqueId': 264403, 'globalId': None, 'success': True},\n",
       "  {'objectId': 264404, 'uniqueId': 264404, 'globalId': None, 'success': True},\n",
       "  {'objectId': 264405, 'uniqueId': 264405, 'globalId': None, 'success': True},\n",
       "  {'objectId': 264406, 'uniqueId': 264406, 'globalId': None, 'success': True},\n",
       "  {'objectId': 264407, 'uniqueId': 264407, 'globalId': None, 'success': True},\n",
       "  {'objectId': 264408, 'uniqueId': 264408, 'globalId': None, 'success': True},\n",
       "  {'objectId': 264409, 'uniqueId': 264409, 'globalId': None, 'success': True},\n",
       "  {'objectId': 264410, 'uniqueId': 264410, 'globalId': None, 'success': True},\n",
       "  {'objectId': 264411, 'uniqueId': 264411, 'globalId': None, 'success': True},\n",
       "  {'objectId': 264412, 'uniqueId': 264412, 'globalId': None, 'success': True},\n",
       "  {'objectId': 264413, 'uniqueId': 264413, 'globalId': None, 'success': True},\n",
       "  {'objectId': 264414, 'uniqueId': 264414, 'globalId': None, 'success': True},\n",
       "  {'objectId': 264415, 'uniqueId': 264415, 'globalId': None, 'success': True},\n",
       "  {'objectId': 264416, 'uniqueId': 264416, 'globalId': None, 'success': True},\n",
       "  {'objectId': 264417, 'uniqueId': 264417, 'globalId': None, 'success': True},\n",
       "  {'objectId': 264418, 'uniqueId': 264418, 'globalId': None, 'success': True},\n",
       "  {'objectId': 264419, 'uniqueId': 264419, 'globalId': None, 'success': True},\n",
       "  {'objectId': 264420, 'uniqueId': 264420, 'globalId': None, 'success': True},\n",
       "  {'objectId': 264421, 'uniqueId': 264421, 'globalId': None, 'success': True},\n",
       "  {'objectId': 264422, 'uniqueId': 264422, 'globalId': None, 'success': True},\n",
       "  {'objectId': 264423, 'uniqueId': 264423, 'globalId': None, 'success': True},\n",
       "  {'objectId': 264424, 'uniqueId': 264424, 'globalId': None, 'success': True},\n",
       "  {'objectId': 264425, 'uniqueId': 264425, 'globalId': None, 'success': True},\n",
       "  {'objectId': 264426, 'uniqueId': 264426, 'globalId': None, 'success': True},\n",
       "  {'objectId': 264427, 'uniqueId': 264427, 'globalId': None, 'success': True},\n",
       "  {'objectId': 264428, 'uniqueId': 264428, 'globalId': None, 'success': True},\n",
       "  {'objectId': 264429, 'uniqueId': 264429, 'globalId': None, 'success': True},\n",
       "  {'objectId': 264430, 'uniqueId': 264430, 'globalId': None, 'success': True},\n",
       "  {'objectId': 264431, 'uniqueId': 264431, 'globalId': None, 'success': True},\n",
       "  {'objectId': 264432, 'uniqueId': 264432, 'globalId': None, 'success': True},\n",
       "  {'objectId': 264433, 'uniqueId': 264433, 'globalId': None, 'success': True},\n",
       "  {'objectId': 264434, 'uniqueId': 264434, 'globalId': None, 'success': True},\n",
       "  {'objectId': 264435, 'uniqueId': 264435, 'globalId': None, 'success': True},\n",
       "  {'objectId': 264436, 'uniqueId': 264436, 'globalId': None, 'success': True},\n",
       "  {'objectId': 264437, 'uniqueId': 264437, 'globalId': None, 'success': True},\n",
       "  {'objectId': 264438, 'uniqueId': 264438, 'globalId': None, 'success': True},\n",
       "  {'objectId': 264439, 'uniqueId': 264439, 'globalId': None, 'success': True},\n",
       "  {'objectId': 264440, 'uniqueId': 264440, 'globalId': None, 'success': True},\n",
       "  {'objectId': 264441, 'uniqueId': 264441, 'globalId': None, 'success': True},\n",
       "  {'objectId': 264442, 'uniqueId': 264442, 'globalId': None, 'success': True},\n",
       "  {'objectId': 264443, 'uniqueId': 264443, 'globalId': None, 'success': True},\n",
       "  {'objectId': 264444, 'uniqueId': 264444, 'globalId': None, 'success': True},\n",
       "  {'objectId': 264445, 'uniqueId': 264445, 'globalId': None, 'success': True},\n",
       "  {'objectId': 264446, 'uniqueId': 264446, 'globalId': None, 'success': True},\n",
       "  {'objectId': 264447, 'uniqueId': 264447, 'globalId': None, 'success': True},\n",
       "  {'objectId': 264448, 'uniqueId': 264448, 'globalId': None, 'success': True},\n",
       "  {'objectId': 264449, 'uniqueId': 264449, 'globalId': None, 'success': True},\n",
       "  {'objectId': 264450, 'uniqueId': 264450, 'globalId': None, 'success': True},\n",
       "  {'objectId': 264451, 'uniqueId': 264451, 'globalId': None, 'success': True},\n",
       "  {'objectId': 264452, 'uniqueId': 264452, 'globalId': None, 'success': True},\n",
       "  {'objectId': 264453, 'uniqueId': 264453, 'globalId': None, 'success': True},\n",
       "  {'objectId': 264454, 'uniqueId': 264454, 'globalId': None, 'success': True},\n",
       "  {'objectId': 264455, 'uniqueId': 264455, 'globalId': None, 'success': True},\n",
       "  {'objectId': 264456, 'uniqueId': 264456, 'globalId': None, 'success': True},\n",
       "  {'objectId': 264457, 'uniqueId': 264457, 'globalId': None, 'success': True},\n",
       "  {'objectId': 264458, 'uniqueId': 264458, 'globalId': None, 'success': True},\n",
       "  {'objectId': 264459, 'uniqueId': 264459, 'globalId': None, 'success': True},\n",
       "  {'objectId': 264460, 'uniqueId': 264460, 'globalId': None, 'success': True},\n",
       "  {'objectId': 264461, 'uniqueId': 264461, 'globalId': None, 'success': True},\n",
       "  {'objectId': 264462, 'uniqueId': 264462, 'globalId': None, 'success': True},\n",
       "  {'objectId': 264463, 'uniqueId': 264463, 'globalId': None, 'success': True},\n",
       "  {'objectId': 264464, 'uniqueId': 264464, 'globalId': None, 'success': True},\n",
       "  {'objectId': 264465, 'uniqueId': 264465, 'globalId': None, 'success': True},\n",
       "  {'objectId': 264466, 'uniqueId': 264466, 'globalId': None, 'success': True},\n",
       "  {'objectId': 264467, 'uniqueId': 264467, 'globalId': None, 'success': True},\n",
       "  {'objectId': 264468, 'uniqueId': 264468, 'globalId': None, 'success': True},\n",
       "  {'objectId': 264469, 'uniqueId': 264469, 'globalId': None, 'success': True},\n",
       "  {'objectId': 264470, 'uniqueId': 264470, 'globalId': None, 'success': True},\n",
       "  {'objectId': 264471, 'uniqueId': 264471, 'globalId': None, 'success': True},\n",
       "  {'objectId': 264472, 'uniqueId': 264472, 'globalId': None, 'success': True},\n",
       "  {'objectId': 264473, 'uniqueId': 264473, 'globalId': None, 'success': True},\n",
       "  {'objectId': 264474, 'uniqueId': 264474, 'globalId': None, 'success': True},\n",
       "  {'objectId': 264475, 'uniqueId': 264475, 'globalId': None, 'success': True},\n",
       "  {'objectId': 264476, 'uniqueId': 264476, 'globalId': None, 'success': True},\n",
       "  {'objectId': 264477, 'uniqueId': 264477, 'globalId': None, 'success': True},\n",
       "  {'objectId': 264478, 'uniqueId': 264478, 'globalId': None, 'success': True},\n",
       "  {'objectId': 264479, 'uniqueId': 264479, 'globalId': None, 'success': True},\n",
       "  {'objectId': 264480, 'uniqueId': 264480, 'globalId': None, 'success': True},\n",
       "  {'objectId': 264481, 'uniqueId': 264481, 'globalId': None, 'success': True},\n",
       "  {'objectId': 264482, 'uniqueId': 264482, 'globalId': None, 'success': True},\n",
       "  {'objectId': 264483, 'uniqueId': 264483, 'globalId': None, 'success': True},\n",
       "  {'objectId': 264484, 'uniqueId': 264484, 'globalId': None, 'success': True},\n",
       "  {'objectId': 264485, 'uniqueId': 264485, 'globalId': None, 'success': True},\n",
       "  {'objectId': 264486, 'uniqueId': 264486, 'globalId': None, 'success': True},\n",
       "  {'objectId': 264487, 'uniqueId': 264487, 'globalId': None, 'success': True},\n",
       "  {'objectId': 264488, 'uniqueId': 264488, 'globalId': None, 'success': True},\n",
       "  {'objectId': 264489, 'uniqueId': 264489, 'globalId': None, 'success': True},\n",
       "  {'objectId': 264490, 'uniqueId': 264490, 'globalId': None, 'success': True},\n",
       "  {'objectId': 264491, 'uniqueId': 264491, 'globalId': None, 'success': True},\n",
       "  {'objectId': 264492, 'uniqueId': 264492, 'globalId': None, 'success': True},\n",
       "  {'objectId': 264493, 'uniqueId': 264493, 'globalId': None, 'success': True},\n",
       "  {'objectId': 264494, 'uniqueId': 264494, 'globalId': None, 'success': True},\n",
       "  {'objectId': 264495, 'uniqueId': 264495, 'globalId': None, 'success': True},\n",
       "  {'objectId': 264496, 'uniqueId': 264496, 'globalId': None, 'success': True},\n",
       "  {'objectId': 264497, 'uniqueId': 264497, 'globalId': None, 'success': True},\n",
       "  {'objectId': 264498, 'uniqueId': 264498, 'globalId': None, 'success': True},\n",
       "  {'objectId': 264499, 'uniqueId': 264499, 'globalId': None, 'success': True},\n",
       "  {'objectId': 264500, 'uniqueId': 264500, 'globalId': None, 'success': True},\n",
       "  {'objectId': 264501, 'uniqueId': 264501, 'globalId': None, 'success': True},\n",
       "  {'objectId': 264502, 'uniqueId': 264502, 'globalId': None, 'success': True},\n",
       "  {'objectId': 264503, 'uniqueId': 264503, 'globalId': None, 'success': True},\n",
       "  {'objectId': 264504, 'uniqueId': 264504, 'globalId': None, 'success': True},\n",
       "  {'objectId': 264505, 'uniqueId': 264505, 'globalId': None, 'success': True},\n",
       "  {'objectId': 264506, 'uniqueId': 264506, 'globalId': None, 'success': True},\n",
       "  {'objectId': 264507, 'uniqueId': 264507, 'globalId': None, 'success': True},\n",
       "  {'objectId': 264508, 'uniqueId': 264508, 'globalId': None, 'success': True},\n",
       "  {'objectId': 264509, 'uniqueId': 264509, 'globalId': None, 'success': True},\n",
       "  {'objectId': 264510, 'uniqueId': 264510, 'globalId': None, 'success': True},\n",
       "  {'objectId': 264511, 'uniqueId': 264511, 'globalId': None, 'success': True},\n",
       "  {'objectId': 264512, 'uniqueId': 264512, 'globalId': None, 'success': True},\n",
       "  {'objectId': 264513, 'uniqueId': 264513, 'globalId': None, 'success': True},\n",
       "  {'objectId': 264514, 'uniqueId': 264514, 'globalId': None, 'success': True},\n",
       "  {'objectId': 264515, 'uniqueId': 264515, 'globalId': None, 'success': True},\n",
       "  {'objectId': 264516, 'uniqueId': 264516, 'globalId': None, 'success': True},\n",
       "  {'objectId': 264517, 'uniqueId': 264517, 'globalId': None, 'success': True},\n",
       "  {'objectId': 264518, 'uniqueId': 264518, 'globalId': None, 'success': True},\n",
       "  {'objectId': 264519, 'uniqueId': 264519, 'globalId': None, 'success': True},\n",
       "  {'objectId': 264520, 'uniqueId': 264520, 'globalId': None, 'success': True},\n",
       "  {'objectId': 264521, 'uniqueId': 264521, 'globalId': None, 'success': True},\n",
       "  {'objectId': 264522, 'uniqueId': 264522, 'globalId': None, 'success': True},\n",
       "  {'objectId': 264523, 'uniqueId': 264523, 'globalId': None, 'success': True},\n",
       "  {'objectId': 264524, 'uniqueId': 264524, 'globalId': None, 'success': True},\n",
       "  {'objectId': 264525, 'uniqueId': 264525, 'globalId': None, 'success': True},\n",
       "  {'objectId': 264526, 'uniqueId': 264526, 'globalId': None, 'success': True},\n",
       "  {'objectId': 264527, 'uniqueId': 264527, 'globalId': None, 'success': True},\n",
       "  {'objectId': 264528, 'uniqueId': 264528, 'globalId': None, 'success': True},\n",
       "  {'objectId': 264529, 'uniqueId': 264529, 'globalId': None, 'success': True},\n",
       "  {'objectId': 264530, 'uniqueId': 264530, 'globalId': None, 'success': True},\n",
       "  {'objectId': 264531, 'uniqueId': 264531, 'globalId': None, 'success': True},\n",
       "  {'objectId': 264532, 'uniqueId': 264532, 'globalId': None, 'success': True},\n",
       "  {'objectId': 264533, 'uniqueId': 264533, 'globalId': None, 'success': True},\n",
       "  {'objectId': 264534, 'uniqueId': 264534, 'globalId': None, 'success': True},\n",
       "  {'objectId': 264535, 'uniqueId': 264535, 'globalId': None, 'success': True},\n",
       "  {'objectId': 264536, 'uniqueId': 264536, 'globalId': None, 'success': True},\n",
       "  {'objectId': 264537, 'uniqueId': 264537, 'globalId': None, 'success': True},\n",
       "  {'objectId': 264538, 'uniqueId': 264538, 'globalId': None, 'success': True},\n",
       "  {'objectId': 264539, 'uniqueId': 264539, 'globalId': None, 'success': True},\n",
       "  {'objectId': 264540, 'uniqueId': 264540, 'globalId': None, 'success': True},\n",
       "  {'objectId': 264541, 'uniqueId': 264541, 'globalId': None, 'success': True},\n",
       "  {'objectId': 264542, 'uniqueId': 264542, 'globalId': None, 'success': True},\n",
       "  {'objectId': 264543, 'uniqueId': 264543, 'globalId': None, 'success': True},\n",
       "  {'objectId': 264544, 'uniqueId': 264544, 'globalId': None, 'success': True},\n",
       "  {'objectId': 264545, 'uniqueId': 264545, 'globalId': None, 'success': True},\n",
       "  {'objectId': 264546, 'uniqueId': 264546, 'globalId': None, 'success': True},\n",
       "  {'objectId': 264547, 'uniqueId': 264547, 'globalId': None, 'success': True},\n",
       "  {'objectId': 264548, 'uniqueId': 264548, 'globalId': None, 'success': True},\n",
       "  {'objectId': 264549, 'uniqueId': 264549, 'globalId': None, 'success': True},\n",
       "  {'objectId': 264550, 'uniqueId': 264550, 'globalId': None, 'success': True},\n",
       "  {'objectId': 264551, 'uniqueId': 264551, 'globalId': None, 'success': True},\n",
       "  {'objectId': 264552, 'uniqueId': 264552, 'globalId': None, 'success': True},\n",
       "  {'objectId': 264553, 'uniqueId': 264553, 'globalId': None, 'success': True},\n",
       "  {'objectId': 264554, 'uniqueId': 264554, 'globalId': None, 'success': True},\n",
       "  {'objectId': 264555, 'uniqueId': 264555, 'globalId': None, 'success': True},\n",
       "  {'objectId': 264556, 'uniqueId': 264556, 'globalId': None, 'success': True},\n",
       "  {'objectId': 264557, 'uniqueId': 264557, 'globalId': None, 'success': True},\n",
       "  {'objectId': 264558, 'uniqueId': 264558, 'globalId': None, 'success': True},\n",
       "  {'objectId': 264559, 'uniqueId': 264559, 'globalId': None, 'success': True},\n",
       "  {'objectId': 264560, 'uniqueId': 264560, 'globalId': None, 'success': True},\n",
       "  {'objectId': 264561, 'uniqueId': 264561, 'globalId': None, 'success': True},\n",
       "  {'objectId': 264562, 'uniqueId': 264562, 'globalId': None, 'success': True},\n",
       "  {'objectId': 264563, 'uniqueId': 264563, 'globalId': None, 'success': True},\n",
       "  {'objectId': 264564, 'uniqueId': 264564, 'globalId': None, 'success': True},\n",
       "  {'objectId': 264565, 'uniqueId': 264565, 'globalId': None, 'success': True},\n",
       "  {'objectId': 264566, 'uniqueId': 264566, 'globalId': None, 'success': True},\n",
       "  {'objectId': 264567, 'uniqueId': 264567, 'globalId': None, 'success': True},\n",
       "  {'objectId': 264568, 'uniqueId': 264568, 'globalId': None, 'success': True},\n",
       "  {'objectId': 264569, 'uniqueId': 264569, 'globalId': None, 'success': True},\n",
       "  {'objectId': 264570, 'uniqueId': 264570, 'globalId': None, 'success': True},\n",
       "  {'objectId': 264571, 'uniqueId': 264571, 'globalId': None, 'success': True},\n",
       "  {'objectId': 264572, 'uniqueId': 264572, 'globalId': None, 'success': True},\n",
       "  {'objectId': 264573, 'uniqueId': 264573, 'globalId': None, 'success': True},\n",
       "  {'objectId': 264574, 'uniqueId': 264574, 'globalId': None, 'success': True},\n",
       "  {'objectId': 264575, 'uniqueId': 264575, 'globalId': None, 'success': True},\n",
       "  {'objectId': 264576, 'uniqueId': 264576, 'globalId': None, 'success': True},\n",
       "  {'objectId': 264577, 'uniqueId': 264577, 'globalId': None, 'success': True},\n",
       "  {'objectId': 264578, 'uniqueId': 264578, 'globalId': None, 'success': True},\n",
       "  {'objectId': 264579, 'uniqueId': 264579, 'globalId': None, 'success': True},\n",
       "  {'objectId': 264580, 'uniqueId': 264580, 'globalId': None, 'success': True},\n",
       "  {'objectId': 264581, 'uniqueId': 264581, 'globalId': None, 'success': True},\n",
       "  {'objectId': 264582, 'uniqueId': 264582, 'globalId': None, 'success': True},\n",
       "  {'objectId': 264583, 'uniqueId': 264583, 'globalId': None, 'success': True},\n",
       "  {'objectId': 264584, 'uniqueId': 264584, 'globalId': None, 'success': True},\n",
       "  {'objectId': 264585, 'uniqueId': 264585, 'globalId': None, 'success': True},\n",
       "  {'objectId': 264586, 'uniqueId': 264586, 'globalId': None, 'success': True},\n",
       "  {'objectId': 264587, 'uniqueId': 264587, 'globalId': None, 'success': True},\n",
       "  {'objectId': 264588, 'uniqueId': 264588, 'globalId': None, 'success': True},\n",
       "  {'objectId': 264589, 'uniqueId': 264589, 'globalId': None, 'success': True},\n",
       "  {'objectId': 264590, 'uniqueId': 264590, 'globalId': None, 'success': True},\n",
       "  {'objectId': 264591, 'uniqueId': 264591, 'globalId': None, 'success': True},\n",
       "  {'objectId': 264592, 'uniqueId': 264592, 'globalId': None, 'success': True},\n",
       "  {'objectId': 264593, 'uniqueId': 264593, 'globalId': None, 'success': True},\n",
       "  {'objectId': 264594, 'uniqueId': 264594, 'globalId': None, 'success': True},\n",
       "  {'objectId': 264595, 'uniqueId': 264595, 'globalId': None, 'success': True},\n",
       "  {'objectId': 264596, 'uniqueId': 264596, 'globalId': None, 'success': True},\n",
       "  {'objectId': 264597, 'uniqueId': 264597, 'globalId': None, 'success': True},\n",
       "  {'objectId': 264598, 'uniqueId': 264598, 'globalId': None, 'success': True},\n",
       "  {'objectId': 264599, 'uniqueId': 264599, 'globalId': None, 'success': True},\n",
       "  {'objectId': 264600, 'uniqueId': 264600, 'globalId': None, 'success': True},\n",
       "  {'objectId': 264601, 'uniqueId': 264601, 'globalId': None, 'success': True},\n",
       "  {'objectId': 264602, 'uniqueId': 264602, 'globalId': None, 'success': True},\n",
       "  {'objectId': 264603, 'uniqueId': 264603, 'globalId': None, 'success': True},\n",
       "  {'objectId': 264604, 'uniqueId': 264604, 'globalId': None, 'success': True},\n",
       "  {'objectId': 264605, 'uniqueId': 264605, 'globalId': None, 'success': True},\n",
       "  {'objectId': 264606, 'uniqueId': 264606, 'globalId': None, 'success': True},\n",
       "  {'objectId': 264607, 'uniqueId': 264607, 'globalId': None, 'success': True},\n",
       "  {'objectId': 264608, 'uniqueId': 264608, 'globalId': None, 'success': True},\n",
       "  {'objectId': 264609, 'uniqueId': 264609, 'globalId': None, 'success': True},\n",
       "  {'objectId': 264610, 'uniqueId': 264610, 'globalId': None, 'success': True},\n",
       "  {'objectId': 264611, 'uniqueId': 264611, 'globalId': None, 'success': True},\n",
       "  {'objectId': 264612, 'uniqueId': 264612, 'globalId': None, 'success': True},\n",
       "  {'objectId': 264613, 'uniqueId': 264613, 'globalId': None, 'success': True},\n",
       "  {'objectId': 264614, 'uniqueId': 264614, 'globalId': None, 'success': True},\n",
       "  {'objectId': 264615, 'uniqueId': 264615, 'globalId': None, 'success': True},\n",
       "  {'objectId': 264616, 'uniqueId': 264616, 'globalId': None, 'success': True},\n",
       "  {'objectId': 264617, 'uniqueId': 264617, 'globalId': None, 'success': True},\n",
       "  {'objectId': 264618, 'uniqueId': 264618, 'globalId': None, 'success': True},\n",
       "  {'objectId': 264619, 'uniqueId': 264619, 'globalId': None, 'success': True},\n",
       "  {'objectId': 264620, 'uniqueId': 264620, 'globalId': None, 'success': True},\n",
       "  {'objectId': 264621, 'uniqueId': 264621, 'globalId': None, 'success': True},\n",
       "  {'objectId': 264622, 'uniqueId': 264622, 'globalId': None, 'success': True},\n",
       "  {'objectId': 264623, 'uniqueId': 264623, 'globalId': None, 'success': True},\n",
       "  {'objectId': 264624, 'uniqueId': 264624, 'globalId': None, 'success': True},\n",
       "  {'objectId': 264625, 'uniqueId': 264625, 'globalId': None, 'success': True},\n",
       "  {'objectId': 264626, 'uniqueId': 264626, 'globalId': None, 'success': True},\n",
       "  {'objectId': 264627, 'uniqueId': 264627, 'globalId': None, 'success': True},\n",
       "  {'objectId': 264628, 'uniqueId': 264628, 'globalId': None, 'success': True},\n",
       "  {'objectId': 264629, 'uniqueId': 264629, 'globalId': None, 'success': True},\n",
       "  {'objectId': 264630, 'uniqueId': 264630, 'globalId': None, 'success': True},\n",
       "  {'objectId': 264631, 'uniqueId': 264631, 'globalId': None, 'success': True},\n",
       "  {'objectId': 264632, 'uniqueId': 264632, 'globalId': None, 'success': True},\n",
       "  {'objectId': 264633, 'uniqueId': 264633, 'globalId': None, 'success': True},\n",
       "  {'objectId': 264634, 'uniqueId': 264634, 'globalId': None, 'success': True},\n",
       "  {'objectId': 264635, 'uniqueId': 264635, 'globalId': None, 'success': True},\n",
       "  {'objectId': 264636, 'uniqueId': 264636, 'globalId': None, 'success': True},\n",
       "  {'objectId': 264637, 'uniqueId': 264637, 'globalId': None, 'success': True},\n",
       "  {'objectId': 264638, 'uniqueId': 264638, 'globalId': None, 'success': True},\n",
       "  {'objectId': 264639, 'uniqueId': 264639, 'globalId': None, 'success': True},\n",
       "  {'objectId': 264640, 'uniqueId': 264640, 'globalId': None, 'success': True},\n",
       "  {'objectId': 264641, 'uniqueId': 264641, 'globalId': None, 'success': True},\n",
       "  {'objectId': 264642, 'uniqueId': 264642, 'globalId': None, 'success': True},\n",
       "  {'objectId': 264643, 'uniqueId': 264643, 'globalId': None, 'success': True},\n",
       "  {'objectId': 264644, 'uniqueId': 264644, 'globalId': None, 'success': True},\n",
       "  {'objectId': 264645, 'uniqueId': 264645, 'globalId': None, 'success': True},\n",
       "  {'objectId': 264646, 'uniqueId': 264646, 'globalId': None, 'success': True},\n",
       "  {'objectId': 264647, 'uniqueId': 264647, 'globalId': None, 'success': True},\n",
       "  {'objectId': 264648, 'uniqueId': 264648, 'globalId': None, 'success': True},\n",
       "  {'objectId': 264649, 'uniqueId': 264649, 'globalId': None, 'success': True},\n",
       "  {'objectId': 264650, 'uniqueId': 264650, 'globalId': None, 'success': True},\n",
       "  {'objectId': 264651, 'uniqueId': 264651, 'globalId': None, 'success': True},\n",
       "  {'objectId': 264652, 'uniqueId': 264652, 'globalId': None, 'success': True},\n",
       "  {'objectId': 264653, 'uniqueId': 264653, 'globalId': None, 'success': True},\n",
       "  {'objectId': 264654, 'uniqueId': 264654, 'globalId': None, 'success': True},\n",
       "  {'objectId': 264655, 'uniqueId': 264655, 'globalId': None, 'success': True},\n",
       "  {'objectId': 264656, 'uniqueId': 264656, 'globalId': None, 'success': True},\n",
       "  {'objectId': 264657, 'uniqueId': 264657, 'globalId': None, 'success': True},\n",
       "  {'objectId': 264658, 'uniqueId': 264658, 'globalId': None, 'success': True},\n",
       "  {'objectId': 264659, 'uniqueId': 264659, 'globalId': None, 'success': True},\n",
       "  {'objectId': 264660, 'uniqueId': 264660, 'globalId': None, 'success': True},\n",
       "  {'objectId': 264661, 'uniqueId': 264661, 'globalId': None, 'success': True},\n",
       "  {'objectId': 264662, 'uniqueId': 264662, 'globalId': None, 'success': True},\n",
       "  {'objectId': 264663, 'uniqueId': 264663, 'globalId': None, 'success': True},\n",
       "  {'objectId': 264664, 'uniqueId': 264664, 'globalId': None, 'success': True},\n",
       "  {'objectId': 264665, 'uniqueId': 264665, 'globalId': None, 'success': True},\n",
       "  {'objectId': 264666, 'uniqueId': 264666, 'globalId': None, 'success': True},\n",
       "  {'objectId': 264667, 'uniqueId': 264667, 'globalId': None, 'success': True},\n",
       "  {'objectId': 264668, 'uniqueId': 264668, 'globalId': None, 'success': True},\n",
       "  {'objectId': 264669, 'uniqueId': 264669, 'globalId': None, 'success': True},\n",
       "  {'objectId': 264670, 'uniqueId': 264670, 'globalId': None, 'success': True},\n",
       "  {'objectId': 264671, 'uniqueId': 264671, 'globalId': None, 'success': True},\n",
       "  {'objectId': 264672, 'uniqueId': 264672, 'globalId': None, 'success': True},\n",
       "  {'objectId': 264673, 'uniqueId': 264673, 'globalId': None, 'success': True},\n",
       "  {'objectId': 264674, 'uniqueId': 264674, 'globalId': None, 'success': True},\n",
       "  {'objectId': 264675, 'uniqueId': 264675, 'globalId': None, 'success': True},\n",
       "  {'objectId': 264676, 'uniqueId': 264676, 'globalId': None, 'success': True},\n",
       "  {'objectId': 264677, 'uniqueId': 264677, 'globalId': None, 'success': True},\n",
       "  {'objectId': 264678, 'uniqueId': 264678, 'globalId': None, 'success': True},\n",
       "  {'objectId': 264679, 'uniqueId': 264679, 'globalId': None, 'success': True},\n",
       "  {'objectId': 264680, 'uniqueId': 264680, 'globalId': None, 'success': True},\n",
       "  {'objectId': 264681, 'uniqueId': 264681, 'globalId': None, 'success': True},\n",
       "  {'objectId': 264682, 'uniqueId': 264682, 'globalId': None, 'success': True},\n",
       "  {'objectId': 264683, 'uniqueId': 264683, 'globalId': None, 'success': True},\n",
       "  {'objectId': 264684, 'uniqueId': 264684, 'globalId': None, 'success': True},\n",
       "  {'objectId': 264685, 'uniqueId': 264685, 'globalId': None, 'success': True},\n",
       "  {'objectId': 264686, 'uniqueId': 264686, 'globalId': None, 'success': True},\n",
       "  {'objectId': 264687, 'uniqueId': 264687, 'globalId': None, 'success': True},\n",
       "  {'objectId': 264688, 'uniqueId': 264688, 'globalId': None, 'success': True},\n",
       "  {'objectId': 264689, 'uniqueId': 264689, 'globalId': None, 'success': True},\n",
       "  {'objectId': 264690, 'uniqueId': 264690, 'globalId': None, 'success': True},\n",
       "  {'objectId': 264691, 'uniqueId': 264691, 'globalId': None, 'success': True},\n",
       "  {'objectId': 264692, 'uniqueId': 264692, 'globalId': None, 'success': True},\n",
       "  {'objectId': 264693, 'uniqueId': 264693, 'globalId': None, 'success': True},\n",
       "  {'objectId': 264694, 'uniqueId': 264694, 'globalId': None, 'success': True},\n",
       "  {'objectId': 264695, 'uniqueId': 264695, 'globalId': None, 'success': True},\n",
       "  {'objectId': 264696, 'uniqueId': 264696, 'globalId': None, 'success': True},\n",
       "  {'objectId': 264697, 'uniqueId': 264697, 'globalId': None, 'success': True},\n",
       "  {'objectId': 264698, 'uniqueId': 264698, 'globalId': None, 'success': True},\n",
       "  {'objectId': 264699, 'uniqueId': 264699, 'globalId': None, 'success': True},\n",
       "  {'objectId': 264700, 'uniqueId': 264700, 'globalId': None, 'success': True},\n",
       "  {'objectId': 264701, 'uniqueId': 264701, 'globalId': None, 'success': True},\n",
       "  {'objectId': 264702, 'uniqueId': 264702, 'globalId': None, 'success': True},\n",
       "  {'objectId': 264703, 'uniqueId': 264703, 'globalId': None, 'success': True},\n",
       "  {'objectId': 264704, 'uniqueId': 264704, 'globalId': None, 'success': True},\n",
       "  {'objectId': 264705, 'uniqueId': 264705, 'globalId': None, 'success': True},\n",
       "  {'objectId': 264706, 'uniqueId': 264706, 'globalId': None, 'success': True},\n",
       "  {'objectId': 264707, 'uniqueId': 264707, 'globalId': None, 'success': True},\n",
       "  {'objectId': 264708, 'uniqueId': 264708, 'globalId': None, 'success': True},\n",
       "  {'objectId': 264709, 'uniqueId': 264709, 'globalId': None, 'success': True},\n",
       "  {'objectId': 264710, 'uniqueId': 264710, 'globalId': None, 'success': True},\n",
       "  {'objectId': 264711, 'uniqueId': 264711, 'globalId': None, 'success': True},\n",
       "  {'objectId': 264712, 'uniqueId': 264712, 'globalId': None, 'success': True},\n",
       "  {'objectId': 264713, 'uniqueId': 264713, 'globalId': None, 'success': True},\n",
       "  {'objectId': 264714, 'uniqueId': 264714, 'globalId': None, 'success': True},\n",
       "  {'objectId': 264715, 'uniqueId': 264715, 'globalId': None, 'success': True},\n",
       "  {'objectId': 264716, 'uniqueId': 264716, 'globalId': None, 'success': True},\n",
       "  {'objectId': 264717, 'uniqueId': 264717, 'globalId': None, 'success': True},\n",
       "  {'objectId': 264718, 'uniqueId': 264718, 'globalId': None, 'success': True},\n",
       "  {'objectId': 264719, 'uniqueId': 264719, 'globalId': None, 'success': True},\n",
       "  {'objectId': 264720, 'uniqueId': 264720, 'globalId': None, 'success': True},\n",
       "  {'objectId': 264721, 'uniqueId': 264721, 'globalId': None, 'success': True},\n",
       "  {'objectId': 264722, 'uniqueId': 264722, 'globalId': None, 'success': True},\n",
       "  {'objectId': 264723, 'uniqueId': 264723, 'globalId': None, 'success': True},\n",
       "  {'objectId': 264724, 'uniqueId': 264724, 'globalId': None, 'success': True},\n",
       "  {'objectId': 264725, 'uniqueId': 264725, 'globalId': None, 'success': True},\n",
       "  {'objectId': 264726, 'uniqueId': 264726, 'globalId': None, 'success': True},\n",
       "  {'objectId': 264727, 'uniqueId': 264727, 'globalId': None, 'success': True},\n",
       "  {'objectId': 264728, 'uniqueId': 264728, 'globalId': None, 'success': True},\n",
       "  {'objectId': 264729, 'uniqueId': 264729, 'globalId': None, 'success': True},\n",
       "  {'objectId': 264730, 'uniqueId': 264730, 'globalId': None, 'success': True},\n",
       "  {'objectId': 264731, 'uniqueId': 264731, 'globalId': None, 'success': True},\n",
       "  {'objectId': 264732, 'uniqueId': 264732, 'globalId': None, 'success': True},\n",
       "  {'objectId': 264733, 'uniqueId': 264733, 'globalId': None, 'success': True},\n",
       "  {'objectId': 264734, 'uniqueId': 264734, 'globalId': None, 'success': True},\n",
       "  {'objectId': 264735, 'uniqueId': 264735, 'globalId': None, 'success': True},\n",
       "  {'objectId': 264736, 'uniqueId': 264736, 'globalId': None, 'success': True},\n",
       "  {'objectId': 264737, 'uniqueId': 264737, 'globalId': None, 'success': True},\n",
       "  {'objectId': 264738, 'uniqueId': 264738, 'globalId': None, 'success': True},\n",
       "  {'objectId': 264739, 'uniqueId': 264739, 'globalId': None, 'success': True},\n",
       "  {'objectId': 264740, 'uniqueId': 264740, 'globalId': None, 'success': True},\n",
       "  {'objectId': 264741, 'uniqueId': 264741, 'globalId': None, 'success': True},\n",
       "  {'objectId': 264742, 'uniqueId': 264742, 'globalId': None, 'success': True},\n",
       "  {'objectId': 264743, 'uniqueId': 264743, 'globalId': None, 'success': True},\n",
       "  {'objectId': 264744, 'uniqueId': 264744, 'globalId': None, 'success': True},\n",
       "  {'objectId': 264745, 'uniqueId': 264745, 'globalId': None, 'success': True},\n",
       "  {'objectId': 264746, 'uniqueId': 264746, 'globalId': None, 'success': True},\n",
       "  {'objectId': 264747, 'uniqueId': 264747, 'globalId': None, 'success': True},\n",
       "  {'objectId': 264748, 'uniqueId': 264748, 'globalId': None, 'success': True},\n",
       "  {'objectId': 264749, 'uniqueId': 264749, 'globalId': None, 'success': True},\n",
       "  {'objectId': 264750, 'uniqueId': 264750, 'globalId': None, 'success': True},\n",
       "  {'objectId': 264751, 'uniqueId': 264751, 'globalId': None, 'success': True},\n",
       "  {'objectId': 264752, 'uniqueId': 264752, 'globalId': None, 'success': True},\n",
       "  {'objectId': 264753, 'uniqueId': 264753, 'globalId': None, 'success': True},\n",
       "  {'objectId': 264754, 'uniqueId': 264754, 'globalId': None, 'success': True},\n",
       "  {'objectId': 264755, 'uniqueId': 264755, 'globalId': None, 'success': True},\n",
       "  {'objectId': 264756, 'uniqueId': 264756, 'globalId': None, 'success': True},\n",
       "  {'objectId': 264757, 'uniqueId': 264757, 'globalId': None, 'success': True},\n",
       "  {'objectId': 264758, 'uniqueId': 264758, 'globalId': None, 'success': True},\n",
       "  {'objectId': 264759, 'uniqueId': 264759, 'globalId': None, 'success': True},\n",
       "  {'objectId': 264760, 'uniqueId': 264760, 'globalId': None, 'success': True},\n",
       "  {'objectId': 264761, 'uniqueId': 264761, 'globalId': None, 'success': True},\n",
       "  {'objectId': 264762, 'uniqueId': 264762, 'globalId': None, 'success': True},\n",
       "  {'objectId': 264763, 'uniqueId': 264763, 'globalId': None, 'success': True},\n",
       "  {'objectId': 264764, 'uniqueId': 264764, 'globalId': None, 'success': True},\n",
       "  {'objectId': 264765, 'uniqueId': 264765, 'globalId': None, 'success': True},\n",
       "  {'objectId': 264766, 'uniqueId': 264766, 'globalId': None, 'success': True},\n",
       "  {'objectId': 264767, 'uniqueId': 264767, 'globalId': None, 'success': True},\n",
       "  {'objectId': 264768, 'uniqueId': 264768, 'globalId': None, 'success': True},\n",
       "  {'objectId': 264769, 'uniqueId': 264769, 'globalId': None, 'success': True},\n",
       "  {'objectId': 264770, 'uniqueId': 264770, 'globalId': None, 'success': True},\n",
       "  {'objectId': 264771, 'uniqueId': 264771, 'globalId': None, 'success': True},\n",
       "  {'objectId': 264772, 'uniqueId': 264772, 'globalId': None, 'success': True},\n",
       "  {'objectId': 264773, 'uniqueId': 264773, 'globalId': None, 'success': True},\n",
       "  {'objectId': 264774, 'uniqueId': 264774, 'globalId': None, 'success': True},\n",
       "  {'objectId': 264775, 'uniqueId': 264775, 'globalId': None, 'success': True},\n",
       "  {'objectId': 264776, 'uniqueId': 264776, 'globalId': None, 'success': True},\n",
       "  {'objectId': 264777, 'uniqueId': 264777, 'globalId': None, 'success': True},\n",
       "  {'objectId': 264778, 'uniqueId': 264778, 'globalId': None, 'success': True},\n",
       "  {'objectId': 264779, 'uniqueId': 264779, 'globalId': None, 'success': True},\n",
       "  {'objectId': 264780, 'uniqueId': 264780, 'globalId': None, 'success': True},\n",
       "  {'objectId': 264781, 'uniqueId': 264781, 'globalId': None, 'success': True},\n",
       "  {'objectId': 264782, 'uniqueId': 264782, 'globalId': None, 'success': True},\n",
       "  {'objectId': 264783, 'uniqueId': 264783, 'globalId': None, 'success': True},\n",
       "  {'objectId': 264784, 'uniqueId': 264784, 'globalId': None, 'success': True},\n",
       "  {'objectId': 264785, 'uniqueId': 264785, 'globalId': None, 'success': True},\n",
       "  {'objectId': 264786, 'uniqueId': 264786, 'globalId': None, 'success': True},\n",
       "  {'objectId': 264787, 'uniqueId': 264787, 'globalId': None, 'success': True},\n",
       "  {'objectId': 264788, 'uniqueId': 264788, 'globalId': None, 'success': True},\n",
       "  {'objectId': 264789, 'uniqueId': 264789, 'globalId': None, 'success': True},\n",
       "  {'objectId': 264790, 'uniqueId': 264790, 'globalId': None, 'success': True},\n",
       "  {'objectId': 264791, 'uniqueId': 264791, 'globalId': None, 'success': True},\n",
       "  {'objectId': 264792, 'uniqueId': 264792, 'globalId': None, 'success': True},\n",
       "  {'objectId': 264793, 'uniqueId': 264793, 'globalId': None, 'success': True},\n",
       "  {'objectId': 264794, 'uniqueId': 264794, 'globalId': None, 'success': True},\n",
       "  {'objectId': 264795, 'uniqueId': 264795, 'globalId': None, 'success': True},\n",
       "  {'objectId': 264796, 'uniqueId': 264796, 'globalId': None, 'success': True},\n",
       "  {'objectId': 264797, 'uniqueId': 264797, 'globalId': None, 'success': True},\n",
       "  {'objectId': 264798, 'uniqueId': 264798, 'globalId': None, 'success': True},\n",
       "  {'objectId': 264799, 'uniqueId': 264799, 'globalId': None, 'success': True},\n",
       "  {'objectId': 264800, 'uniqueId': 264800, 'globalId': None, 'success': True},\n",
       "  {'objectId': 264801, 'uniqueId': 264801, 'globalId': None, 'success': True},\n",
       "  {'objectId': 264802, 'uniqueId': 264802, 'globalId': None, 'success': True},\n",
       "  {'objectId': 264803, 'uniqueId': 264803, 'globalId': None, 'success': True},\n",
       "  {'objectId': 264804, 'uniqueId': 264804, 'globalId': None, 'success': True},\n",
       "  {'objectId': 264805, 'uniqueId': 264805, 'globalId': None, 'success': True},\n",
       "  {'objectId': 264806, 'uniqueId': 264806, 'globalId': None, 'success': True},\n",
       "  {'objectId': 264807, 'uniqueId': 264807, 'globalId': None, 'success': True},\n",
       "  {'objectId': 264808, 'uniqueId': 264808, 'globalId': None, 'success': True},\n",
       "  {'objectId': 264809, 'uniqueId': 264809, 'globalId': None, 'success': True},\n",
       "  {'objectId': 264810, 'uniqueId': 264810, 'globalId': None, 'success': True},\n",
       "  {'objectId': 264811, 'uniqueId': 264811, 'globalId': None, 'success': True},\n",
       "  {'objectId': 264812, 'uniqueId': 264812, 'globalId': None, 'success': True},\n",
       "  {'objectId': 264813, 'uniqueId': 264813, 'globalId': None, 'success': True},\n",
       "  {'objectId': 264814, 'uniqueId': 264814, 'globalId': None, 'success': True},\n",
       "  {'objectId': 264815, 'uniqueId': 264815, 'globalId': None, 'success': True},\n",
       "  {'objectId': 264816, 'uniqueId': 264816, 'globalId': None, 'success': True},\n",
       "  {'objectId': 264817, 'uniqueId': 264817, 'globalId': None, 'success': True},\n",
       "  {'objectId': 264818, 'uniqueId': 264818, 'globalId': None, 'success': True},\n",
       "  {'objectId': 264819, 'uniqueId': 264819, 'globalId': None, 'success': True},\n",
       "  {'objectId': 264820, 'uniqueId': 264820, 'globalId': None, 'success': True},\n",
       "  {'objectId': 264821, 'uniqueId': 264821, 'globalId': None, 'success': True},\n",
       "  {'objectId': 264822, 'uniqueId': 264822, 'globalId': None, 'success': True},\n",
       "  {'objectId': 264823, 'uniqueId': 264823, 'globalId': None, 'success': True},\n",
       "  {'objectId': 264824, 'uniqueId': 264824, 'globalId': None, 'success': True},\n",
       "  {'objectId': 264825, 'uniqueId': 264825, 'globalId': None, 'success': True},\n",
       "  {'objectId': 264826, 'uniqueId': 264826, 'globalId': None, 'success': True},\n",
       "  {'objectId': 264827, 'uniqueId': 264827, 'globalId': None, 'success': True},\n",
       "  {'objectId': 264828, 'uniqueId': 264828, 'globalId': None, 'success': True},\n",
       "  {'objectId': 264829, 'uniqueId': 264829, 'globalId': None, 'success': True},\n",
       "  {'objectId': 264830, 'uniqueId': 264830, 'globalId': None, 'success': True},\n",
       "  {'objectId': 264831, 'uniqueId': 264831, 'globalId': None, 'success': True},\n",
       "  {'objectId': 264832, 'uniqueId': 264832, 'globalId': None, 'success': True},\n",
       "  {'objectId': 264833, 'uniqueId': 264833, 'globalId': None, 'success': True},\n",
       "  {'objectId': 264834, 'uniqueId': 264834, 'globalId': None, 'success': True},\n",
       "  {'objectId': 264835, 'uniqueId': 264835, 'globalId': None, 'success': True},\n",
       "  {'objectId': 264836, 'uniqueId': 264836, 'globalId': None, 'success': True},\n",
       "  {'objectId': 264837, 'uniqueId': 264837, 'globalId': None, 'success': True},\n",
       "  {'objectId': 264838, 'uniqueId': 264838, 'globalId': None, 'success': True},\n",
       "  {'objectId': 264839, 'uniqueId': 264839, 'globalId': None, 'success': True},\n",
       "  {'objectId': 264840, 'uniqueId': 264840, 'globalId': None, 'success': True},\n",
       "  {'objectId': 264841, 'uniqueId': 264841, 'globalId': None, 'success': True},\n",
       "  {'objectId': 264842, 'uniqueId': 264842, 'globalId': None, 'success': True},\n",
       "  {'objectId': 264843, 'uniqueId': 264843, 'globalId': None, 'success': True},\n",
       "  {'objectId': 264844, 'uniqueId': 264844, 'globalId': None, 'success': True},\n",
       "  {'objectId': 264845, 'uniqueId': 264845, 'globalId': None, 'success': True},\n",
       "  {'objectId': 264846, 'uniqueId': 264846, 'globalId': None, 'success': True},\n",
       "  {'objectId': 264847, 'uniqueId': 264847, 'globalId': None, 'success': True},\n",
       "  {'objectId': 264848, 'uniqueId': 264848, 'globalId': None, 'success': True},\n",
       "  {'objectId': 264849, 'uniqueId': 264849, 'globalId': None, 'success': True},\n",
       "  {'objectId': 264850, 'uniqueId': 264850, 'globalId': None, 'success': True},\n",
       "  {'objectId': 264851, 'uniqueId': 264851, 'globalId': None, 'success': True},\n",
       "  {'objectId': 264852, 'uniqueId': 264852, 'globalId': None, 'success': True},\n",
       "  {'objectId': 264853, 'uniqueId': 264853, 'globalId': None, 'success': True},\n",
       "  {'objectId': 264854, 'uniqueId': 264854, 'globalId': None, 'success': True},\n",
       "  {'objectId': 264855, 'uniqueId': 264855, 'globalId': None, 'success': True},\n",
       "  {'objectId': 264856, 'uniqueId': 264856, 'globalId': None, 'success': True},\n",
       "  {'objectId': 264857, 'uniqueId': 264857, 'globalId': None, 'success': True},\n",
       "  {'objectId': 264858, 'uniqueId': 264858, 'globalId': None, 'success': True},\n",
       "  {'objectId': 264859, 'uniqueId': 264859, 'globalId': None, 'success': True},\n",
       "  {'objectId': 264860, 'uniqueId': 264860, 'globalId': None, 'success': True},\n",
       "  {'objectId': 264861, 'uniqueId': 264861, 'globalId': None, 'success': True},\n",
       "  {'objectId': 264862, 'uniqueId': 264862, 'globalId': None, 'success': True},\n",
       "  {'objectId': 264863, 'uniqueId': 264863, 'globalId': None, 'success': True},\n",
       "  {'objectId': 264864, 'uniqueId': 264864, 'globalId': None, 'success': True},\n",
       "  {'objectId': 264865, 'uniqueId': 264865, 'globalId': None, 'success': True},\n",
       "  {'objectId': 264866, 'uniqueId': 264866, 'globalId': None, 'success': True},\n",
       "  {'objectId': 264867, 'uniqueId': 264867, 'globalId': None, 'success': True},\n",
       "  {'objectId': 264868, 'uniqueId': 264868, 'globalId': None, 'success': True},\n",
       "  {'objectId': 264869, 'uniqueId': 264869, 'globalId': None, 'success': True},\n",
       "  {'objectId': 264870, 'uniqueId': 264870, 'globalId': None, 'success': True},\n",
       "  {'objectId': 264871, 'uniqueId': 264871, 'globalId': None, 'success': True},\n",
       "  {'objectId': 264872, 'uniqueId': 264872, 'globalId': None, 'success': True},\n",
       "  {'objectId': 264873, 'uniqueId': 264873, 'globalId': None, 'success': True},\n",
       "  {'objectId': 264874, 'uniqueId': 264874, 'globalId': None, 'success': True},\n",
       "  {'objectId': 264875, 'uniqueId': 264875, 'globalId': None, 'success': True},\n",
       "  {'objectId': 264876, 'uniqueId': 264876, 'globalId': None, 'success': True},\n",
       "  {'objectId': 264877, 'uniqueId': 264877, 'globalId': None, 'success': True},\n",
       "  {'objectId': 264878, 'uniqueId': 264878, 'globalId': None, 'success': True},\n",
       "  {'objectId': 264879, 'uniqueId': 264879, 'globalId': None, 'success': True},\n",
       "  {'objectId': 264880, 'uniqueId': 264880, 'globalId': None, 'success': True}]}"
      ]
     },
     "execution_count": 52,
     "metadata": {},
     "output_type": "execute_result"
    }
   ],
   "source": [
    "delete_result = flayer.edit_features(deletes=str(object_ids))\n",
    "delete_result"
   ]
  },
  {
   "cell_type": "code",
   "execution_count": 35,
   "id": "6f76c0ae",
   "metadata": {},
   "outputs": [
    {
     "name": "stdout",
     "output_type": "stream",
     "text": [
      "login success\n"
     ]
    },
    {
     "ename": "DriverError",
     "evalue": "../data/network2/SewerPipe.shp: No such file or directory",
     "output_type": "error",
     "traceback": [
      "\u001b[0;31m---------------------------------------------------------------------------\u001b[0m",
      "\u001b[0;31mCPLE_OpenFailedError\u001b[0m                      Traceback (most recent call last)",
      "\u001b[0;32mfiona/_shim.pyx\u001b[0m in \u001b[0;36mfiona._shim.gdal_open_vector\u001b[0;34m()\u001b[0m\n",
      "\u001b[0;32mfiona/_err.pyx\u001b[0m in \u001b[0;36mfiona._err.exc_wrap_pointer\u001b[0;34m()\u001b[0m\n",
      "\u001b[0;31mCPLE_OpenFailedError\u001b[0m: ../data/network2/SewerPipe.shp: No such file or directory",
      "\nDuring handling of the above exception, another exception occurred:\n",
      "\u001b[0;31mDriverError\u001b[0m                               Traceback (most recent call last)",
      "\u001b[0;32m/var/folders/4l/nky0ggfx167ctfyh4534jv840000gn/T/ipykernel_5354/55083602.py\u001b[0m in \u001b[0;36m<module>\u001b[0;34m\u001b[0m\n\u001b[0;32m----> 1\u001b[0;31m \u001b[0mupdateBuilding\u001b[0m\u001b[0;34m(\u001b[0m\u001b[0;34m\"1/8/22\"\u001b[0m\u001b[0;34m,\u001b[0m\u001b[0;34m\"historical\"\u001b[0m\u001b[0;34m)\u001b[0m\u001b[0;34m\u001b[0m\u001b[0;34m\u001b[0m\u001b[0m\n\u001b[0m",
      "\u001b[0;32m~/Documents/GitHub/BuildingTrace/src/layer_update.py\u001b[0m in \u001b[0;36mupdateBuilding\u001b[0;34m(date_val, trace_mode)\u001b[0m\n\u001b[1;32m    102\u001b[0m         \u001b[0mstatus_sign_cnt\u001b[0m \u001b[0;34m=\u001b[0m \u001b[0;34m[\u001b[0m\u001b[0;36m0\u001b[0m\u001b[0;34m]\u001b[0m\u001b[0;34m*\u001b[0m\u001b[0mlen\u001b[0m\u001b[0;34m(\u001b[0m\u001b[0mfeatures\u001b[0m\u001b[0;34m)\u001b[0m\u001b[0;34m\u001b[0m\u001b[0;34m\u001b[0m\u001b[0m\n\u001b[1;32m    103\u001b[0m         \u001b[0;32mfor\u001b[0m \u001b[0mmode\u001b[0m\u001b[0;34m,\u001b[0m \u001b[0mname\u001b[0m \u001b[0;32min\u001b[0m \u001b[0mmode_col_map\u001b[0m\u001b[0;34m.\u001b[0m\u001b[0mitems\u001b[0m\u001b[0;34m(\u001b[0m\u001b[0;34m)\u001b[0m\u001b[0;34m:\u001b[0m\u001b[0;34m\u001b[0m\u001b[0;34m\u001b[0m\u001b[0m\n\u001b[0;32m--> 104\u001b[0;31m             \u001b[0merror_message\u001b[0m\u001b[0;34m,\u001b[0m \u001b[0maffected_buildings\u001b[0m \u001b[0;34m=\u001b[0m \u001b[0mautoPilot\u001b[0m\u001b[0;34m(\u001b[0m\u001b[0mdate_val\u001b[0m\u001b[0;34m,\u001b[0m\u001b[0mmode\u001b[0m\u001b[0;34m=\u001b[0m\u001b[0mmode\u001b[0m\u001b[0;34m)\u001b[0m\u001b[0;34m\u001b[0m\u001b[0;34m\u001b[0m\u001b[0m\n\u001b[0m\u001b[1;32m    105\u001b[0m             \u001b[0maffected_set\u001b[0m \u001b[0;34m=\u001b[0m \u001b[0mset\u001b[0m\u001b[0;34m(\u001b[0m\u001b[0maffected_buildings\u001b[0m\u001b[0;34m)\u001b[0m\u001b[0;34m\u001b[0m\u001b[0;34m\u001b[0m\u001b[0m\n\u001b[1;32m    106\u001b[0m             \u001b[0;32mif\u001b[0m \u001b[0;32mnot\u001b[0m \u001b[0merror_message\u001b[0m\u001b[0;34m:\u001b[0m\u001b[0;34m\u001b[0m\u001b[0;34m\u001b[0m\u001b[0m\n",
      "\u001b[0;32m~/Documents/GitHub/BuildingTrace/src/trace.py\u001b[0m in \u001b[0;36mautoPilot\u001b[0;34m(date_value, drop, mode)\u001b[0m\n\u001b[1;32m    127\u001b[0m         \u001b[0;32mreturn\u001b[0m \u001b[0;32mNone\u001b[0m\u001b[0;34m,\u001b[0m\u001b[0msaved_path\u001b[0m\u001b[0;34m\u001b[0m\u001b[0;34m\u001b[0m\u001b[0m\n\u001b[1;32m    128\u001b[0m \u001b[0;32mdef\u001b[0m \u001b[0mautoPilot\u001b[0m\u001b[0;34m(\u001b[0m\u001b[0mdate_value\u001b[0m\u001b[0;34m,\u001b[0m\u001b[0mdrop\u001b[0m\u001b[0;34m=\u001b[0m\u001b[0;32mFalse\u001b[0m\u001b[0;34m,\u001b[0m\u001b[0mmode\u001b[0m\u001b[0;34m=\u001b[0m\u001b[0;34m\"detection\"\u001b[0m\u001b[0;34m)\u001b[0m\u001b[0;34m:\u001b[0m\u001b[0;34m\u001b[0m\u001b[0;34m\u001b[0m\u001b[0m\n\u001b[0;32m--> 129\u001b[0;31m     \u001b[0mtracing\u001b[0m \u001b[0;34m=\u001b[0m \u001b[0mTrace\u001b[0m\u001b[0;34m(\u001b[0m\u001b[0;34m)\u001b[0m\u001b[0;34m\u001b[0m\u001b[0;34m\u001b[0m\u001b[0m\n\u001b[0m\u001b[1;32m    130\u001b[0m     \u001b[0;32mif\u001b[0m \u001b[0mdrop\u001b[0m\u001b[0;34m:\u001b[0m\u001b[0;34m\u001b[0m\u001b[0;34m\u001b[0m\u001b[0m\n\u001b[1;32m    131\u001b[0m         \u001b[0merror_message\u001b[0m\u001b[0;34m,\u001b[0m\u001b[0mpath\u001b[0m \u001b[0;34m=\u001b[0m \u001b[0mtracing\u001b[0m\u001b[0;34m.\u001b[0m\u001b[0mexportDropIn\u001b[0m\u001b[0;34m(\u001b[0m\u001b[0mdate_value\u001b[0m\u001b[0;34m)\u001b[0m\u001b[0;34m\u001b[0m\u001b[0;34m\u001b[0m\u001b[0m\n",
      "\u001b[0;32m~/Documents/GitHub/BuildingTrace/src/trace.py\u001b[0m in \u001b[0;36m__init__\u001b[0;34m(self)\u001b[0m\n\u001b[1;32m     18\u001b[0m     \u001b[0;32mdef\u001b[0m \u001b[0m__init__\u001b[0m\u001b[0;34m(\u001b[0m\u001b[0mself\u001b[0m\u001b[0;34m)\u001b[0m\u001b[0;34m:\u001b[0m\u001b[0;34m\u001b[0m\u001b[0;34m\u001b[0m\u001b[0m\n\u001b[1;32m     19\u001b[0m         \u001b[0mself\u001b[0m\u001b[0;34m.\u001b[0m\u001b[0mdf\u001b[0m \u001b[0;34m=\u001b[0m \u001b[0mself\u001b[0m\u001b[0;34m.\u001b[0m\u001b[0mread_sheet\u001b[0m\u001b[0;34m(\u001b[0m\u001b[0;34m)\u001b[0m\u001b[0;34m\u001b[0m\u001b[0;34m\u001b[0m\u001b[0m\n\u001b[0;32m---> 20\u001b[0;31m         \u001b[0mself\u001b[0m\u001b[0;34m.\u001b[0m\u001b[0mmh_graph\u001b[0m \u001b[0;34m=\u001b[0m \u001b[0mTraceGraph\u001b[0m\u001b[0;34m(\u001b[0m\u001b[0;34m)\u001b[0m\u001b[0;34m\u001b[0m\u001b[0;34m\u001b[0m\u001b[0m\n\u001b[0m\u001b[1;32m     21\u001b[0m     \u001b[0;32mdef\u001b[0m \u001b[0mread_sheet\u001b[0m\u001b[0;34m(\u001b[0m\u001b[0mself\u001b[0m\u001b[0;34m)\u001b[0m\u001b[0;34m:\u001b[0m\u001b[0;34m\u001b[0m\u001b[0;34m\u001b[0m\u001b[0m\n\u001b[1;32m     22\u001b[0m         \"\"\"\n",
      "\u001b[0;32m~/Documents/GitHub/BuildingTrace/src/traceGraph.py\u001b[0m in \u001b[0;36m__init__\u001b[0;34m(self)\u001b[0m\n\u001b[1;32m     24\u001b[0m         \u001b[0mself\u001b[0m\u001b[0;34m.\u001b[0m\u001b[0mmanhole_graph\u001b[0m \u001b[0;34m=\u001b[0m \u001b[0;32mNone\u001b[0m\u001b[0;34m\u001b[0m\u001b[0;34m\u001b[0m\u001b[0m\n\u001b[1;32m     25\u001b[0m         \u001b[0mself\u001b[0m\u001b[0;34m.\u001b[0m\u001b[0mtrace_graph\u001b[0m \u001b[0;34m=\u001b[0m \u001b[0;32mNone\u001b[0m\u001b[0;34m\u001b[0m\u001b[0;34m\u001b[0m\u001b[0m\n\u001b[0;32m---> 26\u001b[0;31m         \u001b[0mself\u001b[0m\u001b[0;34m.\u001b[0m\u001b[0mdf_pipe\u001b[0m \u001b[0;34m=\u001b[0m \u001b[0mgeopandas\u001b[0m\u001b[0;34m.\u001b[0m\u001b[0mread_file\u001b[0m\u001b[0;34m(\u001b[0m\u001b[0;34m'../data/network2/SewerPipe.shp'\u001b[0m\u001b[0;34m)\u001b[0m\u001b[0;34m\u001b[0m\u001b[0;34m\u001b[0m\u001b[0m\n\u001b[0m\u001b[1;32m     27\u001b[0m         \u001b[0mself\u001b[0m\u001b[0;34m.\u001b[0m\u001b[0mdf_manhole\u001b[0m \u001b[0;34m=\u001b[0m \u001b[0mgeopandas\u001b[0m\u001b[0;34m.\u001b[0m\u001b[0mread_file\u001b[0m\u001b[0;34m(\u001b[0m\u001b[0;34m'../data/network2/AllVertices0414.shp'\u001b[0m\u001b[0;34m)\u001b[0m\u001b[0;34m\u001b[0m\u001b[0;34m\u001b[0m\u001b[0m\n\u001b[1;32m     28\u001b[0m         \u001b[0mself\u001b[0m\u001b[0;34m.\u001b[0m\u001b[0mdf_buildings\u001b[0m\u001b[0;34m=\u001b[0m \u001b[0mgeopandas\u001b[0m\u001b[0;34m.\u001b[0m\u001b[0mread_file\u001b[0m\u001b[0;34m(\u001b[0m\u001b[0;34m'../data/network2/SewerBuildings.shp'\u001b[0m\u001b[0;34m)\u001b[0m\u001b[0;34m\u001b[0m\u001b[0;34m\u001b[0m\u001b[0m\n",
      "\u001b[0;32m~/opt/anaconda3/lib/python3.9/site-packages/geopandas/io/file.py\u001b[0m in \u001b[0;36m_read_file\u001b[0;34m(filename, bbox, mask, rows, **kwargs)\u001b[0m\n\u001b[1;32m    199\u001b[0m \u001b[0;34m\u001b[0m\u001b[0m\n\u001b[1;32m    200\u001b[0m     \u001b[0;32mwith\u001b[0m \u001b[0mfiona_env\u001b[0m\u001b[0;34m(\u001b[0m\u001b[0;34m)\u001b[0m\u001b[0;34m:\u001b[0m\u001b[0;34m\u001b[0m\u001b[0;34m\u001b[0m\u001b[0m\n\u001b[0;32m--> 201\u001b[0;31m         \u001b[0;32mwith\u001b[0m \u001b[0mreader\u001b[0m\u001b[0;34m(\u001b[0m\u001b[0mpath_or_bytes\u001b[0m\u001b[0;34m,\u001b[0m \u001b[0;34m**\u001b[0m\u001b[0mkwargs\u001b[0m\u001b[0;34m)\u001b[0m \u001b[0;32mas\u001b[0m \u001b[0mfeatures\u001b[0m\u001b[0;34m:\u001b[0m\u001b[0;34m\u001b[0m\u001b[0;34m\u001b[0m\u001b[0m\n\u001b[0m\u001b[1;32m    202\u001b[0m \u001b[0;34m\u001b[0m\u001b[0m\n\u001b[1;32m    203\u001b[0m             \u001b[0;31m# In a future Fiona release the crs attribute of features will\u001b[0m\u001b[0;34m\u001b[0m\u001b[0;34m\u001b[0m\u001b[0m\n",
      "\u001b[0;32m~/opt/anaconda3/lib/python3.9/site-packages/fiona/env.py\u001b[0m in \u001b[0;36mwrapper\u001b[0;34m(*args, **kwargs)\u001b[0m\n\u001b[1;32m    406\u001b[0m     \u001b[0;32mdef\u001b[0m \u001b[0mwrapper\u001b[0m\u001b[0;34m(\u001b[0m\u001b[0;34m*\u001b[0m\u001b[0margs\u001b[0m\u001b[0;34m,\u001b[0m \u001b[0;34m**\u001b[0m\u001b[0mkwargs\u001b[0m\u001b[0;34m)\u001b[0m\u001b[0;34m:\u001b[0m\u001b[0;34m\u001b[0m\u001b[0;34m\u001b[0m\u001b[0m\n\u001b[1;32m    407\u001b[0m         \u001b[0;32mif\u001b[0m \u001b[0mlocal\u001b[0m\u001b[0;34m.\u001b[0m\u001b[0m_env\u001b[0m\u001b[0;34m:\u001b[0m\u001b[0;34m\u001b[0m\u001b[0;34m\u001b[0m\u001b[0m\n\u001b[0;32m--> 408\u001b[0;31m             \u001b[0;32mreturn\u001b[0m \u001b[0mf\u001b[0m\u001b[0;34m(\u001b[0m\u001b[0;34m*\u001b[0m\u001b[0margs\u001b[0m\u001b[0;34m,\u001b[0m \u001b[0;34m**\u001b[0m\u001b[0mkwargs\u001b[0m\u001b[0;34m)\u001b[0m\u001b[0;34m\u001b[0m\u001b[0;34m\u001b[0m\u001b[0m\n\u001b[0m\u001b[1;32m    409\u001b[0m         \u001b[0;32melse\u001b[0m\u001b[0;34m:\u001b[0m\u001b[0;34m\u001b[0m\u001b[0;34m\u001b[0m\u001b[0m\n\u001b[1;32m    410\u001b[0m             \u001b[0;32mif\u001b[0m \u001b[0misinstance\u001b[0m\u001b[0;34m(\u001b[0m\u001b[0margs\u001b[0m\u001b[0;34m[\u001b[0m\u001b[0;36m0\u001b[0m\u001b[0;34m]\u001b[0m\u001b[0;34m,\u001b[0m \u001b[0mstr\u001b[0m\u001b[0;34m)\u001b[0m\u001b[0;34m:\u001b[0m\u001b[0;34m\u001b[0m\u001b[0;34m\u001b[0m\u001b[0m\n",
      "\u001b[0;32m~/opt/anaconda3/lib/python3.9/site-packages/fiona/__init__.py\u001b[0m in \u001b[0;36mopen\u001b[0;34m(fp, mode, driver, schema, crs, encoding, layer, vfs, enabled_drivers, crs_wkt, **kwargs)\u001b[0m\n\u001b[1;32m    254\u001b[0m \u001b[0;34m\u001b[0m\u001b[0m\n\u001b[1;32m    255\u001b[0m         \u001b[0;32mif\u001b[0m \u001b[0mmode\u001b[0m \u001b[0;32min\u001b[0m \u001b[0;34m(\u001b[0m\u001b[0;34m'a'\u001b[0m\u001b[0;34m,\u001b[0m \u001b[0;34m'r'\u001b[0m\u001b[0;34m)\u001b[0m\u001b[0;34m:\u001b[0m\u001b[0;34m\u001b[0m\u001b[0;34m\u001b[0m\u001b[0m\n\u001b[0;32m--> 256\u001b[0;31m             c = Collection(path, mode, driver=driver, encoding=encoding,\n\u001b[0m\u001b[1;32m    257\u001b[0m                            layer=layer, enabled_drivers=enabled_drivers, **kwargs)\n\u001b[1;32m    258\u001b[0m         \u001b[0;32melif\u001b[0m \u001b[0mmode\u001b[0m \u001b[0;34m==\u001b[0m \u001b[0;34m'w'\u001b[0m\u001b[0;34m:\u001b[0m\u001b[0;34m\u001b[0m\u001b[0;34m\u001b[0m\u001b[0m\n",
      "\u001b[0;32m~/opt/anaconda3/lib/python3.9/site-packages/fiona/collection.py\u001b[0m in \u001b[0;36m__init__\u001b[0;34m(self, path, mode, driver, schema, crs, encoding, layer, vsi, archive, enabled_drivers, crs_wkt, ignore_fields, ignore_geometry, **kwargs)\u001b[0m\n\u001b[1;32m    160\u001b[0m             \u001b[0;32mif\u001b[0m \u001b[0mself\u001b[0m\u001b[0;34m.\u001b[0m\u001b[0mmode\u001b[0m \u001b[0;34m==\u001b[0m \u001b[0;34m'r'\u001b[0m\u001b[0;34m:\u001b[0m\u001b[0;34m\u001b[0m\u001b[0;34m\u001b[0m\u001b[0m\n\u001b[1;32m    161\u001b[0m                 \u001b[0mself\u001b[0m\u001b[0;34m.\u001b[0m\u001b[0msession\u001b[0m \u001b[0;34m=\u001b[0m \u001b[0mSession\u001b[0m\u001b[0;34m(\u001b[0m\u001b[0;34m)\u001b[0m\u001b[0;34m\u001b[0m\u001b[0;34m\u001b[0m\u001b[0m\n\u001b[0;32m--> 162\u001b[0;31m                 \u001b[0mself\u001b[0m\u001b[0;34m.\u001b[0m\u001b[0msession\u001b[0m\u001b[0;34m.\u001b[0m\u001b[0mstart\u001b[0m\u001b[0;34m(\u001b[0m\u001b[0mself\u001b[0m\u001b[0;34m,\u001b[0m \u001b[0;34m**\u001b[0m\u001b[0mkwargs\u001b[0m\u001b[0;34m)\u001b[0m\u001b[0;34m\u001b[0m\u001b[0;34m\u001b[0m\u001b[0m\n\u001b[0m\u001b[1;32m    163\u001b[0m             \u001b[0;32melif\u001b[0m \u001b[0mself\u001b[0m\u001b[0;34m.\u001b[0m\u001b[0mmode\u001b[0m \u001b[0;32min\u001b[0m \u001b[0;34m(\u001b[0m\u001b[0;34m'a'\u001b[0m\u001b[0;34m,\u001b[0m \u001b[0;34m'w'\u001b[0m\u001b[0;34m)\u001b[0m\u001b[0;34m:\u001b[0m\u001b[0;34m\u001b[0m\u001b[0;34m\u001b[0m\u001b[0m\n\u001b[1;32m    164\u001b[0m                 \u001b[0mself\u001b[0m\u001b[0;34m.\u001b[0m\u001b[0msession\u001b[0m \u001b[0;34m=\u001b[0m \u001b[0mWritingSession\u001b[0m\u001b[0;34m(\u001b[0m\u001b[0;34m)\u001b[0m\u001b[0;34m\u001b[0m\u001b[0;34m\u001b[0m\u001b[0m\n",
      "\u001b[0;32mfiona/ogrext.pyx\u001b[0m in \u001b[0;36mfiona.ogrext.Session.start\u001b[0;34m()\u001b[0m\n",
      "\u001b[0;32mfiona/_shim.pyx\u001b[0m in \u001b[0;36mfiona._shim.gdal_open_vector\u001b[0;34m()\u001b[0m\n",
      "\u001b[0;31mDriverError\u001b[0m: ../data/network2/SewerPipe.shp: No such file or directory"
     ]
    }
   ],
   "source": [
    "updateBuilding(\"1/8/22\",\"historical\")"
   ]
  },
  {
   "cell_type": "code",
   "execution_count": null,
   "id": "8c873aba",
   "metadata": {},
   "outputs": [],
   "source": []
  }
 ],
 "metadata": {
  "kernelspec": {
   "display_name": "Python 3 (ipykernel)",
   "language": "python",
   "name": "python3"
  },
  "language_info": {
   "codemirror_mode": {
    "name": "ipython",
    "version": 3
   },
   "file_extension": ".py",
   "mimetype": "text/x-python",
   "name": "python",
   "nbconvert_exporter": "python",
   "pygments_lexer": "ipython3",
   "version": "3.9.7"
  }
 },
 "nbformat": 4,
 "nbformat_minor": 5
}
